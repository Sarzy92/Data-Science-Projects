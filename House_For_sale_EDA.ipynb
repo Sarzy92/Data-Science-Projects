{
  "nbformat": 4,
  "nbformat_minor": 0,
  "metadata": {
    "colab": {
      "name": "House For-sale EDA.ipynb",
      "provenance": [],
      "collapsed_sections": [],
      "authorship_tag": "ABX9TyNg0dgtqtzON93j75GdLUjA",
      "include_colab_link": true
    },
    "kernelspec": {
      "display_name": "Python 3",
      "name": "python3"
    }
  },
  "cells": [
    {
      "cell_type": "markdown",
      "metadata": {
        "id": "view-in-github",
        "colab_type": "text"
      },
      "source": [
        "<a href=\"https://colab.research.google.com/github/Sarzy92/Data-Science-Projects/blob/main/House_For_sale_EDA.ipynb\" target=\"_parent\"><img src=\"https://colab.research.google.com/assets/colab-badge.svg\" alt=\"Open In Colab\"/></a>"
      ]
    },
    {
      "cell_type": "code",
      "metadata": {
        "id": "1cIhXxmf8hJs"
      },
      "source": [
        "import pandas as pd\n",
        "import numpy as np\n",
        "import seaborn as sns\n",
        "%matplotlib inline\n",
        "from matplotlib import pyplot as plt\n",
        "import seaborn as sns\n",
        "from sklearn.impute import SimpleImputer\n",
        "from sklearn.preprocessing import LabelEncoder\n",
        "from sklearn.model_selection import train_test_split\n",
        "from sklearn.preprocessing import StandardScaler # Used for scaling of data\n",
        "import tensorflow as tf\n",
        "from tensorflow import keras\n",
        "from tensorflow.keras import layers\n",
        "from keras.models import Sequential\n",
        "from keras.layers import Dense, Dropout\n",
        "from keras import metrics\n",
        "import matplotlib.pyplot as plt\n",
        "from keras import backend as K\n",
        "from keras.wrappers.scikit_learn import KerasRegressor"
      ],
      "execution_count": null,
      "outputs": []
    },
    {
      "cell_type": "code",
      "metadata": {
        "colab": {
          "resources": {
            "http://localhost:8080/nbextensions/google.colab/files.js": {
              "data": "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",
              "headers": [
                [
                  "content-type",
                  "application/javascript"
                ]
              ],
              "ok": true,
              "status": 200,
              "status_text": ""
            }
          },
          "base_uri": "https://localhost:8080/",
          "height": 72
        },
        "id": "e9IXuE-x8kBf",
        "outputId": "65f865bd-ad7a-4409-c01f-e2f570e44dc8"
      },
      "source": [
        "from google.colab import files\r\n",
        "\r\n",
        "uploaded = files.upload()"
      ],
      "execution_count": null,
      "outputs": [
        {
          "output_type": "display_data",
          "data": {
            "text/html": [
              "\n",
              "     <input type=\"file\" id=\"files-65ef591d-877b-4970-babd-c2aeca3d9e3f\" name=\"files[]\" multiple disabled\n",
              "        style=\"border:none\" />\n",
              "     <output id=\"result-65ef591d-877b-4970-babd-c2aeca3d9e3f\">\n",
              "      Upload widget is only available when the cell has been executed in the\n",
              "      current browser session. Please rerun this cell to enable.\n",
              "      </output>\n",
              "      <script src=\"/nbextensions/google.colab/files.js\"></script> "
            ],
            "text/plain": [
              "<IPython.core.display.HTML object>"
            ]
          },
          "metadata": {
            "tags": []
          }
        },
        {
          "output_type": "stream",
          "text": [
            "Saving house_buy.csv to house_buy.csv\n"
          ],
          "name": "stdout"
        }
      ]
    },
    {
      "cell_type": "code",
      "metadata": {
        "id": "GPxLxZlA8llh"
      },
      "source": [
        "property1 = pd.read_csv('house_buy.csv')"
      ],
      "execution_count": null,
      "outputs": []
    },
    {
      "cell_type": "code",
      "metadata": {
        "colab": {
          "base_uri": "https://localhost:8080/",
          "height": 204
        },
        "id": "bUfJOO8o8lz9",
        "outputId": "a3ffd320-011f-4f05-88ba-5a11f5026ca5"
      },
      "source": [
        "# Displaying the first 5 records\r\n",
        "\r\n",
        "property1.head()"
      ],
      "execution_count": null,
      "outputs": [
        {
          "output_type": "execute_result",
          "data": {
            "text/html": [
              "<div>\n",
              "<style scoped>\n",
              "    .dataframe tbody tr th:only-of-type {\n",
              "        vertical-align: middle;\n",
              "    }\n",
              "\n",
              "    .dataframe tbody tr th {\n",
              "        vertical-align: top;\n",
              "    }\n",
              "\n",
              "    .dataframe thead th {\n",
              "        text-align: right;\n",
              "    }\n",
              "</style>\n",
              "<table border=\"1\" class=\"dataframe\">\n",
              "  <thead>\n",
              "    <tr style=\"text-align: right;\">\n",
              "      <th></th>\n",
              "      <th>Unnamed: 0</th>\n",
              "      <th>house-types</th>\n",
              "      <th>location</th>\n",
              "      <th>bedrooms</th>\n",
              "      <th>bathrooms</th>\n",
              "      <th>toilets</th>\n",
              "      <th>price</th>\n",
              "      <th>rent / sale</th>\n",
              "    </tr>\n",
              "  </thead>\n",
              "  <tbody>\n",
              "    <tr>\n",
              "      <th>0</th>\n",
              "      <td>0</td>\n",
              "      <td>DETACHED DUPLEX</td>\n",
              "      <td>Lekki</td>\n",
              "      <td>4</td>\n",
              "      <td>4</td>\n",
              "      <td>5</td>\n",
              "      <td>90,000,000</td>\n",
              "      <td>SALE</td>\n",
              "    </tr>\n",
              "    <tr>\n",
              "      <th>1</th>\n",
              "      <td>1</td>\n",
              "      <td>MINI FLAT</td>\n",
              "      <td>Lekki</td>\n",
              "      <td>1</td>\n",
              "      <td>1</td>\n",
              "      <td>2</td>\n",
              "      <td>25,000,000</td>\n",
              "      <td>SALE</td>\n",
              "    </tr>\n",
              "    <tr>\n",
              "      <th>2</th>\n",
              "      <td>2</td>\n",
              "      <td>TERRACED DUPLEX</td>\n",
              "      <td>Lekki</td>\n",
              "      <td>4</td>\n",
              "      <td>4</td>\n",
              "      <td>5</td>\n",
              "      <td>55,000,000</td>\n",
              "      <td>SALE</td>\n",
              "    </tr>\n",
              "    <tr>\n",
              "      <th>3</th>\n",
              "      <td>3</td>\n",
              "      <td>TERRACED DUPLEX</td>\n",
              "      <td>Lekki</td>\n",
              "      <td>4</td>\n",
              "      <td>4</td>\n",
              "      <td>5</td>\n",
              "      <td>45,000,000</td>\n",
              "      <td>SALE</td>\n",
              "    </tr>\n",
              "    <tr>\n",
              "      <th>4</th>\n",
              "      <td>4</td>\n",
              "      <td>TERRACED DUPLEX</td>\n",
              "      <td>Lekki</td>\n",
              "      <td>2</td>\n",
              "      <td>2</td>\n",
              "      <td>3</td>\n",
              "      <td>35,000,000</td>\n",
              "      <td>SALE</td>\n",
              "    </tr>\n",
              "  </tbody>\n",
              "</table>\n",
              "</div>"
            ],
            "text/plain": [
              "   Unnamed: 0      house-types location  ... toilets       price rent / sale\n",
              "0           0  DETACHED DUPLEX    Lekki  ...       5  90,000,000        SALE\n",
              "1           1        MINI FLAT    Lekki  ...       2  25,000,000        SALE\n",
              "2           2  TERRACED DUPLEX    Lekki  ...       5  55,000,000        SALE\n",
              "3           3  TERRACED DUPLEX    Lekki  ...       5  45,000,000        SALE\n",
              "4           4  TERRACED DUPLEX    Lekki  ...       3  35,000,000        SALE\n",
              "\n",
              "[5 rows x 8 columns]"
            ]
          },
          "metadata": {
            "tags": []
          },
          "execution_count": 4
        }
      ]
    },
    {
      "cell_type": "code",
      "metadata": {
        "colab": {
          "base_uri": "https://localhost:8080/"
        },
        "id": "ax24-8PY8l1p",
        "outputId": "057c9c41-89da-43df-c628-2a81eb3c3500"
      },
      "source": [
        "property1.shape"
      ],
      "execution_count": null,
      "outputs": [
        {
          "output_type": "execute_result",
          "data": {
            "text/plain": [
              "(11000, 8)"
            ]
          },
          "metadata": {
            "tags": []
          },
          "execution_count": 5
        }
      ]
    },
    {
      "cell_type": "code",
      "metadata": {
        "colab": {
          "base_uri": "https://localhost:8080/"
        },
        "id": "ee4ZINyt8l4N",
        "outputId": "07d4745e-6af9-4887-f589-5bdabb77eeb0"
      },
      "source": [
        "property1.info()"
      ],
      "execution_count": null,
      "outputs": [
        {
          "output_type": "stream",
          "text": [
            "<class 'pandas.core.frame.DataFrame'>\n",
            "RangeIndex: 11000 entries, 0 to 10999\n",
            "Data columns (total 8 columns):\n",
            " #   Column       Non-Null Count  Dtype \n",
            "---  ------       --------------  ----- \n",
            " 0   Unnamed: 0   11000 non-null  int64 \n",
            " 1   house-types  11000 non-null  object\n",
            " 2   location     11000 non-null  object\n",
            " 3   bedrooms     11000 non-null  object\n",
            " 4   bathrooms    11000 non-null  object\n",
            " 5   toilets      11000 non-null  object\n",
            " 6   price        11000 non-null  object\n",
            " 7   rent / sale  11000 non-null  object\n",
            "dtypes: int64(1), object(7)\n",
            "memory usage: 687.6+ KB\n"
          ],
          "name": "stdout"
        }
      ]
    },
    {
      "cell_type": "code",
      "metadata": {
        "colab": {
          "base_uri": "https://localhost:8080/"
        },
        "id": "3oGrfbeX8l7B",
        "outputId": "41d0d4f3-88f3-445d-b7f3-1c59dfe95d85"
      },
      "source": [
        "property1.columns"
      ],
      "execution_count": null,
      "outputs": [
        {
          "output_type": "execute_result",
          "data": {
            "text/plain": [
              "Index(['Unnamed: 0', 'house-types', 'location', 'bedrooms', 'bathrooms',\n",
              "       'toilets', 'price', 'rent / sale'],\n",
              "      dtype='object')"
            ]
          },
          "metadata": {
            "tags": []
          },
          "execution_count": 7
        }
      ]
    },
    {
      "cell_type": "markdown",
      "metadata": {
        "id": "z8rnPW9RABXl"
      },
      "source": [
        "\r\n",
        "```\r\n",
        "```\r\n",
        "# <h2> Cleaning The Dataset </h2>``\r\n",
        "<h3> - Getting unique values per attribute</h3>\r\n",
        "```"
      ]
    },
    {
      "cell_type": "code",
      "metadata": {
        "colab": {
          "base_uri": "https://localhost:8080/"
        },
        "id": "s5u9YXhg8mEh",
        "outputId": "190359f6-da3e-41f0-e35d-ca464d8d5586"
      },
      "source": [
        "print('House Types: ', property1['house-types'].unique(), '\\n')\r\n",
        "print('---------------------------------------------')\r\n",
        "print('Location: ', property1['location'].unique(), '\\n')\r\n",
        "print('---------------------------------------------')\r\n",
        "print('Number of Bedrooms: ', property1['bedrooms'].unique(), '\\n')\r\n",
        "print('---------------------------------------------')\r\n",
        "print('Number of Bathrooms: ', property1['bathrooms'].unique(), '\\n')\r\n",
        "print('---------------------------------------------')\r\n",
        "print('Number of Toilets: ', property1['toilets'].unique(), '\\n')\r\n",
        "print('---------------------------------------------')\r\n"
      ],
      "execution_count": null,
      "outputs": [
        {
          "output_type": "stream",
          "text": [
            "House Types:  ['DETACHED DUPLEX' 'MINI FLAT' 'TERRACED DUPLEX' 'SEMI DETACHED'\n",
            " 'BLOCKS OF' 'MASSIONETTE HOUSE' 'DETACHED BUNGALOW' 'HOUSE FOR'\n",
            " 'FOR RENT' 'TERRACED BUNGALOW' 'FLATS HOUSE' 'DUPLEX HOUSE' 'SALE'\n",
            " 'FLAT ' 'SELF CONTAIN' 'FOR SALE' 'BUNGALOW HOUSE'] \n",
            "\n",
            "---------------------------------------------\n",
            "Location:  ['Lekki' 'Ikoyi' 'Isolo' 'VGCLekki' 'AjahAjah' 'LafiajiLekki'\n",
            " 'TollgateLekki' 'Road.Lekki' 'Drive.Lekki' 'Ajah' 'Ilupeju' 'gateLekki'\n",
            " 'MegamoundLekki' 'Island' 'OrchidLekki' '...Ajah' 'lekkiLekki'\n",
            " 'ChevronLekki' 'Ikeja' 'ajahAjah' 'LekkiLekki' 'IkotaLekki' 'Ojodu'\n",
            " 'AxisLekki' 'CityAjah' 'roadLekki' '2' 'EstateLekki' 'Gbagada'\n",
            " 'RoadLekki' 'Maryland' 'Surulere' 'orchidLekki' 'IkoyiIkoyi' 'estateAjah'\n",
            " 'OsapaLekki' 'estateLekki' 'EstateAjah' 'estateIkoyi' 'SouthwestIkoyi'\n",
            " 'Ogba' '12Ketu' 'Egba' 'Yaba' 'Sangotedo' 'Odofin' 'wayIsolo' 'Ejigbo'\n",
            " 'Epe' 'Lagos.Ikeja' 'isoloIsolo' 'AlapareKetu' 'LagosIkoyi' 'okearoIju'\n",
            " 'ISHAGAIju' 'Iju' 'roadIsolo' 'Ipaja' 'estateIju' 'Alimosho' 'AjahLekki'\n",
            " 'Ikosi' 'Mushin' 'Ikorodu' 'driveOgba' 'Igando' 'gate.Lekki' 'HomesLekki'\n",
            " 'Camp' 'routeLekki' 'MarylandMaryland' '1Lekki' 'RightLekki' '1Ojodu'\n",
            " 'PeninsulaAjah' 'Lekki.Lekki' 'IdadoLekki' 'RoadIkoyi' 'Estate)Lekki'\n",
            " 'OgbaIkeja' 'Ogudu' 'OsborneIkoyi' 'LagosAjah' 'Right.Lekki' 'WayLekki'\n",
            " 'efonLekki' 'ElegushiLekki' 'ResidencesLekki' 'LBSAjah' 'GateLekki'\n",
            " 'LekkiAjah' 'BeachLekki' 'bridgeAjah' 'IkateLekki' '-Lekki' '2Ketu'\n",
            " 'Shomolu' 'osapaLekki' 'GardensLekki' '...Ikoyi' 'CountyLekki'\n",
            " 'lagosLekki' 'IslandIkoyi' '-Ajah' 'lekkiAjah' 'Idimu' 'Apapa'\n",
            " 'SangotedoSangotedo' 'AreaLekki' 'Owode' 'Ajah-Lekki.Ajah' 'Okota'\n",
            " 'StrShomolu' 'Agege' 'ElliotIju' 'Ketu' 'environsOjodu' 'Ojo'\n",
            " 'idadoLekki' 'ishagaIju' 'IkosiIkorodu' 'IkejaOgba' 'roadIkeja'\n",
            " 'OregunIkeja' 'ijuIju' 'VgcLekki' 'wayOkota' '2Ikeja' 'EstateGbagada'\n",
            " 'roadYaba' 'ikejaOjodu' 'wayIkoyi' 'roadIkoyi' 'MacPhersonIkoyi'\n",
            " 'busstopIkeja' 'streetIkoyi' 'JonesIkeja' 'OlokonlaAjah' 'AgegeAgege'\n",
            " 'ikejaOgba' 'closeSurulere' 'ShopriteMaryland' 'G.R.AApapa' 'OgbaOgba'\n",
            " 'ipajaAlimosho' 'expresswayAjah' 'EstateIkoyi' '2Ikoyi' 'AgungiLekki'\n",
            " 'sideGbagada' 'GRAIkeja' 'Maryland.Maryland' 'driveLekki' 'MansionIkoyi'\n",
            " '2Lekki' 'Ifako-IjaiyeIju' '1Yaba' 'ikateAjah' 'roadAjah'\n",
            " 'AlimoshoAlimosho' 'Ojota' 'AgungiAjah' 'Yaba.Yaba' '.Lekki' 'ketuKetu'\n",
            " 'areaOjodu' 'Orile' 'Lagos.Ikoyi' 'WayYaba' 'LagosLekki' '...Gbagada'\n",
            " 'Road.Ojodu' 'sangotedoSangotedo' 'AboruIpaja' 'avenueEjigbo' '....Lekki'\n",
            " '....Maryland' 'ikejaIkeja' 'RoadEjigbo' 'estateAlimosho' '..Ajah'\n",
            " 'Oshodi' 'MILE12Ketu' 'StreetSurulere' 'villageIkeja' '...Alimosho'\n",
            " 'roadAlimosho' 'AlapereKetu' '-Ilupeju' 'iraOgba' 'Arepo' '-Ikorodu'\n",
            " 'AreaIkorodu' '...Lekki' 'WayIkeja' 'wayIkeja' 'anifowosheIkeja'\n",
            " '..Lekki' '..Surulere' 'bus-stop.Ikorodu' 'COMMANDIpaja' '-Okota'\n",
            " 'STOPIkorodu' '-Alimosho' '-Sangotedo' '-Maryland' 'obaAgege'\n",
            " 'estateIkorodu'\n",
            " 'https://nigeriapropertycentre.com/for-sale/houses/detached-duplexes/lagos/lekki/612705-a-newly-built-luxury-5bedroom-detached-duplexLekki'\n",
            " '1Ikeja' 'roadKetu' 'WayIsolo' 'homesLekki' 'aboutLekki' 'oke-iraAjah'\n",
            " 'LagosGbagada' 'Expressway.Arepo' 'WemabodIkeja' 'lagosAjah' '-Yaba'\n",
            " '-Ojo' 'ExpresswayLekki' 'lafiajiLekki' 'EstateOshodi' '2shangishaOjodu'\n",
            " 'isheriOjodu' 'ShopRiteMaryland' 'EstateIlupeju' 'Badagry' '-Ikoyi'\n",
            " 'Road.Ipaja' 'CommandIpaja' 'estateIlupeju' '..Okota' 'areaIkorodu'\n",
            " 'EstateOjodu' 'eyitaIkorodu' 'CloseOjodu' 'alogbaIkorodu' 'BogijeAjah'\n",
            " 'expresswayLekki' '-Ojodu' '....Ajah' 'hostelOjo' '..Yaba' '-Gbagada'\n",
            " 'crescentGbagada' 'gardensAjah' '..Maryland' 'roadOgba' '-Ipaja'\n",
            " 'LagosSurulere' '2Ojodu' 'ElepeIkorodu' 'HarunaOgba' 'LagosKetu'\n",
            " 'DriveLekki' '..Ojodu' '.Ikoyi' 'EstateMaryland' 'roundaboutLekki'\n",
            " 'areaAjah' 'estateIkeja' 'Adeniran' 'wayLekki' 'BayLekki' 'MegamondLekki'\n",
            " 'Agungi/jakandeLekki' 'OlogoloLekki' 'IdadaLekki' 'Alpha' 'Off'\n",
            " 'ForeshoreLekki' 'EleganzaLekki' 'RouteLekki' 'SangotedoAjah' 'ViewLekki'\n",
            " 'SurulereSurulere' 'LAGOSIpaja' 'sideLekki' 'OshodiOshodi' 'Ikeja.Ogba'\n",
            " 'IpajaIpaja' '.Iju' 'courtIkoyi' 'EjigboEjigbo' 'LagosIju'\n",
            " 'Command.Ipaja' 'OGBA.Ogba' 'Phase1Lekki' 'Suru-LereSurulere' 'ogbaOgba'\n",
            " 'Lagos.Ikorodu' 'Ogba.Ogba' 'AlexanderIkoyi' 'rdOgba' 'HotelOgba'\n",
            " 'LEKKI.Lekki' 'LEKKILekki' 'StateIju' '...Surulere' 'RoadIpaja' '2.Lekki'\n",
            " 'B/StopIpaja' 'IkejaIkeja' '.Apapa' 'Ikola.Ipaja' 'axisAgege'\n",
            " 'ESTATELekki' 'command.ipajaIpaja' 'estateOgba' 'agegeAgege' 'Area.Ipaja'\n",
            " 'LagosIkorodu' 'IKEJAIkeja' 'ikoroduIkorodu' 'streetLekki' 'ipajaIpaja'\n",
            " 'clubIkoyi' 'ShomoluShomolu' 'LagosOgba' 'lagosOgba' 'LagosYaba'\n",
            " 'StateIpaja' 'westIkoyi' 'ROADIkoyi' 'driveIkoyi' 'ikoyiIkoyi'\n",
            " 'Lagos.Ogba' 'ettiLekki' 'FORESHORELekki' 'EgbedaAlimosho' 'IPAJAIpaja'\n",
            " 'ogba.Ogba' 'LAGOS.Ipaja' 'LAGOSIkoyi' 'ESTATE.Iju' 'Aro.Iju' 'axisIju'\n",
            " 'rdAgege' '...Ikeja' 'EnvironmentIkoyi' 'suleIkoyi' 'stadiumAgege'\n",
            " 'AJAHAjah' 'LAGOS.Ikoyi' 'road..Ejigbo' '.Ipaja' 'KetuKetu' 'LAGOLekki'\n",
            " 'LAGOSSurulere' 'LagosEjigbo' 'BergerOjodu' 'right.Lekki'\n",
            " 'governmentAlimosho' 'LagosIsolo' 'ejigboEjigbo' 'IkoroduIkorodu'\n",
            " 'tollgateLekki' 'cityAjah' '....Ogudu' 'AlternativeLekki' 'BensonIkorodu'\n",
            " '...Sangotedo' 'AwoyayaLekki' 'RdLekki' '2Ajah' 'OgbaIju' 'streetKetu'\n",
            " 'ObawoleIju' 'ogbaIju' 'IshagaIju' 'Ibadan' 'LondonLekki' 'AKUTEIju'\n",
            " 'AjuwonIju' 'DriveIkoyi' 'IjegunAlimosho' 'StreetOjodu' '...Ojodu'\n",
            " 'stopIsolo' 'IsheriOjodu' '...Iju' 'Oredo' 'NorthOgudu' 'Abijo.Lekki'\n",
            " 'IjuIju' 'EyitaIkorodu' 'estateMaryland' 'supermarketSangotedo'\n",
            " 'AxisAjah' 'RdIkoyi' 'YabaYaba' 'SangotedoLekki' 'ArepoArepo'\n",
            " 'countyLekki' 'IsoloIsolo' 'AgaIkorodu' 'estateSurulere'] \n",
            "\n",
            "---------------------------------------------\n",
            "Number of Bedrooms:  ['4' '1' '2' '3' '5' '6' '7' 'beds' '8' '0' '10' '9'] \n",
            "\n",
            "---------------------------------------------\n",
            "Number of Bathrooms:  ['4' '1' '2' '5' '6' '3' 'baths' '7' '8' '0' '10' '9'] \n",
            "\n",
            "---------------------------------------------\n",
            "Number of Toilets:  ['5' '2' '3' '6' '4' 'Toilets' '8' '7' '9' '10' '0' '1'] \n",
            "\n",
            "---------------------------------------------\n"
          ],
          "name": "stdout"
        }
      ]
    },
    {
      "cell_type": "markdown",
      "metadata": {
        "id": "OJ284rA1BOI-"
      },
      "source": [
        "<h3> - Getting Value Counts Per Attribute </h3>"
      ]
    },
    {
      "cell_type": "code",
      "metadata": {
        "colab": {
          "base_uri": "https://localhost:8080/"
        },
        "id": "m7TCDF5LBVFi",
        "outputId": "dd63570b-0f3c-46a9-cf51-deb2b0715793"
      },
      "source": [
        "print('House Types: ', property1['house-types'].value_counts(), '\\n')\r\n",
        "print('---------------------------------------------')\r\n",
        "print('Location: ', property1['location'].value_counts(), '\\n')\r\n",
        "print('---------------------------------------------')\r\n",
        "print('Number of Bedrooms: ', property1['bedrooms'].value_counts(), '\\n')\r\n",
        "print('---------------------------------------------')\r\n",
        "print('Number of Bathrooms: ', property1['toilets'].value_counts(), '\\n')\r\n",
        "print('---------------------------------------------')\r\n",
        "print('Number of Toilets: ', property1['price'].value_counts(), '\\n')\r\n",
        "print('---------------------------------------------')\r\n",
        "print('Status: ', property1['rent / sale'].value_counts(), '\\n')"
      ],
      "execution_count": null,
      "outputs": [
        {
          "output_type": "stream",
          "text": [
            "House Types:  DETACHED DUPLEX      3686\n",
            "SEMI DETACHED        2001\n",
            "TERRACED DUPLEX      1557\n",
            "HOUSE FOR            1430\n",
            "BLOCKS OF             680\n",
            "FLATS HOUSE           446\n",
            "DETACHED BUNGALOW     344\n",
            "SALE                  339\n",
            "DUPLEX HOUSE          202\n",
            "MINI FLAT              93\n",
            "MASSIONETTE HOUSE      90\n",
            "TERRACED BUNGALOW      32\n",
            "FOR RENT               32\n",
            "FLAT                   28\n",
            "SELF CONTAIN           25\n",
            "FOR SALE                8\n",
            "BUNGALOW HOUSE          7\n",
            "Name: house-types, dtype: int64 \n",
            "\n",
            "---------------------------------------------\n",
            "Location:  Lekki             5022\n",
            "Ikoyi              962\n",
            "Ajah               829\n",
            "Ojodu              389\n",
            "Ikeja              378\n",
            "                  ... \n",
            "lagosAjah            1\n",
            "agegeAgege           1\n",
            "-Sangotedo           1\n",
            "ForeshoreLekki       1\n",
            "BergerOjodu          1\n",
            "Name: location, Length: 399, dtype: int64 \n",
            "\n",
            "---------------------------------------------\n",
            "Number of Bedrooms:  4       4106\n",
            "5       3119\n",
            "beds    1139\n",
            "3       1063\n",
            "0        708\n",
            "2        282\n",
            "6        275\n",
            "1         93\n",
            "10        80\n",
            "7         68\n",
            "8         50\n",
            "9         17\n",
            "Name: bedrooms, dtype: int64 \n",
            "\n",
            "---------------------------------------------\n",
            "Number of Bathrooms:  5          3493\n",
            "6          2422\n",
            "Toilets    1563\n",
            "0          1167\n",
            "4          1094\n",
            "3           494\n",
            "7           415\n",
            "2           140\n",
            "8            78\n",
            "10           67\n",
            "1            43\n",
            "9            24\n",
            "Name: toilets, dtype: int64 \n",
            "\n",
            "---------------------------------------------\n",
            "Number of Toilets:  55,000,000       517\n",
            "65,000,000       501\n",
            "45,000,000       408\n",
            "60,000,000       402\n",
            "80,000,000       379\n",
            "                ... \n",
            "4,500,000,000      1\n",
            "45,000,009         1\n",
            "25,600,000         1\n",
            "75,900,000         1\n",
            "399,999,999        1\n",
            "Name: price, Length: 363, dtype: int64 \n",
            "\n",
            "---------------------------------------------\n",
            "Status:  SALE        10945\n",
            "RENT           32\n",
            "SHORTLET       23\n",
            "Name: rent / sale, dtype: int64 \n",
            "\n"
          ],
          "name": "stdout"
        }
      ]
    },
    {
      "cell_type": "code",
      "metadata": {
        "id": "6U5LiAJdBa6E"
      },
      "source": [
        "#creating a function for the 'house type' attribute that converts all wrongly spelt features to NaN values\r\n",
        "\r\n",
        "def type(x):\r\n",
        "    \r\n",
        "    if 'FLAT' in x:\r\n",
        "        return 'Flat'\r\n",
        "    \r\n",
        "    elif 'TERRACED DUPLEX' in x:\r\n",
        "        return 'Terraced Duplex'\r\n",
        "    \r\n",
        "    elif 'MINI FLAT' in x:\r\n",
        "        return 'Mini Flat'\r\n",
        "    \r\n",
        "    elif 'DETACHED DUPLEX' in x:\r\n",
        "        return 'Detached Duplex'\r\n",
        "    \r\n",
        "    elif 'SEMI DETACHED' in x:\r\n",
        "        return 'Semi Detached Duplex'\r\n",
        "    \r\n",
        "    elif 'BLOCKS OF' in x:\r\n",
        "        return 'Blocks of Flats'\r\n",
        "    \r\n",
        "    elif 'HOUSE FOR' in x:\r\n",
        "        return 'Duplex'\r\n",
        "    \r\n",
        "    elif 'COMMERCIAL PROPERTY' in x:\r\n",
        "        return 'Commercial Property'\r\n",
        "    \r\n",
        "    elif 'APARTMENT FOR' in x:\r\n",
        "        return 'Flat'\r\n",
        "    \r\n",
        "    elif 'PROPERTY FOR' in x:\r\n",
        "        return 'Commercial Property'\r\n",
        "    \r\n",
        "    elif 'SHARED APARTMENT' in x:\r\n",
        "        return 'Shared Apartment'\r\n",
        "    \r\n",
        "    elif 'PENTHOUSE FLAT' in x:\r\n",
        "        return 'Penthouse Flat'\r\n",
        "    \r\n",
        "    elif 'SELF CONTAIN' in x:\r\n",
        "        return 'Self Contain'\r\n",
        "    \r\n",
        "    elif 'OFFICE SPACE' in x:\r\n",
        "        return 'Office Space'\r\n",
        "    \r\n",
        "    elif 'LAND FOR' in x:\r\n",
        "        return 'Land'\r\n",
        "    \r\n",
        "    elif 'MASSIONETTE HOUSE' in x:\r\n",
        "        return 'Massionette House'\r\n",
        "    \r\n",
        "    elif 'FLATS HOUSE' in x:\r\n",
        "        return 'Flats'\r\n",
        "    \r\n",
        "    elif 'DUPLEX HOUSE' in x:\r\n",
        "        return 'Duplex'\r\n",
        "    \r\n",
        "    elif 'DETACHED BUNGALOW ' in x:\r\n",
        "        return 'Detached Bungalow'\r\n",
        "    \r\n",
        "    elif 'A MALL' in x:\r\n",
        "        return 'Shop(In Mall)'\r\n",
        "    \r\n",
        "    elif 'LAND LAND' in x:\r\n",
        "        return 'Land'\r\n",
        "    \r\n",
        "    elif 'BOYS QUARTERS' in x:\r\n",
        "        return 'Boys Quarters'\r\n",
        "    \r\n",
        "    elif 'HOTELGUEST HOUSE' in x:\r\n",
        "        return 'Hotel Guest House'\r\n",
        "    \r\n",
        "    elif 'STUDIO APARTMENT' in x:\r\n",
        "        return 'Studio Apartment'\r\n",
        "        \r\n",
        "    elif 'CO WORKING' in x:\r\n",
        "        return 'Co Working Space'\r\n",
        "    \r\n",
        "    elif 'BLOCK OF' in x:\r\n",
        "        return 'Blocks of Flats'\r\n",
        "    \r\n",
        "    elif 'WORKING SPACE' in x:\r\n",
        "        return 'Co Working Space'\r\n",
        "    \r\n",
        "    elif 'SPACE FOR' in x:\r\n",
        "        return 'Office Space'\r\n",
        "    \r\n",
        "    elif 'SHOP COMMERCIAL' in x:\r\n",
        "        return 'Shop'\r\n",
        "    \r\n",
        "    elif 'SHOP IN' in x:\r\n",
        "        return 'Shop(In Mall)'\r\n",
        "    \r\n",
        "    elif ' APARTMENT' in x:\r\n",
        "        return 'Flat'\r\n",
        "    \r\n",
        "    elif 'TERRACED BUNGALOW' in x:\r\n",
        "        return 'Terraced Bungalow'\r\n",
        "    \r\n",
        "    elif 'DUPLEX FOR' in x:\r\n",
        "        return 'Duplex'\r\n",
        "    \r\n",
        "    elif 'FACTORY COMMERCIAL' in x:\r\n",
        "        return 'Factory'\r\n",
        "      \r\n",
        "    elif 'FOR RENT' in x:\r\n",
        "        return 'Flat'\r\n",
        "      \r\n",
        "    elif 'RENT' in x:\r\n",
        "        return 'Flat'\r\n",
        "    \r\n",
        "    elif 'SHOW ROOM' in x:\r\n",
        "        return 'Show Room'\r\n",
        "    \r\n",
        "    elif 'TERRACE FOR' in x:\r\n",
        "        return 'Terraced Duplex'\r\n",
        "    \r\n",
        "    elif 'CONFERENCE ROOM' in x:\r\n",
        "        return 'Conference Room'\r\n",
        "    \r\n",
        "    elif 'EVENT CENTRE' in x:\r\n",
        "        return 'Event Centre'\r\n",
        "    \r\n",
        "    else:\r\n",
        "        return 'NaN'\r\n",
        "    \r\n",
        "   "
      ],
      "execution_count": null,
      "outputs": []
    },
    {
      "cell_type": "code",
      "metadata": {
        "colab": {
          "base_uri": "https://localhost:8080/",
          "height": 204
        },
        "id": "NCEmPut-BjtD",
        "outputId": "6087b254-7cbc-40d2-f6a3-c3695844a07c"
      },
      "source": [
        "#creating a new attribute for \"house types\"\r\n",
        "\r\n",
        "property1[\"house-type\"] = property1[\"house-types\"].apply(type)\r\n",
        "\r\n",
        "property1.head()"
      ],
      "execution_count": null,
      "outputs": [
        {
          "output_type": "execute_result",
          "data": {
            "text/html": [
              "<div>\n",
              "<style scoped>\n",
              "    .dataframe tbody tr th:only-of-type {\n",
              "        vertical-align: middle;\n",
              "    }\n",
              "\n",
              "    .dataframe tbody tr th {\n",
              "        vertical-align: top;\n",
              "    }\n",
              "\n",
              "    .dataframe thead th {\n",
              "        text-align: right;\n",
              "    }\n",
              "</style>\n",
              "<table border=\"1\" class=\"dataframe\">\n",
              "  <thead>\n",
              "    <tr style=\"text-align: right;\">\n",
              "      <th></th>\n",
              "      <th>Unnamed: 0</th>\n",
              "      <th>house-types</th>\n",
              "      <th>location</th>\n",
              "      <th>bedrooms</th>\n",
              "      <th>bathrooms</th>\n",
              "      <th>toilets</th>\n",
              "      <th>price</th>\n",
              "      <th>rent / sale</th>\n",
              "      <th>house-type</th>\n",
              "    </tr>\n",
              "  </thead>\n",
              "  <tbody>\n",
              "    <tr>\n",
              "      <th>0</th>\n",
              "      <td>0</td>\n",
              "      <td>DETACHED DUPLEX</td>\n",
              "      <td>Lekki</td>\n",
              "      <td>4</td>\n",
              "      <td>4</td>\n",
              "      <td>5</td>\n",
              "      <td>90,000,000</td>\n",
              "      <td>SALE</td>\n",
              "      <td>Detached Duplex</td>\n",
              "    </tr>\n",
              "    <tr>\n",
              "      <th>1</th>\n",
              "      <td>1</td>\n",
              "      <td>MINI FLAT</td>\n",
              "      <td>Lekki</td>\n",
              "      <td>1</td>\n",
              "      <td>1</td>\n",
              "      <td>2</td>\n",
              "      <td>25,000,000</td>\n",
              "      <td>SALE</td>\n",
              "      <td>Flat</td>\n",
              "    </tr>\n",
              "    <tr>\n",
              "      <th>2</th>\n",
              "      <td>2</td>\n",
              "      <td>TERRACED DUPLEX</td>\n",
              "      <td>Lekki</td>\n",
              "      <td>4</td>\n",
              "      <td>4</td>\n",
              "      <td>5</td>\n",
              "      <td>55,000,000</td>\n",
              "      <td>SALE</td>\n",
              "      <td>Terraced Duplex</td>\n",
              "    </tr>\n",
              "    <tr>\n",
              "      <th>3</th>\n",
              "      <td>3</td>\n",
              "      <td>TERRACED DUPLEX</td>\n",
              "      <td>Lekki</td>\n",
              "      <td>4</td>\n",
              "      <td>4</td>\n",
              "      <td>5</td>\n",
              "      <td>45,000,000</td>\n",
              "      <td>SALE</td>\n",
              "      <td>Terraced Duplex</td>\n",
              "    </tr>\n",
              "    <tr>\n",
              "      <th>4</th>\n",
              "      <td>4</td>\n",
              "      <td>TERRACED DUPLEX</td>\n",
              "      <td>Lekki</td>\n",
              "      <td>2</td>\n",
              "      <td>2</td>\n",
              "      <td>3</td>\n",
              "      <td>35,000,000</td>\n",
              "      <td>SALE</td>\n",
              "      <td>Terraced Duplex</td>\n",
              "    </tr>\n",
              "  </tbody>\n",
              "</table>\n",
              "</div>"
            ],
            "text/plain": [
              "   Unnamed: 0      house-types  ... rent / sale       house-type\n",
              "0           0  DETACHED DUPLEX  ...        SALE  Detached Duplex\n",
              "1           1        MINI FLAT  ...        SALE             Flat\n",
              "2           2  TERRACED DUPLEX  ...        SALE  Terraced Duplex\n",
              "3           3  TERRACED DUPLEX  ...        SALE  Terraced Duplex\n",
              "4           4  TERRACED DUPLEX  ...        SALE  Terraced Duplex\n",
              "\n",
              "[5 rows x 9 columns]"
            ]
          },
          "metadata": {
            "tags": []
          },
          "execution_count": 11
        }
      ]
    },
    {
      "cell_type": "code",
      "metadata": {
        "colab": {
          "base_uri": "https://localhost:8080/"
        },
        "id": "jIRGFdP3Bqvl",
        "outputId": "359a369e-5107-4eb7-aaf4-9c8203bc17c6"
      },
      "source": [
        "#confirming the features and attributes are rightly generated\r\n",
        "\r\n",
        "property1[\"house-type\"].value_counts()"
      ],
      "execution_count": null,
      "outputs": [
        {
          "output_type": "execute_result",
          "data": {
            "text/plain": [
              "Detached Duplex         3686\n",
              "Semi Detached Duplex    2001\n",
              "Duplex                  1632\n",
              "Terraced Duplex         1557\n",
              "NaN                      698\n",
              "Blocks of Flats          680\n",
              "Flat                     599\n",
              "Massionette House         90\n",
              "Terraced Bungalow         32\n",
              "Self Contain              25\n",
              "Name: house-type, dtype: int64"
            ]
          },
          "metadata": {
            "tags": []
          },
          "execution_count": 12
        }
      ]
    },
    {
      "cell_type": "code",
      "metadata": {
        "id": "SL2liLSlBuL6"
      },
      "source": [
        "#creating a function for the 'location' attribute that converts all wrongly spelt features to NaN values\n",
        " \n",
        "def locations(x):\n",
        "    \n",
        "    if 'Island' in x:\n",
        "        return 'Victoria Island'\n",
        "    \n",
        "    elif 'Ikoyi' in x:\n",
        "        return 'Ikoyi'\n",
        "    \n",
        "    elif 'Ikeja' in x:\n",
        "        return 'Ikeja'\n",
        "    \n",
        "    elif 'Lekki' in x:\n",
        "        return 'Lekki'\n",
        "    \n",
        "    elif 'Ojodu' in x:\n",
        "        return 'Ojodu'\n",
        "    \n",
        "    elif 'Isolo' in x:\n",
        "        return 'Isolo'\n",
        "    \n",
        "    elif 'Ikosi' in x:\n",
        "        return 'Ikosi'\n",
        "    \n",
        "    elif 'RoadIkoyi' in x:\n",
        "        return 'Ikoyi'\n",
        "    \n",
        "    elif 'Maryland' in x:\n",
        "        return 'Maryland'\n",
        "    \n",
        "    elif 'Ikorodu' in x:\n",
        "        return 'Ikorodu'\n",
        "    \n",
        "    elif 'Right.Lekki' in x:\n",
        "        return 'Lekki'\n",
        "    \n",
        "    elif 'gateLekki' in x:\n",
        "        return 'Lekki'\n",
        "    \n",
        "    elif 'Ilupeju' in x:\n",
        "        return 'Ilupeju'\n",
        "    \n",
        "    elif 'Gbagada' in x:\n",
        "        return 'Gbagada'\n",
        "    \n",
        "    elif 'RouteLekki' in x:\n",
        "        return 'Lekki'\n",
        "    \n",
        "    elif 'Ajah' in x:\n",
        "        return 'Ajah'\n",
        "    \n",
        "    elif 'TollgateLekki' in x:\n",
        "        return 'Lekki'\n",
        "    \n",
        "    elif 'Surulere' in x:\n",
        "        return 'Surulere'\n",
        "    \n",
        "    elif 'Mushin ' in x:\n",
        "        return 'Mushin'\n",
        "    \n",
        "    elif 'roadIkoyi' in x:\n",
        "        return 'Ikoyi'\n",
        "    \n",
        "    elif 'LagosLekki' in x:\n",
        "        return 'Lekki'\n",
        "    \n",
        "    elif 'Ipaja' in x:\n",
        "        return 'Ipaja'\n",
        "    \n",
        "    elif 'Yaba' in x:\n",
        "        return 'Yaba'\n",
        "    \n",
        "    elif 'Sangotedo' in x:\n",
        "        return 'Sangotedo'\n",
        "        \n",
        "    elif 'GRAIkeja' in x:\n",
        "        return 'Ikeja'\n",
        "    \n",
        "    elif 'Ogudu' in x:\n",
        "        return 'Ogudu'\n",
        "    \n",
        "    elif 'roadLekki' in x:\n",
        "        return 'Lekki'\n",
        "    \n",
        "    elif 'Okota' in x:\n",
        "        return 'Okota'\n",
        "    \n",
        "    elif 'Egba' in x:\n",
        "        return 'Egba'\n",
        "    \n",
        "    elif 'Odofin' in x:\n",
        "        return 'Odofin'\n",
        "    \n",
        "    elif 'RoadLekki' in x:\n",
        "        return 'Lekki'\n",
        "    \n",
        "    elif 'MarylandMaryland' in x:\n",
        "        return 'Maryland'\n",
        "    \n",
        "    elif 'Ejigbo' in x:\n",
        "        return 'Ejigbo'\n",
        "    \n",
        "    elif 'Oshodi' in x:\n",
        "        return 'Oshodi'\n",
        "    \n",
        "    elif 'Ogba' in x:\n",
        "        return 'Ogba'\n",
        "    \n",
        "    elif 'Shomolu' in x:\n",
        "        return 'Shomolu'\n",
        "    \n",
        "    elif 'Alimosho' in x:\n",
        "        return 'Alimosho'\n",
        "    \n",
        "    elif 'Lagos.Yaba' in x:\n",
        "        return 'Yaba'\n",
        "    \n",
        "    elif 'Agege' in x:\n",
        "        return 'Agege'\n",
        "    \n",
        "    elif 'OGUDUOgudu' in x:\n",
        "        return 'Ogudu'\n",
        "    \n",
        "    elif 'IkoyiIkoyi' in x:\n",
        "        return 'Ikoyi'\n",
        "    \n",
        "    elif 'orchidLekki' in x:\n",
        "        return 'Lekki'\n",
        "    \n",
        "    elif 'elegushiLekki' in x:\n",
        "        return 'Lekki'\n",
        "    \n",
        "    elif 'mallSangotedo' in x:\n",
        "        return 'Sangotedo'\n",
        "    \n",
        "    elif 'lekkiLekki' in x:\n",
        "        return 'Lekki'\n",
        "    \n",
        "    elif 'DriveLekki' in x:\n",
        "        return 'Lekki'\n",
        "    \n",
        "    elif 'Igando' in x:\n",
        "        return 'Igando'\n",
        "    \n",
        "    elif 'Road.Ikoyi' in x:\n",
        "        return 'Ikoyi'\n",
        "    \n",
        "    elif 'RightLekki' in x:\n",
        "        return 'Lekki'\n",
        "    \n",
        "    elif 'AxisLekki' in x:\n",
        "        return 'Lekki'\n",
        "    \n",
        "    elif 'Camp' in x:\n",
        "        return 'Camp'\n",
        "    \n",
        "    elif 'OLekki' in x:\n",
        "        return 'Lekki'\n",
        "    \n",
        "    elif 'OrchidLekki' in x:\n",
        "        return 'Lekki'\n",
        "    \n",
        "    elif 'IkateLekki' in x:\n",
        "        return 'Lekki'\n",
        "    \n",
        "    elif '...Lekki' in x:\n",
        "        return 'Lekki'\n",
        "    \n",
        "    elif 'estateLekki' in x:\n",
        "        return 'Lekki'\n",
        "    \n",
        "    elif 'AnthonyMaryland' in x:\n",
        "        return 'Maryland'\n",
        "    \n",
        "    elif 'estateAjah ' in x:\n",
        "        return 'Ajah'\n",
        "    \n",
        "    elif '...Ikoyi' in x:\n",
        "        return 'Ikoyi'\n",
        "    \n",
        "    elif '-Ikeja' in x:\n",
        "        return 'Ikeja'\n",
        "    \n",
        "    elif 'streetIkeja' in x:\n",
        "        return 'Ikeja'\n",
        "    \n",
        "    elif 'Apapa' in x:\n",
        "        return 'Apapa'\n",
        "    \n",
        "    elif 'Ojota' in x:\n",
        "        return 'Ojota'\n",
        "    \n",
        "    elif 'IPAJAIpaja' in x:\n",
        "        return 'Ipaja'\n",
        "    \n",
        "    elif 'StreetGbagada' in x:\n",
        "        return 'Gbagada'\n",
        "    \n",
        "    elif 'ChevronLekki' in x:\n",
        "        return 'Lekki'\n",
        "    \n",
        "    elif 'GTBankGbagada' in x:\n",
        "        return 'Gbagada'\n",
        "    \n",
        "    elif 'LondonLekki' in x:\n",
        "        return 'Lekki'\n",
        "    \n",
        "    elif 'AreaOjodu' in x:\n",
        "        return 'Ojodu'\n",
        "    \n",
        "    elif 'LekkiLekki' in x:\n",
        "        return 'Lekki'\n",
        "    \n",
        "    elif 'Idimu' in x:\n",
        "        return 'Idimu'\n",
        "    \n",
        "    elif 'wayIsolo' in x:\n",
        "        return 'Isolo'\n",
        "    \n",
        "    elif 'VGCLekki' in x:\n",
        "        return 'Lekki'\n",
        "    \n",
        "    elif 'courtLekki' in x:\n",
        "        return 'Lekki'\n",
        "    \n",
        "    elif 'streetSurulere' in x:\n",
        "        return 'Surulere'\n",
        "    \n",
        "    elif 'kayIkorodu' in x:\n",
        "        return 'Ikorodu'\n",
        "    \n",
        "    elif 'road.Ajah' in x:\n",
        "        return 'Ajah'\n",
        "    \n",
        "    elif 'roadIlupeju' in x:\n",
        "        return 'Ilupeju'\n",
        "    \n",
        "    elif 'roadKetu' in x:\n",
        "        return 'Ketu'\n",
        "    \n",
        "    elif 'OneSangotedo' in x:\n",
        "        return 'Sangotedo'\n",
        "    \n",
        "    elif 'ObawoleIju' in x:\n",
        "        return 'Iju'\n",
        "    \n",
        "    elif 'HotelOgba' in x:\n",
        "        return 'Ogba'\n",
        "    \n",
        "    elif 'paradiseLekki' in x:\n",
        "        return 'Lekki'\n",
        "    \n",
        "    elif '2Ajah' in x:\n",
        "        return 'Ajah'\n",
        "    \n",
        "    elif 'Gbagada.Gbagada' in x:\n",
        "        return 'Gbagada'\n",
        "    \n",
        "    elif '101233Ikoyi' in x:\n",
        "        return 'Ikoyi'\n",
        "    \n",
        "    elif 'SchoolAjah' in x:\n",
        "        return 'Ajah'\n",
        "    \n",
        "    elif 'SurulereSurulere' in x:\n",
        "        return 'Surulere'\n",
        "    \n",
        "    elif 'AKERELESurulere' in x:\n",
        "        return 'Surulere'\n",
        "    \n",
        "    elif 'EstateLekki' in x:\n",
        "        return 'Lekki'\n",
        "    \n",
        "    elif 'Abule-EgbaAgege' in x:\n",
        "        return 'Agege'\n",
        "    \n",
        "    elif 'OgbaIju' in x:\n",
        "        return 'Iju'\n",
        "    \n",
        "    elif 'AgungiLekki' in x:\n",
        "        return 'Lekki'\n",
        "    \n",
        "    elif 'AlapereKetu' in x:\n",
        "        return 'Ketu'\n",
        "    \n",
        "    elif '1Lekki' in x:\n",
        "        return 'Lekki'\n",
        "    \n",
        "    elif 'shomoluShomolu' in x:\n",
        "        return 'Shomolu'\n",
        "    \n",
        "    elif '...Ogudu' in x:\n",
        "        return 'Ogudu'\n",
        "    \n",
        "    elif '(LBS)Ajah' in x:\n",
        "        return 'Ajah'\n",
        "    \n",
        "    elif 'EstateOkota' in x:\n",
        "        return 'Okota'\n",
        "    \n",
        "    elif 'EstateIkeja' in x:\n",
        "        return 'Ikeja'\n",
        "    \n",
        "    elif 'AptechAjah' in x:\n",
        "        return 'Ajah'\n",
        "    \n",
        "    elif 'ilupejuYaba' in x:\n",
        "        return 'Yaba'\n",
        "    \n",
        "    elif 'Badagry' in x:\n",
        "        return 'Badagry'\n",
        "    \n",
        "    elif 'areaIsolo' in x:\n",
        "        return 'Isolo'\n",
        "    \n",
        "    elif 'RoadAjah' in x:\n",
        "        return 'Ajah'\n",
        "    \n",
        "    elif '...Ogba' in x:\n",
        "        return 'Ogba'\n",
        "    \n",
        "    elif 'IlupejuIlupeju' in x:\n",
        "        return 'Ilupeju'\n",
        "    \n",
        "    elif 'OnikeYaba' in x:\n",
        "        return 'Yaba'\n",
        "    \n",
        "    elif 'IkejaMaryland' in x:\n",
        "        return 'Maryland'\n",
        "    \n",
        "    elif 'areaYaba' in x:\n",
        "        return 'Yaba'\n",
        "    \n",
        "    elif 'ijeshaYaba' in x:\n",
        "        return 'Yaba'\n",
        "    \n",
        "    elif '...Ipaja' in x:\n",
        "        return 'Ipaja'\n",
        "    \n",
        "    elif 'areaEjigbo' in x:\n",
        "        return 'Ejigbo'\n",
        "    \n",
        "    elif 'Yaba.Yaba' in x:\n",
        "        return 'Yaba'\n",
        "    \n",
        "    elif 'estateIsolo' in x:\n",
        "        return 'Isolo'\n",
        "    \n",
        "    elif '-----Alimosho' in x:\n",
        "        return 'Alimosho'\n",
        "    \n",
        "    elif 'YabaYaba' in x:\n",
        "        return 'Yaba'\n",
        "    \n",
        "    elif 'isoloIsolo' in x:\n",
        "        return 'Isolo'\n",
        "    \n",
        "    elif 'bustopIsolo' in x:\n",
        "        return 'Isolo'\n",
        "    \n",
        "    elif 'MainlandIsolo' in x:\n",
        "        return 'Isolo'\n",
        "    \n",
        "    elif '-Gbagada' in x:\n",
        "        return 'Gbagada'\n",
        "    \n",
        "    elif 'DriveIkoyi' in x:\n",
        "        return 'Ikoyi'\n",
        "    \n",
        "    elif 'G.R.Yaba' in x:\n",
        "        return 'Yaba'\n",
        "    \n",
        "    elif '2Ikeja' in x:\n",
        "        return 'Ikeja'\n",
        "    \n",
        "    elif '1Ikeja' in x:\n",
        "        return 'Ikeja'\n",
        "    \n",
        "    elif 'Avenue' in x:\n",
        "        return 'Ikoyi'\n",
        "    \n",
        "    elif 'Oniru' in x:\n",
        "        return 'Victoria Island'\n",
        "    \n",
        "    elif 'isheriOjodu' in x:\n",
        "        return 'Ojodu'\n",
        "    \n",
        "    elif 'schoolOjodu' in x:\n",
        "        return 'Ojodu'\n",
        "    \n",
        "    elif 'OniriLekki' in x:\n",
        "        return 'Lekki'\n",
        "    \n",
        "    elif '-Yaba' in x:\n",
        "        return 'Yaba'\n",
        "    \n",
        "    elif 'StreetIkoyi' in x:\n",
        "        return 'Ikoyi'\n",
        "    \n",
        "    elif 'EstateIkoyi' in x:\n",
        "        return 'Ikoyi'\n",
        "    \n",
        "    elif 'Omorinre' in x:\n",
        "        return 'Lekki'\n",
        "    \n",
        "    elif 'Babs' in x:\n",
        "        return 'Surulere'\n",
        "    \n",
        "    elif 'Alaka' in x:\n",
        "        return 'Surulere'\n",
        "    \n",
        "    elif 'Bourdillon' in x:\n",
        "        return 'Ikoyi'\n",
        "    \n",
        "    elif 'GraIkeka' in x:\n",
        "        return 'Ikeja'\n",
        "    \n",
        "    elif 'EstateGbagada' in x:\n",
        "        return 'Gbagada'\n",
        "    \n",
        "    elif 'ThomasSurulere' in x:\n",
        "        return 'Surulere'\n",
        "    \n",
        "    elif 'ShangishaIkeja' in x:\n",
        "        return 'Ikeja'\n",
        "    \n",
        "    elif 'BajulaiyeShomolu' in x:\n",
        "        return 'Shomolu'\n",
        "    \n",
        "    elif 'IdadoLekki' in x:\n",
        "        return 'Lekki'\n",
        "    \n",
        "    elif 'Iju' in x:\n",
        "        return 'Iju'\n",
        "    \n",
        "    elif 'Ketu' in x:\n",
        "        return 'Ketu'\n",
        "    \n",
        "    elif 'IteleIpaja' in x:\n",
        "        return 'Ipaja'\n",
        "    \n",
        "    elif 'ShomoluShomolu' in x:\n",
        "        return 'Shomolu'\n",
        "    \n",
        "    elif 'ketuKetu' in x:\n",
        "        return 'Ketu'\n",
        "    \n",
        "    elif 'PALACEIsolo' in x:\n",
        "        return 'Isolo'\n",
        "    \n",
        "    elif 'CloseIkeja' in x:\n",
        "        return 'Ikeja'\n",
        "    \n",
        "    elif '(Lekki)Lekki' in x:\n",
        "        return 'Lekki'\n",
        "    \n",
        "    elif 'EstateOjodu' in x:\n",
        "        return 'Ojodu'\n",
        "    \n",
        "    elif 'bustopIju' in x:\n",
        "        return 'Iju'\n",
        "    \n",
        "    elif 'EstateApapa' in x:\n",
        "        return 'Apapa'\n",
        "    \n",
        "    elif 'GardenLekki' in x:\n",
        "        return 'Lekki'\n",
        "    \n",
        "    elif 'EstateIsolo' in x:\n",
        "        return 'Isolo'\n",
        "    \n",
        "    elif 'mosanIpaja' in x:\n",
        "        return 'Ipaja'\n",
        "    \n",
        "    elif 'wayYaba' in x:\n",
        "        return 'Yaba'\n",
        "    \n",
        "    elif 'EstateOgba' in x:\n",
        "        return 'Ogba'\n",
        "    \n",
        "    elif 'Ojo' in x:\n",
        "        return 'Ojo'\n",
        "    \n",
        "    elif 'MShomolu' in x:\n",
        "        return 'Shomolu'\n",
        "    \n",
        "    elif 'CrescentApapa' in x:\n",
        "        return 'Apapa'\n",
        "    \n",
        "    elif 'roadOgba' in x:\n",
        "        return 'Ogba'\n",
        "    \n",
        "    elif 'WayIkoyi' in x:\n",
        "        return 'Ikoyi'\n",
        "    \n",
        "    elif '...Gbagada' in x:\n",
        "        return 'Gbagada'\n",
        "    \n",
        "    elif 'estateIlupeju' in x:\n",
        "        return 'Ilupeju'\n",
        "    \n",
        "    elif 'OlogoloLekki' in x:\n",
        "        return 'Lekki'\n",
        "    \n",
        "    elif 'wayLekki' in x:\n",
        "        return 'Lekki'\n",
        "    \n",
        "    elif 'CountyLekki' in x:\n",
        "        return 'Lekki'\n",
        "    \n",
        "    elif 'WayLekki' in x:\n",
        "        return 'Lekki'\n",
        "    \n",
        "    elif 'EleganzaLekki' in x:\n",
        "        return 'Lekki'\n",
        "    \n",
        "    elif 'ElegushiLekki' in x:\n",
        "        return 'Lekki'\n",
        "    \n",
        "    elif 'AjahLekki' in x:\n",
        "        return 'Ajah'\n",
        "    \n",
        "    elif 'StreetIkeja' in x:\n",
        "        return 'Ikeja'\n",
        "    \n",
        "    elif 'AmusaLekki' in x:\n",
        "        return 'Lekki'\n",
        "    \n",
        "    elif 'chevronLekki' in x:\n",
        "        return 'Lekki'\n",
        "    \n",
        "    elif 'DriveSurulere' in x:\n",
        "        return 'Surulere'\n",
        "    \n",
        "    elif 'OsborneIkoyi' in x:\n",
        "        return 'Ikoyi'\n",
        "    \n",
        "    elif '.Ikoyi' in x:\n",
        "        return 'Ikoyi'\n",
        "    \n",
        "    elif 'rdIkoyi' in x:\n",
        "        return 'Ikoyi'\n",
        "    \n",
        "    elif 'gloverIkoyi' in x:\n",
        "        return 'Ikoyi'\n",
        "    \n",
        "    elif 'avenueIkoyi' in x:\n",
        "        return 'Ikoyi'\n",
        "    \n",
        "    elif 'AlexandraIkoyi' in x:\n",
        "        return 'Ikoyi'\n",
        "    \n",
        "    elif 'AlexanderIkoyi' in x:\n",
        "        return 'Ikoyi'\n",
        "    \n",
        "    elif 'estateIkoyi' in x:\n",
        "        return 'Ikoyi'\n",
        "    \n",
        "    elif 'WaterfrontIkoyi' in x:\n",
        "        return 'Ikoyi'\n",
        "    \n",
        "    elif 'highbrowIkoyi' in x:\n",
        "        return 'Ikoyi'\n",
        "    \n",
        "    elif 'RDIkoyi' in x:\n",
        "        return 'Ikoyi'\n",
        "    \n",
        "    elif 'streetLekki' in x:\n",
        "        return 'Lekki'\n",
        "    \n",
        "    elif 'ROADIkoyi' in x:\n",
        "        return 'Ikoyi'\n",
        "    \n",
        "    elif '...Maryland' in x:\n",
        "        return 'Maryland'\n",
        "    \n",
        "    elif 'LagosIkoyi' in x:\n",
        "        return 'Ikoyi'\n",
        "    \n",
        "    elif 'IfakoGbagada' in x:\n",
        "        return 'Gbagada'\n",
        "    \n",
        "    elif 'boyGbagada' in x:\n",
        "        return 'Gbagada'\n",
        "    \n",
        "    elif 'LagosIlupeju' in x:\n",
        "        return 'Ilupeju'\n",
        "    \n",
        "    elif 'AdemolaIkoyi' in x:\n",
        "        return 'Ikoyi'\n",
        "    \n",
        "    elif 'rdGbagada' in x:\n",
        "        return 'Gbagada'\n",
        "    \n",
        "    elif 'ojoduOjodu' in x:\n",
        "        return 'Ojodu'\n",
        "    \n",
        "    elif 'EstateAjah' in x:\n",
        "        return 'Ajah'\n",
        "    \n",
        "    elif 'ikejaIkeja' in x:\n",
        "        return 'Ikeja'\n",
        "    \n",
        "    elif '...Shomolu' in x:\n",
        "        return 'Shomolu'\n",
        "    \n",
        "    elif '...Isolo' in x:\n",
        "        return 'Isolo'\n",
        "    \n",
        "    elif '...Ojodu' in x:\n",
        "        return 'Ojodu'\n",
        "    \n",
        "    elif 'homesLekki' in x:\n",
        "        return 'Lekki'\n",
        "    \n",
        "    elif '....Ajah' in x:\n",
        "        return 'Ajah'\n",
        "    \n",
        "    elif 'Orile' in x:\n",
        "        return 'Agege'\n",
        "    \n",
        "    elif 'AdetolaSurulere' in x:\n",
        "        return 'Surulere'\n",
        "    \n",
        "    elif 'AjuwonIju' in x:\n",
        "        return 'Iju'\n",
        "    \n",
        "    elif '...Ajah' in x:\n",
        "        return 'Ajah'\n",
        "    \n",
        "    elif 'ajahAjah' in x:\n",
        "        return 'Ajah'\n",
        "    \n",
        "    elif 'OwodeAjah' in x:\n",
        "        return 'Ajah'\n",
        "    \n",
        "    elif 'streetOgba' in x:\n",
        "        return 'Ogba'\n",
        "    \n",
        "    elif 'IshagaIju' in x:\n",
        "        return 'Iju'\n",
        "    \n",
        "    elif 'gardenAjah' in x:\n",
        "        return 'Ajah'\n",
        "    \n",
        "    elif 'IjuIju' in x:\n",
        "        return 'Iju'\n",
        "    \n",
        "    elif 'estateOkota' in x:\n",
        "        return 'Okota'\n",
        "    \n",
        "    elif 'lacShomolu' in x:\n",
        "        return 'Shomolu'\n",
        "    \n",
        "    elif '-Shomolu' in x:\n",
        "        return 'Shomolu'\n",
        "    \n",
        "    elif 'ogbaIju' in x:\n",
        "        return 'Ogba'\n",
        "    \n",
        "    elif '...Yaba' in x:\n",
        "        return 'Yaba'\n",
        "    \n",
        "    elif 'str.Ojodu' in x:\n",
        "        return 'Ojodu'\n",
        "    \n",
        "    elif 'GRAIkorodu' in x:\n",
        "        return 'Ikorodu'\n",
        "    \n",
        "    elif 'OroSurulere' in x:\n",
        "        return 'Surulere'\n",
        "    \n",
        "    elif 'AdelabuSurulere' in x:\n",
        "        return 'Surulere'\n",
        "    \n",
        "    elif 'obawoleIju' in x:\n",
        "        return 'Iju'\n",
        "    \n",
        "    elif 'StateIju' in x:\n",
        "        return 'Iju'\n",
        "    \n",
        "    elif 'EstateMarylandi' in x:\n",
        "        return 'Maryland'\n",
        "    \n",
        "    elif 'stopLekki' in x:\n",
        "        return 'Lekki'\n",
        "    \n",
        "    elif 'avenueOgba' in x:\n",
        "        return 'Ogba'\n",
        "    \n",
        "    elif 'OGBAOgba' in x:\n",
        "        return 'Ogba'\n",
        "    \n",
        "    elif '-Lekki' in x:\n",
        "        return 'Lekki'\n",
        "    \n",
        "    elif 'AbijoSangotedo' in x:\n",
        "        return 'Sangotedo'\n",
        "    \n",
        "    elif 'AkiodeOjodu' in x:\n",
        "        return 'Ojodu'\n",
        "    \n",
        "    elif 'RoadIju' in x:\n",
        "        return 'Ogba'\n",
        "    \n",
        "    elif 'LEKKILekki' in x:\n",
        "        return 'Lekki'\n",
        "    \n",
        "    elif 'AREA........Ojodu' in x:\n",
        "        return 'Ojodu'\n",
        "    \n",
        "    elif 'roadYaba' in x:\n",
        "        return 'Yaba'\n",
        "    \n",
        "    elif 'RoadShomolu' in x:\n",
        "        return 'Shomolu'\n",
        "    \n",
        "    elif 'Iju-IshagaIju' in x:\n",
        "        return 'Iju'\n",
        "    \n",
        "    elif 'admiraltyLekki' in x:\n",
        "        return 'Lekki'\n",
        "    \n",
        "    elif '2Ojodu' in x:\n",
        "        return 'Ojodu'\n",
        "    \n",
        "    elif 'estateGbagada' in x:\n",
        "        return 'Gbagada'\n",
        "    \n",
        "    elif 'lakShomolu' in x:\n",
        "        return 'Shomolu'\n",
        "    \n",
        "    elif 'sideLEKKI' in x:\n",
        "        return 'Lekki'\n",
        "    \n",
        "    elif 'streetMushin' in x:\n",
        "        return 'Mushin'\n",
        "    \n",
        "    elif 'SalmLekki' in x:\n",
        "        return 'Lekki'\n",
        "    \n",
        "    elif 'B/stopMushin' in x:\n",
        "        return 'Mushin'\n",
        "    \n",
        "    elif 'bankoleSurulere' in x:\n",
        "        return 'Mushin'\n",
        "    \n",
        "    elif 'roadShomolu' in x:\n",
        "        return 'Mushin'\n",
        "    \n",
        "    else:\n",
        "        return 'NaN'"
      ],
      "execution_count": null,
      "outputs": []
    },
    {
      "cell_type": "code",
      "metadata": {
        "colab": {
          "base_uri": "https://localhost:8080/",
          "height": 204
        },
        "id": "hXh9IFyUB-Yc",
        "outputId": "4762e566-eb8e-438d-8574-332411e2753a"
      },
      "source": [
        "#creating a new attribute for \"location\"\r\n",
        "\r\n",
        "property1[\"locations\"] = property1[\"location\"].apply(locations)\r\n",
        "\r\n",
        "property1.head()"
      ],
      "execution_count": null,
      "outputs": [
        {
          "output_type": "execute_result",
          "data": {
            "text/html": [
              "<div>\n",
              "<style scoped>\n",
              "    .dataframe tbody tr th:only-of-type {\n",
              "        vertical-align: middle;\n",
              "    }\n",
              "\n",
              "    .dataframe tbody tr th {\n",
              "        vertical-align: top;\n",
              "    }\n",
              "\n",
              "    .dataframe thead th {\n",
              "        text-align: right;\n",
              "    }\n",
              "</style>\n",
              "<table border=\"1\" class=\"dataframe\">\n",
              "  <thead>\n",
              "    <tr style=\"text-align: right;\">\n",
              "      <th></th>\n",
              "      <th>Unnamed: 0</th>\n",
              "      <th>house-types</th>\n",
              "      <th>location</th>\n",
              "      <th>bedrooms</th>\n",
              "      <th>bathrooms</th>\n",
              "      <th>toilets</th>\n",
              "      <th>price</th>\n",
              "      <th>rent / sale</th>\n",
              "      <th>house-type</th>\n",
              "      <th>locations</th>\n",
              "    </tr>\n",
              "  </thead>\n",
              "  <tbody>\n",
              "    <tr>\n",
              "      <th>0</th>\n",
              "      <td>0</td>\n",
              "      <td>DETACHED DUPLEX</td>\n",
              "      <td>Lekki</td>\n",
              "      <td>4</td>\n",
              "      <td>4</td>\n",
              "      <td>5</td>\n",
              "      <td>90,000,000</td>\n",
              "      <td>SALE</td>\n",
              "      <td>Detached Duplex</td>\n",
              "      <td>Lekki</td>\n",
              "    </tr>\n",
              "    <tr>\n",
              "      <th>1</th>\n",
              "      <td>1</td>\n",
              "      <td>MINI FLAT</td>\n",
              "      <td>Lekki</td>\n",
              "      <td>1</td>\n",
              "      <td>1</td>\n",
              "      <td>2</td>\n",
              "      <td>25,000,000</td>\n",
              "      <td>SALE</td>\n",
              "      <td>Flat</td>\n",
              "      <td>Lekki</td>\n",
              "    </tr>\n",
              "    <tr>\n",
              "      <th>2</th>\n",
              "      <td>2</td>\n",
              "      <td>TERRACED DUPLEX</td>\n",
              "      <td>Lekki</td>\n",
              "      <td>4</td>\n",
              "      <td>4</td>\n",
              "      <td>5</td>\n",
              "      <td>55,000,000</td>\n",
              "      <td>SALE</td>\n",
              "      <td>Terraced Duplex</td>\n",
              "      <td>Lekki</td>\n",
              "    </tr>\n",
              "    <tr>\n",
              "      <th>3</th>\n",
              "      <td>3</td>\n",
              "      <td>TERRACED DUPLEX</td>\n",
              "      <td>Lekki</td>\n",
              "      <td>4</td>\n",
              "      <td>4</td>\n",
              "      <td>5</td>\n",
              "      <td>45,000,000</td>\n",
              "      <td>SALE</td>\n",
              "      <td>Terraced Duplex</td>\n",
              "      <td>Lekki</td>\n",
              "    </tr>\n",
              "    <tr>\n",
              "      <th>4</th>\n",
              "      <td>4</td>\n",
              "      <td>TERRACED DUPLEX</td>\n",
              "      <td>Lekki</td>\n",
              "      <td>2</td>\n",
              "      <td>2</td>\n",
              "      <td>3</td>\n",
              "      <td>35,000,000</td>\n",
              "      <td>SALE</td>\n",
              "      <td>Terraced Duplex</td>\n",
              "      <td>Lekki</td>\n",
              "    </tr>\n",
              "  </tbody>\n",
              "</table>\n",
              "</div>"
            ],
            "text/plain": [
              "   Unnamed: 0      house-types location  ... rent / sale       house-type locations\n",
              "0           0  DETACHED DUPLEX    Lekki  ...        SALE  Detached Duplex     Lekki\n",
              "1           1        MINI FLAT    Lekki  ...        SALE             Flat     Lekki\n",
              "2           2  TERRACED DUPLEX    Lekki  ...        SALE  Terraced Duplex     Lekki\n",
              "3           3  TERRACED DUPLEX    Lekki  ...        SALE  Terraced Duplex     Lekki\n",
              "4           4  TERRACED DUPLEX    Lekki  ...        SALE  Terraced Duplex     Lekki\n",
              "\n",
              "[5 rows x 10 columns]"
            ]
          },
          "metadata": {
            "tags": []
          },
          "execution_count": 14
        }
      ]
    },
    {
      "cell_type": "code",
      "metadata": {
        "colab": {
          "base_uri": "https://localhost:8080/"
        },
        "id": "ZrKaFt6aCERW",
        "outputId": "2b33b4bc-2e0e-407c-fc9e-422343c280d9"
      },
      "source": [
        "property1[\"locations\"].value_counts()"
      ],
      "execution_count": null,
      "outputs": [
        {
          "output_type": "execute_result",
          "data": {
            "text/plain": [
              "Lekki              5608\n",
              "Ikoyi              1077\n",
              "Ajah                962\n",
              "Ojodu               411\n",
              "Ikeja               405\n",
              "Victoria Island     307\n",
              "Surulere            256\n",
              "Ikosi               171\n",
              "Ikorodu             167\n",
              "Yaba                148\n",
              "Gbagada             141\n",
              "Ipaja               126\n",
              "Egba                116\n",
              "Ogba                104\n",
              "Alimosho             96\n",
              "Agege                89\n",
              "Maryland             88\n",
              "Isolo                83\n",
              "Igando               82\n",
              "Shomolu              65\n",
              "Odofin               63\n",
              "Ogudu                62\n",
              "Okota                60\n",
              "NaN                  52\n",
              "Sangotedo            44\n",
              "Iju                  35\n",
              "Idimu                32\n",
              "Ejigbo               28\n",
              "Ilupeju              24\n",
              "Ketu                 23\n",
              "Camp                 23\n",
              "Apapa                21\n",
              "Ojo                  17\n",
              "Oshodi               10\n",
              "Ojota                 3\n",
              "Badagry               1\n",
              "Name: locations, dtype: int64"
            ]
          },
          "metadata": {
            "tags": []
          },
          "execution_count": 15
        }
      ]
    },
    {
      "cell_type": "code",
      "metadata": {
        "id": "RjnnZ_ATCqFY"
      },
      "source": [
        "#creating a function that converts all non numerical values to NaN values for the attribute name \"bedroom\"\r\n",
        "\r\n",
        "def bed(x):\r\n",
        "    \r\n",
        "    if '1' in x:\r\n",
        "        return '1'\r\n",
        "    \r\n",
        "    elif '2' in x:\r\n",
        "        return '2'\r\n",
        "    \r\n",
        "    elif '3' in x:\r\n",
        "        return '3'\r\n",
        "    \r\n",
        "    elif '4' in x:\r\n",
        "        return '4'\r\n",
        "    \r\n",
        "    elif '5' in x:\r\n",
        "        return '5'\r\n",
        "    \r\n",
        "    elif '6' in x:\r\n",
        "        return '6'\r\n",
        "    \r\n",
        "    elif '7' in x:\r\n",
        "        return '7'\r\n",
        "    \r\n",
        "    elif '8' in x:\r\n",
        "        return '8'\r\n",
        "    \r\n",
        "    elif '9' in x:\r\n",
        "        return '9'\r\n",
        "    \r\n",
        "    elif '10' in x:\r\n",
        "        return '10'\r\n",
        "    \r\n",
        "    else:\r\n",
        "        return 'NaN'\r\n",
        "    \r\n",
        "   "
      ],
      "execution_count": null,
      "outputs": []
    },
    {
      "cell_type": "code",
      "metadata": {
        "colab": {
          "base_uri": "https://localhost:8080/",
          "height": 204
        },
        "id": "qrdxLAT6Cren",
        "outputId": "687882eb-4334-4293-9682-fa5a4e0afa70"
      },
      "source": [
        "#creating a new attribute that contains all bedroom instances to be numerical and NaN\r\n",
        "\r\n",
        "property1[\"bedroom\"] = property1[\"bedrooms\"].apply(bed)\r\n",
        "\r\n",
        "property1.head()"
      ],
      "execution_count": null,
      "outputs": [
        {
          "output_type": "execute_result",
          "data": {
            "text/html": [
              "<div>\n",
              "<style scoped>\n",
              "    .dataframe tbody tr th:only-of-type {\n",
              "        vertical-align: middle;\n",
              "    }\n",
              "\n",
              "    .dataframe tbody tr th {\n",
              "        vertical-align: top;\n",
              "    }\n",
              "\n",
              "    .dataframe thead th {\n",
              "        text-align: right;\n",
              "    }\n",
              "</style>\n",
              "<table border=\"1\" class=\"dataframe\">\n",
              "  <thead>\n",
              "    <tr style=\"text-align: right;\">\n",
              "      <th></th>\n",
              "      <th>Unnamed: 0</th>\n",
              "      <th>house-types</th>\n",
              "      <th>location</th>\n",
              "      <th>bedrooms</th>\n",
              "      <th>bathrooms</th>\n",
              "      <th>toilets</th>\n",
              "      <th>price</th>\n",
              "      <th>rent / sale</th>\n",
              "      <th>house-type</th>\n",
              "      <th>locations</th>\n",
              "      <th>bedroom</th>\n",
              "    </tr>\n",
              "  </thead>\n",
              "  <tbody>\n",
              "    <tr>\n",
              "      <th>0</th>\n",
              "      <td>0</td>\n",
              "      <td>DETACHED DUPLEX</td>\n",
              "      <td>Lekki</td>\n",
              "      <td>4</td>\n",
              "      <td>4</td>\n",
              "      <td>5</td>\n",
              "      <td>90,000,000</td>\n",
              "      <td>SALE</td>\n",
              "      <td>Detached Duplex</td>\n",
              "      <td>Lekki</td>\n",
              "      <td>4</td>\n",
              "    </tr>\n",
              "    <tr>\n",
              "      <th>1</th>\n",
              "      <td>1</td>\n",
              "      <td>MINI FLAT</td>\n",
              "      <td>Lekki</td>\n",
              "      <td>1</td>\n",
              "      <td>1</td>\n",
              "      <td>2</td>\n",
              "      <td>25,000,000</td>\n",
              "      <td>SALE</td>\n",
              "      <td>Flat</td>\n",
              "      <td>Lekki</td>\n",
              "      <td>1</td>\n",
              "    </tr>\n",
              "    <tr>\n",
              "      <th>2</th>\n",
              "      <td>2</td>\n",
              "      <td>TERRACED DUPLEX</td>\n",
              "      <td>Lekki</td>\n",
              "      <td>4</td>\n",
              "      <td>4</td>\n",
              "      <td>5</td>\n",
              "      <td>55,000,000</td>\n",
              "      <td>SALE</td>\n",
              "      <td>Terraced Duplex</td>\n",
              "      <td>Lekki</td>\n",
              "      <td>4</td>\n",
              "    </tr>\n",
              "    <tr>\n",
              "      <th>3</th>\n",
              "      <td>3</td>\n",
              "      <td>TERRACED DUPLEX</td>\n",
              "      <td>Lekki</td>\n",
              "      <td>4</td>\n",
              "      <td>4</td>\n",
              "      <td>5</td>\n",
              "      <td>45,000,000</td>\n",
              "      <td>SALE</td>\n",
              "      <td>Terraced Duplex</td>\n",
              "      <td>Lekki</td>\n",
              "      <td>4</td>\n",
              "    </tr>\n",
              "    <tr>\n",
              "      <th>4</th>\n",
              "      <td>4</td>\n",
              "      <td>TERRACED DUPLEX</td>\n",
              "      <td>Lekki</td>\n",
              "      <td>2</td>\n",
              "      <td>2</td>\n",
              "      <td>3</td>\n",
              "      <td>35,000,000</td>\n",
              "      <td>SALE</td>\n",
              "      <td>Terraced Duplex</td>\n",
              "      <td>Lekki</td>\n",
              "      <td>2</td>\n",
              "    </tr>\n",
              "  </tbody>\n",
              "</table>\n",
              "</div>"
            ],
            "text/plain": [
              "   Unnamed: 0      house-types location  ...       house-type locations bedroom\n",
              "0           0  DETACHED DUPLEX    Lekki  ...  Detached Duplex     Lekki       4\n",
              "1           1        MINI FLAT    Lekki  ...             Flat     Lekki       1\n",
              "2           2  TERRACED DUPLEX    Lekki  ...  Terraced Duplex     Lekki       4\n",
              "3           3  TERRACED DUPLEX    Lekki  ...  Terraced Duplex     Lekki       4\n",
              "4           4  TERRACED DUPLEX    Lekki  ...  Terraced Duplex     Lekki       2\n",
              "\n",
              "[5 rows x 11 columns]"
            ]
          },
          "metadata": {
            "tags": []
          },
          "execution_count": 17
        }
      ]
    },
    {
      "cell_type": "code",
      "metadata": {
        "id": "tBL61yV6CrhL"
      },
      "source": [
        "#creating a function that converts all non numerical values to NaN values for the attribute name \"bathroom\"\r\n",
        "\r\n",
        "def bath(x):\r\n",
        "    \r\n",
        "    if '1' in x:\r\n",
        "        return '1'\r\n",
        "    \r\n",
        "    elif '2' in x:\r\n",
        "        return '2'\r\n",
        "    \r\n",
        "    elif '3' in x:\r\n",
        "        return '3'\r\n",
        "    \r\n",
        "    elif '4' in x:\r\n",
        "        return '4'\r\n",
        "    \r\n",
        "    elif '5' in x:\r\n",
        "        return '5'\r\n",
        "    \r\n",
        "    elif '6' in x:\r\n",
        "        return '6'\r\n",
        "    \r\n",
        "    elif '7' in x:\r\n",
        "        return '7'\r\n",
        "    \r\n",
        "    elif '8' in x:\r\n",
        "        return '8'\r\n",
        "    \r\n",
        "    elif '9' in x:\r\n",
        "        return '9'\r\n",
        "    \r\n",
        "    elif '10' in x:\r\n",
        "        return '10'\r\n",
        "    \r\n",
        "    else:\r\n",
        "        return 'NaN'\r\n",
        "    \r\n",
        "   "
      ],
      "execution_count": null,
      "outputs": []
    },
    {
      "cell_type": "code",
      "metadata": {
        "colab": {
          "base_uri": "https://localhost:8080/",
          "height": 204
        },
        "id": "JIoVC698Crjs",
        "outputId": "9c4e157d-79d9-49a8-b5a4-da005c78bbb3"
      },
      "source": [
        "#creating a new attribute that contains all bathroom instances to be numerical and NaN\r\n",
        "\r\n",
        "property1[\"bathroom\"] = property1[\"bathrooms\"].apply(bath)\r\n",
        "\r\n",
        "property1.head()"
      ],
      "execution_count": null,
      "outputs": [
        {
          "output_type": "execute_result",
          "data": {
            "text/html": [
              "<div>\n",
              "<style scoped>\n",
              "    .dataframe tbody tr th:only-of-type {\n",
              "        vertical-align: middle;\n",
              "    }\n",
              "\n",
              "    .dataframe tbody tr th {\n",
              "        vertical-align: top;\n",
              "    }\n",
              "\n",
              "    .dataframe thead th {\n",
              "        text-align: right;\n",
              "    }\n",
              "</style>\n",
              "<table border=\"1\" class=\"dataframe\">\n",
              "  <thead>\n",
              "    <tr style=\"text-align: right;\">\n",
              "      <th></th>\n",
              "      <th>Unnamed: 0</th>\n",
              "      <th>house-types</th>\n",
              "      <th>location</th>\n",
              "      <th>bedrooms</th>\n",
              "      <th>bathrooms</th>\n",
              "      <th>toilets</th>\n",
              "      <th>price</th>\n",
              "      <th>rent / sale</th>\n",
              "      <th>house-type</th>\n",
              "      <th>locations</th>\n",
              "      <th>bedroom</th>\n",
              "      <th>bathroom</th>\n",
              "    </tr>\n",
              "  </thead>\n",
              "  <tbody>\n",
              "    <tr>\n",
              "      <th>0</th>\n",
              "      <td>0</td>\n",
              "      <td>DETACHED DUPLEX</td>\n",
              "      <td>Lekki</td>\n",
              "      <td>4</td>\n",
              "      <td>4</td>\n",
              "      <td>5</td>\n",
              "      <td>90,000,000</td>\n",
              "      <td>SALE</td>\n",
              "      <td>Detached Duplex</td>\n",
              "      <td>Lekki</td>\n",
              "      <td>4</td>\n",
              "      <td>4</td>\n",
              "    </tr>\n",
              "    <tr>\n",
              "      <th>1</th>\n",
              "      <td>1</td>\n",
              "      <td>MINI FLAT</td>\n",
              "      <td>Lekki</td>\n",
              "      <td>1</td>\n",
              "      <td>1</td>\n",
              "      <td>2</td>\n",
              "      <td>25,000,000</td>\n",
              "      <td>SALE</td>\n",
              "      <td>Flat</td>\n",
              "      <td>Lekki</td>\n",
              "      <td>1</td>\n",
              "      <td>1</td>\n",
              "    </tr>\n",
              "    <tr>\n",
              "      <th>2</th>\n",
              "      <td>2</td>\n",
              "      <td>TERRACED DUPLEX</td>\n",
              "      <td>Lekki</td>\n",
              "      <td>4</td>\n",
              "      <td>4</td>\n",
              "      <td>5</td>\n",
              "      <td>55,000,000</td>\n",
              "      <td>SALE</td>\n",
              "      <td>Terraced Duplex</td>\n",
              "      <td>Lekki</td>\n",
              "      <td>4</td>\n",
              "      <td>4</td>\n",
              "    </tr>\n",
              "    <tr>\n",
              "      <th>3</th>\n",
              "      <td>3</td>\n",
              "      <td>TERRACED DUPLEX</td>\n",
              "      <td>Lekki</td>\n",
              "      <td>4</td>\n",
              "      <td>4</td>\n",
              "      <td>5</td>\n",
              "      <td>45,000,000</td>\n",
              "      <td>SALE</td>\n",
              "      <td>Terraced Duplex</td>\n",
              "      <td>Lekki</td>\n",
              "      <td>4</td>\n",
              "      <td>4</td>\n",
              "    </tr>\n",
              "    <tr>\n",
              "      <th>4</th>\n",
              "      <td>4</td>\n",
              "      <td>TERRACED DUPLEX</td>\n",
              "      <td>Lekki</td>\n",
              "      <td>2</td>\n",
              "      <td>2</td>\n",
              "      <td>3</td>\n",
              "      <td>35,000,000</td>\n",
              "      <td>SALE</td>\n",
              "      <td>Terraced Duplex</td>\n",
              "      <td>Lekki</td>\n",
              "      <td>2</td>\n",
              "      <td>2</td>\n",
              "    </tr>\n",
              "  </tbody>\n",
              "</table>\n",
              "</div>"
            ],
            "text/plain": [
              "   Unnamed: 0      house-types location  ... locations bedroom bathroom\n",
              "0           0  DETACHED DUPLEX    Lekki  ...     Lekki       4        4\n",
              "1           1        MINI FLAT    Lekki  ...     Lekki       1        1\n",
              "2           2  TERRACED DUPLEX    Lekki  ...     Lekki       4        4\n",
              "3           3  TERRACED DUPLEX    Lekki  ...     Lekki       4        4\n",
              "4           4  TERRACED DUPLEX    Lekki  ...     Lekki       2        2\n",
              "\n",
              "[5 rows x 12 columns]"
            ]
          },
          "metadata": {
            "tags": []
          },
          "execution_count": 19
        }
      ]
    },
    {
      "cell_type": "code",
      "metadata": {
        "id": "duKyxKmKCrmM"
      },
      "source": [
        "#creating a function that converts all non numerical values to NaN values for the attribute name \"toilet\"\r\n",
        "\r\n",
        "def toil(x):\r\n",
        "    \r\n",
        "    if '1' in x:\r\n",
        "        return '1'\r\n",
        "    \r\n",
        "    elif '2' in x:\r\n",
        "        return '2'\r\n",
        "    \r\n",
        "    elif '3' in x:\r\n",
        "        return '3'\r\n",
        "    \r\n",
        "    elif '4' in x:\r\n",
        "        return '4'\r\n",
        "    \r\n",
        "    elif '5' in x:\r\n",
        "        return '5'\r\n",
        "    \r\n",
        "    elif '6' in x:\r\n",
        "        return '6'\r\n",
        "    \r\n",
        "    elif '7' in x:\r\n",
        "        return '7'\r\n",
        "    \r\n",
        "    elif '8' in x:\r\n",
        "        return '8'\r\n",
        "    \r\n",
        "    elif '9' in x:\r\n",
        "        return '9'\r\n",
        "    \r\n",
        "    elif '10' in x:\r\n",
        "        return '10'\r\n",
        "    \r\n",
        "    else:\r\n",
        "        return 'NaN'\r\n",
        "    \r\n",
        "   "
      ],
      "execution_count": null,
      "outputs": []
    },
    {
      "cell_type": "code",
      "metadata": {
        "colab": {
          "base_uri": "https://localhost:8080/",
          "height": 204
        },
        "id": "XaCkyHl0DC3t",
        "outputId": "ea751e3c-2450-4b14-f5c7-5bd70afd5076"
      },
      "source": [
        "#creating a new attribute that contains all toilet instances to be numerical and NaN\r\n",
        "\r\n",
        "property1[\"toilet\"] = property1[\"toilets\"].apply(toil)\r\n",
        "\r\n",
        "property1.head()"
      ],
      "execution_count": null,
      "outputs": [
        {
          "output_type": "execute_result",
          "data": {
            "text/html": [
              "<div>\n",
              "<style scoped>\n",
              "    .dataframe tbody tr th:only-of-type {\n",
              "        vertical-align: middle;\n",
              "    }\n",
              "\n",
              "    .dataframe tbody tr th {\n",
              "        vertical-align: top;\n",
              "    }\n",
              "\n",
              "    .dataframe thead th {\n",
              "        text-align: right;\n",
              "    }\n",
              "</style>\n",
              "<table border=\"1\" class=\"dataframe\">\n",
              "  <thead>\n",
              "    <tr style=\"text-align: right;\">\n",
              "      <th></th>\n",
              "      <th>Unnamed: 0</th>\n",
              "      <th>house-types</th>\n",
              "      <th>location</th>\n",
              "      <th>bedrooms</th>\n",
              "      <th>bathrooms</th>\n",
              "      <th>toilets</th>\n",
              "      <th>price</th>\n",
              "      <th>rent / sale</th>\n",
              "      <th>house-type</th>\n",
              "      <th>locations</th>\n",
              "      <th>bedroom</th>\n",
              "      <th>bathroom</th>\n",
              "      <th>toilet</th>\n",
              "    </tr>\n",
              "  </thead>\n",
              "  <tbody>\n",
              "    <tr>\n",
              "      <th>0</th>\n",
              "      <td>0</td>\n",
              "      <td>DETACHED DUPLEX</td>\n",
              "      <td>Lekki</td>\n",
              "      <td>4</td>\n",
              "      <td>4</td>\n",
              "      <td>5</td>\n",
              "      <td>90,000,000</td>\n",
              "      <td>SALE</td>\n",
              "      <td>Detached Duplex</td>\n",
              "      <td>Lekki</td>\n",
              "      <td>4</td>\n",
              "      <td>4</td>\n",
              "      <td>5</td>\n",
              "    </tr>\n",
              "    <tr>\n",
              "      <th>1</th>\n",
              "      <td>1</td>\n",
              "      <td>MINI FLAT</td>\n",
              "      <td>Lekki</td>\n",
              "      <td>1</td>\n",
              "      <td>1</td>\n",
              "      <td>2</td>\n",
              "      <td>25,000,000</td>\n",
              "      <td>SALE</td>\n",
              "      <td>Flat</td>\n",
              "      <td>Lekki</td>\n",
              "      <td>1</td>\n",
              "      <td>1</td>\n",
              "      <td>2</td>\n",
              "    </tr>\n",
              "    <tr>\n",
              "      <th>2</th>\n",
              "      <td>2</td>\n",
              "      <td>TERRACED DUPLEX</td>\n",
              "      <td>Lekki</td>\n",
              "      <td>4</td>\n",
              "      <td>4</td>\n",
              "      <td>5</td>\n",
              "      <td>55,000,000</td>\n",
              "      <td>SALE</td>\n",
              "      <td>Terraced Duplex</td>\n",
              "      <td>Lekki</td>\n",
              "      <td>4</td>\n",
              "      <td>4</td>\n",
              "      <td>5</td>\n",
              "    </tr>\n",
              "    <tr>\n",
              "      <th>3</th>\n",
              "      <td>3</td>\n",
              "      <td>TERRACED DUPLEX</td>\n",
              "      <td>Lekki</td>\n",
              "      <td>4</td>\n",
              "      <td>4</td>\n",
              "      <td>5</td>\n",
              "      <td>45,000,000</td>\n",
              "      <td>SALE</td>\n",
              "      <td>Terraced Duplex</td>\n",
              "      <td>Lekki</td>\n",
              "      <td>4</td>\n",
              "      <td>4</td>\n",
              "      <td>5</td>\n",
              "    </tr>\n",
              "    <tr>\n",
              "      <th>4</th>\n",
              "      <td>4</td>\n",
              "      <td>TERRACED DUPLEX</td>\n",
              "      <td>Lekki</td>\n",
              "      <td>2</td>\n",
              "      <td>2</td>\n",
              "      <td>3</td>\n",
              "      <td>35,000,000</td>\n",
              "      <td>SALE</td>\n",
              "      <td>Terraced Duplex</td>\n",
              "      <td>Lekki</td>\n",
              "      <td>2</td>\n",
              "      <td>2</td>\n",
              "      <td>3</td>\n",
              "    </tr>\n",
              "  </tbody>\n",
              "</table>\n",
              "</div>"
            ],
            "text/plain": [
              "   Unnamed: 0      house-types location  ... bedroom bathroom toilet\n",
              "0           0  DETACHED DUPLEX    Lekki  ...       4        4      5\n",
              "1           1        MINI FLAT    Lekki  ...       1        1      2\n",
              "2           2  TERRACED DUPLEX    Lekki  ...       4        4      5\n",
              "3           3  TERRACED DUPLEX    Lekki  ...       4        4      5\n",
              "4           4  TERRACED DUPLEX    Lekki  ...       2        2      3\n",
              "\n",
              "[5 rows x 13 columns]"
            ]
          },
          "metadata": {
            "tags": []
          },
          "execution_count": 21
        }
      ]
    },
    {
      "cell_type": "code",
      "metadata": {
        "id": "fCyavKQhDC6L"
      },
      "source": [
        "#Dropping the unwanted variables\r\n",
        "\r\n",
        "property1.drop(['Unnamed: 0','house-types', 'location', 'bedrooms', 'bathrooms','toilets', 'rent / sale'], axis=1, inplace=True)"
      ],
      "execution_count": null,
      "outputs": []
    },
    {
      "cell_type": "code",
      "metadata": {
        "colab": {
          "base_uri": "https://localhost:8080/",
          "height": 204
        },
        "id": "izzuIojpDC8P",
        "outputId": "1570fd15-abce-4d10-dc0c-c6e464a6bf0d"
      },
      "source": [
        "property1.head()"
      ],
      "execution_count": null,
      "outputs": [
        {
          "output_type": "execute_result",
          "data": {
            "text/html": [
              "<div>\n",
              "<style scoped>\n",
              "    .dataframe tbody tr th:only-of-type {\n",
              "        vertical-align: middle;\n",
              "    }\n",
              "\n",
              "    .dataframe tbody tr th {\n",
              "        vertical-align: top;\n",
              "    }\n",
              "\n",
              "    .dataframe thead th {\n",
              "        text-align: right;\n",
              "    }\n",
              "</style>\n",
              "<table border=\"1\" class=\"dataframe\">\n",
              "  <thead>\n",
              "    <tr style=\"text-align: right;\">\n",
              "      <th></th>\n",
              "      <th>price</th>\n",
              "      <th>house-type</th>\n",
              "      <th>locations</th>\n",
              "      <th>bedroom</th>\n",
              "      <th>bathroom</th>\n",
              "      <th>toilet</th>\n",
              "    </tr>\n",
              "  </thead>\n",
              "  <tbody>\n",
              "    <tr>\n",
              "      <th>0</th>\n",
              "      <td>90,000,000</td>\n",
              "      <td>Detached Duplex</td>\n",
              "      <td>Lekki</td>\n",
              "      <td>4</td>\n",
              "      <td>4</td>\n",
              "      <td>5</td>\n",
              "    </tr>\n",
              "    <tr>\n",
              "      <th>1</th>\n",
              "      <td>25,000,000</td>\n",
              "      <td>Flat</td>\n",
              "      <td>Lekki</td>\n",
              "      <td>1</td>\n",
              "      <td>1</td>\n",
              "      <td>2</td>\n",
              "    </tr>\n",
              "    <tr>\n",
              "      <th>2</th>\n",
              "      <td>55,000,000</td>\n",
              "      <td>Terraced Duplex</td>\n",
              "      <td>Lekki</td>\n",
              "      <td>4</td>\n",
              "      <td>4</td>\n",
              "      <td>5</td>\n",
              "    </tr>\n",
              "    <tr>\n",
              "      <th>3</th>\n",
              "      <td>45,000,000</td>\n",
              "      <td>Terraced Duplex</td>\n",
              "      <td>Lekki</td>\n",
              "      <td>4</td>\n",
              "      <td>4</td>\n",
              "      <td>5</td>\n",
              "    </tr>\n",
              "    <tr>\n",
              "      <th>4</th>\n",
              "      <td>35,000,000</td>\n",
              "      <td>Terraced Duplex</td>\n",
              "      <td>Lekki</td>\n",
              "      <td>2</td>\n",
              "      <td>2</td>\n",
              "      <td>3</td>\n",
              "    </tr>\n",
              "  </tbody>\n",
              "</table>\n",
              "</div>"
            ],
            "text/plain": [
              "        price       house-type locations bedroom bathroom toilet\n",
              "0  90,000,000  Detached Duplex     Lekki       4        4      5\n",
              "1  25,000,000             Flat     Lekki       1        1      2\n",
              "2  55,000,000  Terraced Duplex     Lekki       4        4      5\n",
              "3  45,000,000  Terraced Duplex     Lekki       4        4      5\n",
              "4  35,000,000  Terraced Duplex     Lekki       2        2      3"
            ]
          },
          "metadata": {
            "tags": []
          },
          "execution_count": 23
        }
      ]
    },
    {
      "cell_type": "markdown",
      "metadata": {
        "id": "WsRU8ao7DdT6"
      },
      "source": [
        "<h2> Sorting Missing Values </h2>"
      ]
    },
    {
      "cell_type": "code",
      "metadata": {
        "colab": {
          "base_uri": "https://localhost:8080/"
        },
        "id": "S8puSugBDDAo",
        "outputId": "4004f278-c1e5-4562-b5e1-cfbe74d92cc8"
      },
      "source": [
        "print('House Types: ', property1['house-type'].unique(), '\\n')\r\n",
        "print('---------------------------------------------')\r\n",
        "print('Location: ', property1['locations'].unique(), '\\n')\r\n",
        "print('---------------------------------------------')\r\n",
        "print('Number of Bedrooms: ', property1['bedroom'].unique(), '\\n')\r\n",
        "print('---------------------------------------------')\r\n",
        "print('Number of Bathrooms: ', property1['bathroom'].unique(), '\\n')\r\n",
        "print('---------------------------------------------')\r\n",
        "print('Number of Toilets: ', property1['toilet'].unique(), '\\n')\r\n",
        "print('---------------------------------------------')"
      ],
      "execution_count": null,
      "outputs": [
        {
          "output_type": "stream",
          "text": [
            "House Types:  ['Detached Duplex' 'Flat' 'Terraced Duplex' 'Semi Detached Duplex'\n",
            " 'Blocks of Flats' 'Massionette House' 'NaN' 'Duplex' 'Terraced Bungalow'\n",
            " 'Self Contain'] \n",
            "\n",
            "---------------------------------------------\n",
            "Location:  ['Lekki' 'Ikoyi' 'Isolo' 'Ajah' 'Ilupeju' 'Victoria Island' 'Ikeja'\n",
            " 'Ojodu' 'NaN' 'Gbagada' 'Maryland' 'Surulere' 'Ogba' 'Ketu' 'Egba' 'Yaba'\n",
            " 'Sangotedo' 'Odofin' 'Ejigbo' 'Iju' 'Ipaja' 'Alimosho' 'Ikosi' 'Ikorodu'\n",
            " 'Igando' 'Camp' 'Ogudu' 'Shomolu' 'Idimu' 'Apapa' 'Okota' 'Agege' 'Ojo'\n",
            " 'Ojota' 'Oshodi' 'Badagry'] \n",
            "\n",
            "---------------------------------------------\n",
            "Number of Bedrooms:  ['4' '1' '2' '3' '5' '6' '7' 'NaN' '8' '9'] \n",
            "\n",
            "---------------------------------------------\n",
            "Number of Bathrooms:  ['4' '1' '2' '5' '6' '3' 'NaN' '7' '8' '9'] \n",
            "\n",
            "---------------------------------------------\n",
            "Number of Toilets:  ['5' '2' '3' '6' '4' 'NaN' '8' '7' '9' '1'] \n",
            "\n",
            "---------------------------------------------\n"
          ],
          "name": "stdout"
        }
      ]
    },
    {
      "cell_type": "code",
      "metadata": {
        "id": "8SSAUdWSDDDk"
      },
      "source": [
        "#replacing the missing values ('NaN') with 'np.NaN' and saving with a new name\r\n",
        "\r\n",
        "new_property1 = property1.replace('NaN', np.nan)"
      ],
      "execution_count": null,
      "outputs": []
    },
    {
      "cell_type": "code",
      "metadata": {
        "colab": {
          "base_uri": "https://localhost:8080/"
        },
        "id": "zA9vfoyQDDGd",
        "outputId": "903d4647-3ee6-4b7f-c463-4a3cd7f18ad4"
      },
      "source": [
        "print('House Types: ', new_property1['house-type'].unique(), '\\n')\r\n",
        "print('---------------------------------------------')\r\n",
        "print('Location: ', new_property1['locations'].unique(), '\\n')\r\n",
        "print('---------------------------------------------')\r\n",
        "print('Number of Bedrooms: ', new_property1['bedroom'].unique(), '\\n')\r\n",
        "print('---------------------------------------------')\r\n",
        "print('Number of Bathrooms: ', new_property1['bathroom'].unique(), '\\n')\r\n",
        "print('---------------------------------------------')\r\n",
        "print('Number of Toilets: ', new_property1['toilet'].unique(), '\\n')\r\n",
        "print('---------------------------------------------')\r\n"
      ],
      "execution_count": null,
      "outputs": [
        {
          "output_type": "stream",
          "text": [
            "House Types:  ['Detached Duplex' 'Flat' 'Terraced Duplex' 'Semi Detached Duplex'\n",
            " 'Blocks of Flats' 'Massionette House' nan 'Duplex' 'Terraced Bungalow'\n",
            " 'Self Contain'] \n",
            "\n",
            "---------------------------------------------\n",
            "Location:  ['Lekki' 'Ikoyi' 'Isolo' 'Ajah' 'Ilupeju' 'Victoria Island' 'Ikeja'\n",
            " 'Ojodu' nan 'Gbagada' 'Maryland' 'Surulere' 'Ogba' 'Ketu' 'Egba' 'Yaba'\n",
            " 'Sangotedo' 'Odofin' 'Ejigbo' 'Iju' 'Ipaja' 'Alimosho' 'Ikosi' 'Ikorodu'\n",
            " 'Igando' 'Camp' 'Ogudu' 'Shomolu' 'Idimu' 'Apapa' 'Okota' 'Agege' 'Ojo'\n",
            " 'Ojota' 'Oshodi' 'Badagry'] \n",
            "\n",
            "---------------------------------------------\n",
            "Number of Bedrooms:  ['4' '1' '2' '3' '5' '6' '7' nan '8' '9'] \n",
            "\n",
            "---------------------------------------------\n",
            "Number of Bathrooms:  ['4' '1' '2' '5' '6' '3' nan '7' '8' '9'] \n",
            "\n",
            "---------------------------------------------\n",
            "Number of Toilets:  ['5' '2' '3' '6' '4' nan '8' '7' '9' '1'] \n",
            "\n",
            "---------------------------------------------\n"
          ],
          "name": "stdout"
        }
      ]
    },
    {
      "cell_type": "code",
      "metadata": {
        "id": "9WQ2K7BPDDKf"
      },
      "source": [
        "#converting the dataset to a numpy array\r\n",
        "\r\n",
        "new_property1 = new_property1.to_numpy()"
      ],
      "execution_count": null,
      "outputs": []
    },
    {
      "cell_type": "code",
      "metadata": {
        "id": "yH7pmBJ7DDPt"
      },
      "source": [
        "# Using simple inputer to converyt the NaN values to the most frequent value on the attribute column\r\n",
        "\r\n",
        "imp = SimpleImputer(missing_values=np.NaN, strategy='most_frequent')"
      ],
      "execution_count": null,
      "outputs": []
    },
    {
      "cell_type": "code",
      "metadata": {
        "id": "zs0E2tKWCrpL"
      },
      "source": [
        "clean_property1 = imp.fit_transform(new_property1)"
      ],
      "execution_count": null,
      "outputs": []
    },
    {
      "cell_type": "code",
      "metadata": {
        "id": "BeUwpp8PCrtm"
      },
      "source": [
        "clean_property1 = pd.DataFrame(data=clean_property1, columns=property1.columns)"
      ],
      "execution_count": null,
      "outputs": []
    },
    {
      "cell_type": "code",
      "metadata": {
        "colab": {
          "base_uri": "https://localhost:8080/",
          "height": 204
        },
        "id": "dKARBF6xECOB",
        "outputId": "3a09b820-cfad-4c00-ece6-b4f21b887d7a"
      },
      "source": [
        "clean_property1.head()"
      ],
      "execution_count": null,
      "outputs": [
        {
          "output_type": "execute_result",
          "data": {
            "text/html": [
              "<div>\n",
              "<style scoped>\n",
              "    .dataframe tbody tr th:only-of-type {\n",
              "        vertical-align: middle;\n",
              "    }\n",
              "\n",
              "    .dataframe tbody tr th {\n",
              "        vertical-align: top;\n",
              "    }\n",
              "\n",
              "    .dataframe thead th {\n",
              "        text-align: right;\n",
              "    }\n",
              "</style>\n",
              "<table border=\"1\" class=\"dataframe\">\n",
              "  <thead>\n",
              "    <tr style=\"text-align: right;\">\n",
              "      <th></th>\n",
              "      <th>price</th>\n",
              "      <th>house-type</th>\n",
              "      <th>locations</th>\n",
              "      <th>bedroom</th>\n",
              "      <th>bathroom</th>\n",
              "      <th>toilet</th>\n",
              "    </tr>\n",
              "  </thead>\n",
              "  <tbody>\n",
              "    <tr>\n",
              "      <th>0</th>\n",
              "      <td>90,000,000</td>\n",
              "      <td>Detached Duplex</td>\n",
              "      <td>Lekki</td>\n",
              "      <td>4</td>\n",
              "      <td>4</td>\n",
              "      <td>5</td>\n",
              "    </tr>\n",
              "    <tr>\n",
              "      <th>1</th>\n",
              "      <td>25,000,000</td>\n",
              "      <td>Flat</td>\n",
              "      <td>Lekki</td>\n",
              "      <td>1</td>\n",
              "      <td>1</td>\n",
              "      <td>2</td>\n",
              "    </tr>\n",
              "    <tr>\n",
              "      <th>2</th>\n",
              "      <td>55,000,000</td>\n",
              "      <td>Terraced Duplex</td>\n",
              "      <td>Lekki</td>\n",
              "      <td>4</td>\n",
              "      <td>4</td>\n",
              "      <td>5</td>\n",
              "    </tr>\n",
              "    <tr>\n",
              "      <th>3</th>\n",
              "      <td>45,000,000</td>\n",
              "      <td>Terraced Duplex</td>\n",
              "      <td>Lekki</td>\n",
              "      <td>4</td>\n",
              "      <td>4</td>\n",
              "      <td>5</td>\n",
              "    </tr>\n",
              "    <tr>\n",
              "      <th>4</th>\n",
              "      <td>35,000,000</td>\n",
              "      <td>Terraced Duplex</td>\n",
              "      <td>Lekki</td>\n",
              "      <td>2</td>\n",
              "      <td>2</td>\n",
              "      <td>3</td>\n",
              "    </tr>\n",
              "  </tbody>\n",
              "</table>\n",
              "</div>"
            ],
            "text/plain": [
              "        price       house-type locations bedroom bathroom toilet\n",
              "0  90,000,000  Detached Duplex     Lekki       4        4      5\n",
              "1  25,000,000             Flat     Lekki       1        1      2\n",
              "2  55,000,000  Terraced Duplex     Lekki       4        4      5\n",
              "3  45,000,000  Terraced Duplex     Lekki       4        4      5\n",
              "4  35,000,000  Terraced Duplex     Lekki       2        2      3"
            ]
          },
          "metadata": {
            "tags": []
          },
          "execution_count": 31
        }
      ]
    },
    {
      "cell_type": "code",
      "metadata": {
        "id": "LWObIFhwxpnx"
      },
      "source": [
        "clean_property1.to_csv(\"Clean_property.csv\")"
      ],
      "execution_count": null,
      "outputs": []
    },
    {
      "cell_type": "code",
      "metadata": {
        "colab": {
          "base_uri": "https://localhost:8080/"
        },
        "id": "NOOYNqK3EXHG",
        "outputId": "010985b7-8378-4755-cadd-6044ef52e965"
      },
      "source": [
        "print('House Types: ', clean_property1['house-type'].unique(), '\\n')\r\n",
        "print('---------------------------------------------')\r\n",
        "print('Location: ', clean_property1['locations'].unique(), '\\n')\r\n",
        "print('---------------------------------------------')\r\n",
        "print('Number of Bedrooms: ', clean_property1['bedroom'].unique(), '\\n')\r\n",
        "print('---------------------------------------------')\r\n",
        "print('Number of Bathrooms: ', clean_property1['bathroom'].unique(), '\\n')\r\n",
        "print('---------------------------------------------')\r\n",
        "print('Number of Toilets: ', clean_property1['toilet'].unique(), '\\n')\r\n",
        "print('---------------------------------------------')\r\n"
      ],
      "execution_count": null,
      "outputs": [
        {
          "output_type": "stream",
          "text": [
            "House Types:  ['Detached Duplex' 'Flat' 'Terraced Duplex' 'Semi Detached Duplex'\n",
            " 'Blocks of Flats' 'Massionette House' 'Duplex' 'Terraced Bungalow'\n",
            " 'Self Contain'] \n",
            "\n",
            "---------------------------------------------\n",
            "Location:  ['Lekki' 'Ikoyi' 'Isolo' 'Ajah' 'Ilupeju' 'Victoria Island' 'Ikeja'\n",
            " 'Ojodu' 'Gbagada' 'Maryland' 'Surulere' 'Ogba' 'Ketu' 'Egba' 'Yaba'\n",
            " 'Sangotedo' 'Odofin' 'Ejigbo' 'Iju' 'Ipaja' 'Alimosho' 'Ikosi' 'Ikorodu'\n",
            " 'Igando' 'Camp' 'Ogudu' 'Shomolu' 'Idimu' 'Apapa' 'Okota' 'Agege' 'Ojo'\n",
            " 'Ojota' 'Oshodi' 'Badagry'] \n",
            "\n",
            "---------------------------------------------\n",
            "Number of Bedrooms:  ['4' '1' '2' '3' '5' '6' '7' '8' '9'] \n",
            "\n",
            "---------------------------------------------\n",
            "Number of Bathrooms:  ['4' '1' '2' '5' '6' '3' '7' '8' '9'] \n",
            "\n",
            "---------------------------------------------\n",
            "Number of Toilets:  ['5' '2' '3' '6' '4' '8' '7' '9' '1'] \n",
            "\n",
            "---------------------------------------------\n"
          ],
          "name": "stdout"
        }
      ]
    },
    {
      "cell_type": "code",
      "metadata": {
        "colab": {
          "base_uri": "https://localhost:8080/"
        },
        "id": "xI9tj14_EjPE",
        "outputId": "7b5715e5-32fe-4e55-97dc-0579c060f75a"
      },
      "source": [
        "#Knowing the data type of each attribute\r\n",
        "\r\n",
        "clean_property1.dtypes"
      ],
      "execution_count": null,
      "outputs": [
        {
          "output_type": "execute_result",
          "data": {
            "text/plain": [
              "price         object\n",
              "house-type    object\n",
              "locations     object\n",
              "bedroom       object\n",
              "bathroom      object\n",
              "toilet        object\n",
              "dtype: object"
            ]
          },
          "metadata": {
            "tags": []
          },
          "execution_count": 34
        }
      ]
    },
    {
      "cell_type": "markdown",
      "metadata": {
        "id": "PsGUOVaHFYaK"
      },
      "source": [
        "\r\n",
        "<h2> Exploratory Data Analysis </h2>\r\n",
        "```\r\n"
      ]
    },
    {
      "cell_type": "code",
      "metadata": {
        "colab": {
          "base_uri": "https://localhost:8080/",
          "height": 609
        },
        "id": "ZbV3DaTYFemr",
        "outputId": "d2cc0c70-b1c2-429f-f4db-63694c0e8f84"
      },
      "source": [
        "clean_property1['locations'].value_counts().plot(kind='barh', figsize = (15, 10))"
      ],
      "execution_count": null,
      "outputs": [
        {
          "output_type": "execute_result",
          "data": {
            "text/plain": [
              "<matplotlib.axes._subplots.AxesSubplot at 0x7fde0ee7b6d8>"
            ]
          },
          "metadata": {
            "tags": []
          },
          "execution_count": 35
        },
        {
          "output_type": "display_data",
          "data": {
            "image/png": "[encoded data removed]",
            "text/plain": [
              "<Figure size 1080x720 with 1 Axes>"
            ]
          },
          "metadata": {
            "tags": []
          }
        }
      ]
    },
    {
      "cell_type": "code",
      "metadata": {
        "colab": {
          "base_uri": "https://localhost:8080/",
          "height": 609
        },
        "id": "BUcXqbkHFzOb",
        "outputId": "693ac0dc-47b1-4d83-efa9-12b01740761a"
      },
      "source": [
        "clean_property1['house-type'].value_counts().plot(kind='barh', figsize = (15, 10))"
      ],
      "execution_count": null,
      "outputs": [
        {
          "output_type": "execute_result",
          "data": {
            "text/plain": [
              "<matplotlib.axes._subplots.AxesSubplot at 0x7fde0edb0470>"
            ]
          },
          "metadata": {
            "tags": []
          },
          "execution_count": 36
        },
        {
          "output_type": "display_data",
          "data": {
            "image/png": "[encoded data removed]",
            "text/plain": [
              "<Figure size 1080x720 with 1 Axes>"
            ]
          },
          "metadata": {
            "tags": []
          }
        }
      ]
    },
    {
      "cell_type": "code",
      "metadata": {
        "colab": {
          "base_uri": "https://localhost:8080/",
          "height": 938
        },
        "id": "Bn6VZHoAFzXn",
        "outputId": "f241c4f0-b254-464b-c685-b01b1d8dbcb9"
      },
      "source": [
        "plt.scatter('locations', 'price', data=clean_property1)\r\n",
        "plt.xticks(rotation=90)"
      ],
      "execution_count": null,
      "outputs": [
        {
          "output_type": "execute_result",
          "data": {
            "text/plain": [
              "([0,\n",
              "  1,\n",
              "  2,\n",
              "  3,\n",
              "  4,\n",
              "  5,\n",
              "  6,\n",
              "  7,\n",
              "  8,\n",
              "  9,\n",
              "  10,\n",
              "  11,\n",
              "  12,\n",
              "  13,\n",
              "  14,\n",
              "  15,\n",
              "  16,\n",
              "  17,\n",
              "  18,\n",
              "  19,\n",
              "  20,\n",
              "  21,\n",
              "  22,\n",
              "  23,\n",
              "  24,\n",
              "  25,\n",
              "  26,\n",
              "  27,\n",
              "  28,\n",
              "  29,\n",
              "  30,\n",
              "  31,\n",
              "  32,\n",
              "  33,\n",
              "  34],\n",
              " <a list of 35 Text major ticklabel objects>)"
            ]
          },
          "metadata": {
            "tags": []
          },
          "execution_count": 37
        },
        {
          "output_type": "display_data",
          "data": {
            "image/png": "[encoded data removed]",
            "text/plain": [
              "<Figure size 432x288 with 1 Axes>"
            ]
          },
          "metadata": {
            "tags": []
          }
        }
      ]
    },
    {
      "cell_type": "code",
      "metadata": {
        "id": "9jkuRIYOFzb1"
      },
      "source": [
        "#making a copy of the original data to check for correlation between all attributes\r\n",
        "\r\n",
        "clean_property1_copy = pd.DataFrame(data=clean_property1)"
      ],
      "execution_count": null,
      "outputs": []
    },
    {
      "cell_type": "code",
      "metadata": {
        "colab": {
          "base_uri": "https://localhost:8080/"
        },
        "id": "jtEgnxsuFzfo",
        "outputId": "2f3a7e15-e72c-4433-c3a7-9a79b2c8a222"
      },
      "source": [
        "clean_property1_copy.to_csv"
      ],
      "execution_count": null,
      "outputs": [
        {
          "output_type": "execute_result",
          "data": {
            "text/plain": [
              "<bound method NDFrame.to_csv of              price            house-type locations bedroom bathroom toilet\n",
              "0       90,000,000       Detached Duplex     Lekki       4        4      5\n",
              "1       25,000,000                  Flat     Lekki       1        1      2\n",
              "2       55,000,000       Terraced Duplex     Lekki       4        4      5\n",
              "3       45,000,000       Terraced Duplex     Lekki       4        4      5\n",
              "4       35,000,000       Terraced Duplex     Lekki       2        2      3\n",
              "...            ...                   ...       ...     ...      ...    ...\n",
              "10995   60,000,000  Semi Detached Duplex     Lekki       4        4      5\n",
              "10996  240,000,000  Semi Detached Duplex     Ikoyi       4        4      5\n",
              "10997  150,000,000                Duplex  Surulere       4        4      5\n",
              "10998   48,000,000  Semi Detached Duplex      Ajah       4        4      5\n",
              "10999  125,000,000       Detached Duplex     Ojodu       5        5      6\n",
              "\n",
              "[11000 rows x 6 columns]>"
            ]
          },
          "metadata": {
            "tags": []
          },
          "execution_count": 39
        }
      ]
    },
    {
      "cell_type": "code",
      "metadata": {
        "colab": {
          "base_uri": "https://localhost:8080/"
        },
        "id": "a5nYedTKSSeF",
        "outputId": "bd714c56-1cc5-42ad-b489-d29876044144"
      },
      "source": [
        "#converting all attributes to numerical data \r\n",
        "\r\n",
        "for column in clean_property1_copy.columns:\r\n",
        "    if clean_property1_copy[column].dtype == np.number:\r\n",
        "        continue\r\n",
        "    clean_property1_copy[column] = LabelEncoder().fit_transform(clean_property1_copy[column])"
      ],
      "execution_count": null,
      "outputs": [
        {
          "output_type": "stream",
          "text": [
            "/usr/local/lib/python3.6/dist-packages/ipykernel_launcher.py:4: DeprecationWarning: Converting `np.inexact` or `np.floating` to a dtype is deprecated. The current result is `float64` which is not strictly correct.\n",
            "  after removing the cwd from sys.path.\n"
          ],
          "name": "stderr"
        }
      ]
    },
    {
      "cell_type": "code",
      "metadata": {
        "colab": {
          "base_uri": "https://localhost:8080/",
          "height": 419
        },
        "id": "Jp3Ko-4xSbZG",
        "outputId": "7762aedf-6baf-4904-db81-c8ca3087015f"
      },
      "source": [
        "clean_property1_copy"
      ],
      "execution_count": null,
      "outputs": [
        {
          "output_type": "execute_result",
          "data": {
            "text/html": [
              "<div>\n",
              "<style scoped>\n",
              "    .dataframe tbody tr th:only-of-type {\n",
              "        vertical-align: middle;\n",
              "    }\n",
              "\n",
              "    .dataframe tbody tr th {\n",
              "        vertical-align: top;\n",
              "    }\n",
              "\n",
              "    .dataframe thead th {\n",
              "        text-align: right;\n",
              "    }\n",
              "</style>\n",
              "<table border=\"1\" class=\"dataframe\">\n",
              "  <thead>\n",
              "    <tr style=\"text-align: right;\">\n",
              "      <th></th>\n",
              "      <th>price</th>\n",
              "      <th>house-type</th>\n",
              "      <th>locations</th>\n",
              "      <th>bedroom</th>\n",
              "      <th>bathroom</th>\n",
              "      <th>toilet</th>\n",
              "    </tr>\n",
              "  </thead>\n",
              "  <tbody>\n",
              "    <tr>\n",
              "      <th>0</th>\n",
              "      <td>350</td>\n",
              "      <td>1</td>\n",
              "      <td>20</td>\n",
              "      <td>3</td>\n",
              "      <td>3</td>\n",
              "      <td>4</td>\n",
              "    </tr>\n",
              "    <tr>\n",
              "      <th>1</th>\n",
              "      <td>133</td>\n",
              "      <td>3</td>\n",
              "      <td>20</td>\n",
              "      <td>0</td>\n",
              "      <td>0</td>\n",
              "      <td>1</td>\n",
              "    </tr>\n",
              "    <tr>\n",
              "      <th>2</th>\n",
              "      <td>266</td>\n",
              "      <td>8</td>\n",
              "      <td>20</td>\n",
              "      <td>3</td>\n",
              "      <td>3</td>\n",
              "      <td>4</td>\n",
              "    </tr>\n",
              "    <tr>\n",
              "      <th>3</th>\n",
              "      <td>230</td>\n",
              "      <td>8</td>\n",
              "      <td>20</td>\n",
              "      <td>3</td>\n",
              "      <td>3</td>\n",
              "      <td>4</td>\n",
              "    </tr>\n",
              "    <tr>\n",
              "      <th>4</th>\n",
              "      <td>188</td>\n",
              "      <td>8</td>\n",
              "      <td>20</td>\n",
              "      <td>1</td>\n",
              "      <td>1</td>\n",
              "      <td>2</td>\n",
              "    </tr>\n",
              "    <tr>\n",
              "      <th>...</th>\n",
              "      <td>...</td>\n",
              "      <td>...</td>\n",
              "      <td>...</td>\n",
              "      <td>...</td>\n",
              "      <td>...</td>\n",
              "      <td>...</td>\n",
              "    </tr>\n",
              "    <tr>\n",
              "      <th>10995</th>\n",
              "      <td>281</td>\n",
              "      <td>6</td>\n",
              "      <td>20</td>\n",
              "      <td>3</td>\n",
              "      <td>3</td>\n",
              "      <td>4</td>\n",
              "    </tr>\n",
              "    <tr>\n",
              "      <th>10996</th>\n",
              "      <td>130</td>\n",
              "      <td>6</td>\n",
              "      <td>15</td>\n",
              "      <td>3</td>\n",
              "      <td>3</td>\n",
              "      <td>4</td>\n",
              "    </tr>\n",
              "    <tr>\n",
              "      <th>10997</th>\n",
              "      <td>65</td>\n",
              "      <td>2</td>\n",
              "      <td>32</td>\n",
              "      <td>3</td>\n",
              "      <td>3</td>\n",
              "      <td>4</td>\n",
              "    </tr>\n",
              "    <tr>\n",
              "      <th>10998</th>\n",
              "      <td>244</td>\n",
              "      <td>6</td>\n",
              "      <td>1</td>\n",
              "      <td>3</td>\n",
              "      <td>3</td>\n",
              "      <td>4</td>\n",
              "    </tr>\n",
              "    <tr>\n",
              "      <th>10999</th>\n",
              "      <td>43</td>\n",
              "      <td>1</td>\n",
              "      <td>26</td>\n",
              "      <td>4</td>\n",
              "      <td>4</td>\n",
              "      <td>5</td>\n",
              "    </tr>\n",
              "  </tbody>\n",
              "</table>\n",
              "<p>11000 rows × 6 columns</p>\n",
              "</div>"
            ],
            "text/plain": [
              "       price  house-type  locations  bedroom  bathroom  toilet\n",
              "0        350           1         20        3         3       4\n",
              "1        133           3         20        0         0       1\n",
              "2        266           8         20        3         3       4\n",
              "3        230           8         20        3         3       4\n",
              "4        188           8         20        1         1       2\n",
              "...      ...         ...        ...      ...       ...     ...\n",
              "10995    281           6         20        3         3       4\n",
              "10996    130           6         15        3         3       4\n",
              "10997     65           2         32        3         3       4\n",
              "10998    244           6          1        3         3       4\n",
              "10999     43           1         26        4         4       5\n",
              "\n",
              "[11000 rows x 6 columns]"
            ]
          },
          "metadata": {
            "tags": []
          },
          "execution_count": 41
        }
      ]
    },
    {
      "cell_type": "code",
      "metadata": {
        "colab": {
          "base_uri": "https://localhost:8080/"
        },
        "id": "KcUg7pamSsgl",
        "outputId": "8896d618-709e-4dec-e0cf-94779dcd0a83"
      },
      "source": [
        "clean_property1_copy.dtypes"
      ],
      "execution_count": null,
      "outputs": [
        {
          "output_type": "execute_result",
          "data": {
            "text/plain": [
              "price         int64\n",
              "house-type    int64\n",
              "locations     int64\n",
              "bedroom       int64\n",
              "bathroom      int64\n",
              "toilet        int64\n",
              "dtype: object"
            ]
          },
          "metadata": {
            "tags": []
          },
          "execution_count": 42
        }
      ]
    },
    {
      "cell_type": "code",
      "metadata": {
        "colab": {
          "base_uri": "https://localhost:8080/",
          "height": 387
        },
        "id": "YlE7pTagSwOI",
        "outputId": "b65f3e6a-1dde-43b7-bc7b-727aae517659"
      },
      "source": [
        "plt.figure(figsize=(5,5))\r\n",
        "sns.heatmap(clean_property1_copy.corr(), annot=True, fmt='.0%')"
      ],
      "execution_count": null,
      "outputs": [
        {
          "output_type": "execute_result",
          "data": {
            "text/plain": [
              "<matplotlib.axes._subplots.AxesSubplot at 0x7fde0e56d080>"
            ]
          },
          "metadata": {
            "tags": []
          },
          "execution_count": 43
        },
        {
          "output_type": "display_data",
          "data": {
            "image/png": "[encoded data removed]",
            "text/plain": [
              "<Figure size 360x360 with 2 Axes>"
            ]
          },
          "metadata": {
            "tags": []
          }
        }
      ]
    },
    {
      "cell_type": "code",
      "metadata": {
        "id": "ZHFWWH1RS4en"
      },
      "source": [
        "clean_property1.to_csv(\"clean_property1.csv\")"
      ],
      "execution_count": null,
      "outputs": []
    },
    {
      "cell_type": "code",
      "metadata": {
        "id": "UScBCk3uTAnT"
      },
      "source": [
        "clean_property1 = pd.read_csv('clean_property1.csv')"
      ],
      "execution_count": null,
      "outputs": []
    },
    {
      "cell_type": "code",
      "metadata": {
        "colab": {
          "base_uri": "https://localhost:8080/",
          "height": 419
        },
        "id": "cvjeBDRcTDCH",
        "outputId": "4b7cb03d-9f1b-4014-f7f5-3ccf6535f04c"
      },
      "source": [
        "clean_property1"
      ],
      "execution_count": null,
      "outputs": [
        {
          "output_type": "execute_result",
          "data": {
            "text/html": [
              "<div>\n",
              "<style scoped>\n",
              "    .dataframe tbody tr th:only-of-type {\n",
              "        vertical-align: middle;\n",
              "    }\n",
              "\n",
              "    .dataframe tbody tr th {\n",
              "        vertical-align: top;\n",
              "    }\n",
              "\n",
              "    .dataframe thead th {\n",
              "        text-align: right;\n",
              "    }\n",
              "</style>\n",
              "<table border=\"1\" class=\"dataframe\">\n",
              "  <thead>\n",
              "    <tr style=\"text-align: right;\">\n",
              "      <th></th>\n",
              "      <th>Unnamed: 0</th>\n",
              "      <th>price</th>\n",
              "      <th>house-type</th>\n",
              "      <th>locations</th>\n",
              "      <th>bedroom</th>\n",
              "      <th>bathroom</th>\n",
              "      <th>toilet</th>\n",
              "    </tr>\n",
              "  </thead>\n",
              "  <tbody>\n",
              "    <tr>\n",
              "      <th>0</th>\n",
              "      <td>0</td>\n",
              "      <td>350</td>\n",
              "      <td>1</td>\n",
              "      <td>20</td>\n",
              "      <td>3</td>\n",
              "      <td>3</td>\n",
              "      <td>4</td>\n",
              "    </tr>\n",
              "    <tr>\n",
              "      <th>1</th>\n",
              "      <td>1</td>\n",
              "      <td>133</td>\n",
              "      <td>3</td>\n",
              "      <td>20</td>\n",
              "      <td>0</td>\n",
              "      <td>0</td>\n",
              "      <td>1</td>\n",
              "    </tr>\n",
              "    <tr>\n",
              "      <th>2</th>\n",
              "      <td>2</td>\n",
              "      <td>266</td>\n",
              "      <td>8</td>\n",
              "      <td>20</td>\n",
              "      <td>3</td>\n",
              "      <td>3</td>\n",
              "      <td>4</td>\n",
              "    </tr>\n",
              "    <tr>\n",
              "      <th>3</th>\n",
              "      <td>3</td>\n",
              "      <td>230</td>\n",
              "      <td>8</td>\n",
              "      <td>20</td>\n",
              "      <td>3</td>\n",
              "      <td>3</td>\n",
              "      <td>4</td>\n",
              "    </tr>\n",
              "    <tr>\n",
              "      <th>4</th>\n",
              "      <td>4</td>\n",
              "      <td>188</td>\n",
              "      <td>8</td>\n",
              "      <td>20</td>\n",
              "      <td>1</td>\n",
              "      <td>1</td>\n",
              "      <td>2</td>\n",
              "    </tr>\n",
              "    <tr>\n",
              "      <th>...</th>\n",
              "      <td>...</td>\n",
              "      <td>...</td>\n",
              "      <td>...</td>\n",
              "      <td>...</td>\n",
              "      <td>...</td>\n",
              "      <td>...</td>\n",
              "      <td>...</td>\n",
              "    </tr>\n",
              "    <tr>\n",
              "      <th>10995</th>\n",
              "      <td>10995</td>\n",
              "      <td>281</td>\n",
              "      <td>6</td>\n",
              "      <td>20</td>\n",
              "      <td>3</td>\n",
              "      <td>3</td>\n",
              "      <td>4</td>\n",
              "    </tr>\n",
              "    <tr>\n",
              "      <th>10996</th>\n",
              "      <td>10996</td>\n",
              "      <td>130</td>\n",
              "      <td>6</td>\n",
              "      <td>15</td>\n",
              "      <td>3</td>\n",
              "      <td>3</td>\n",
              "      <td>4</td>\n",
              "    </tr>\n",
              "    <tr>\n",
              "      <th>10997</th>\n",
              "      <td>10997</td>\n",
              "      <td>65</td>\n",
              "      <td>2</td>\n",
              "      <td>32</td>\n",
              "      <td>3</td>\n",
              "      <td>3</td>\n",
              "      <td>4</td>\n",
              "    </tr>\n",
              "    <tr>\n",
              "      <th>10998</th>\n",
              "      <td>10998</td>\n",
              "      <td>244</td>\n",
              "      <td>6</td>\n",
              "      <td>1</td>\n",
              "      <td>3</td>\n",
              "      <td>3</td>\n",
              "      <td>4</td>\n",
              "    </tr>\n",
              "    <tr>\n",
              "      <th>10999</th>\n",
              "      <td>10999</td>\n",
              "      <td>43</td>\n",
              "      <td>1</td>\n",
              "      <td>26</td>\n",
              "      <td>4</td>\n",
              "      <td>4</td>\n",
              "      <td>5</td>\n",
              "    </tr>\n",
              "  </tbody>\n",
              "</table>\n",
              "<p>11000 rows × 7 columns</p>\n",
              "</div>"
            ],
            "text/plain": [
              "       Unnamed: 0  price  house-type  locations  bedroom  bathroom  toilet\n",
              "0               0    350           1         20        3         3       4\n",
              "1               1    133           3         20        0         0       1\n",
              "2               2    266           8         20        3         3       4\n",
              "3               3    230           8         20        3         3       4\n",
              "4               4    188           8         20        1         1       2\n",
              "...           ...    ...         ...        ...      ...       ...     ...\n",
              "10995       10995    281           6         20        3         3       4\n",
              "10996       10996    130           6         15        3         3       4\n",
              "10997       10997     65           2         32        3         3       4\n",
              "10998       10998    244           6          1        3         3       4\n",
              "10999       10999     43           1         26        4         4       5\n",
              "\n",
              "[11000 rows x 7 columns]"
            ]
          },
          "metadata": {
            "tags": []
          },
          "execution_count": 46
        }
      ]
    },
    {
      "cell_type": "markdown",
      "metadata": {
        "id": "Pfy1oEylTWOA"
      },
      "source": [
        "<h2>MODELLING<h2>"
      ]
    },
    {
      "cell_type": "code",
      "metadata": {
        "colab": {
          "resources": {
            "http://localhost:8080/nbextensions/google.colab/files.js": {
              "data": "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",
              "headers": [
                [
                  "content-type",
                  "application/javascript"
                ]
              ],
              "ok": true,
              "status": 200,
              "status_text": ""
            }
          },
          "base_uri": "https://localhost:8080/",
          "height": 72
        },
        "id": "wio1Secegitz",
        "outputId": "53fb6569-0326-4ff5-d072-d5dacda1e31d"
      },
      "source": [
        "from google.colab import files\r\n",
        "\r\n",
        "uploaded = files.upload()"
      ],
      "execution_count": null,
      "outputs": [
        {
          "output_type": "display_data",
          "data": {
            "text/html": [
              "\n",
              "     <input type=\"file\" id=\"files-41bb97d5-0b85-4f1a-af9c-f77aa0e1007a\" name=\"files[]\" multiple disabled\n",
              "        style=\"border:none\" />\n",
              "     <output id=\"result-41bb97d5-0b85-4f1a-af9c-f77aa0e1007a\">\n",
              "      Upload widget is only available when the cell has been executed in the\n",
              "      current browser session. Please rerun this cell to enable.\n",
              "      </output>\n",
              "      <script src=\"/nbextensions/google.colab/files.js\"></script> "
            ],
            "text/plain": [
              "<IPython.core.display.HTML object>"
            ]
          },
          "metadata": {
            "tags": []
          }
        },
        {
          "output_type": "stream",
          "text": [
            "Saving clean_property1.csv to clean_property1 (1).csv\n"
          ],
          "name": "stdout"
        }
      ]
    },
    {
      "cell_type": "code",
      "metadata": {
        "id": "v9uEnMilUmsA"
      },
      "source": [
        "df_train = pd.read_csv('clean_property1.csv', index_col=0)"
      ],
      "execution_count": null,
      "outputs": []
    },
    {
      "cell_type": "code",
      "metadata": {
        "id": "FLH_Xy6obHmb",
        "colab": {
          "base_uri": "https://localhost:8080/",
          "height": 204
        },
        "outputId": "fdcb5467-9744-4dfd-c988-b799b29b74d3"
      },
      "source": [
        "df_train.head()"
      ],
      "execution_count": 73,
      "outputs": [
        {
          "output_type": "execute_result",
          "data": {
            "text/html": [
              "<div>\n",
              "<style scoped>\n",
              "    .dataframe tbody tr th:only-of-type {\n",
              "        vertical-align: middle;\n",
              "    }\n",
              "\n",
              "    .dataframe tbody tr th {\n",
              "        vertical-align: top;\n",
              "    }\n",
              "\n",
              "    .dataframe thead th {\n",
              "        text-align: right;\n",
              "    }\n",
              "</style>\n",
              "<table border=\"1\" class=\"dataframe\">\n",
              "  <thead>\n",
              "    <tr style=\"text-align: right;\">\n",
              "      <th></th>\n",
              "      <th>price</th>\n",
              "      <th>house-type</th>\n",
              "      <th>locations</th>\n",
              "      <th>bathroom</th>\n",
              "      <th>bedroom</th>\n",
              "      <th>toilet</th>\n",
              "    </tr>\n",
              "  </thead>\n",
              "  <tbody>\n",
              "    <tr>\n",
              "      <th>0</th>\n",
              "      <td>350</td>\n",
              "      <td>1</td>\n",
              "      <td>20</td>\n",
              "      <td>3</td>\n",
              "      <td>3</td>\n",
              "      <td>4</td>\n",
              "    </tr>\n",
              "    <tr>\n",
              "      <th>1</th>\n",
              "      <td>133</td>\n",
              "      <td>3</td>\n",
              "      <td>20</td>\n",
              "      <td>0</td>\n",
              "      <td>0</td>\n",
              "      <td>1</td>\n",
              "    </tr>\n",
              "    <tr>\n",
              "      <th>2</th>\n",
              "      <td>266</td>\n",
              "      <td>8</td>\n",
              "      <td>20</td>\n",
              "      <td>3</td>\n",
              "      <td>3</td>\n",
              "      <td>4</td>\n",
              "    </tr>\n",
              "    <tr>\n",
              "      <th>3</th>\n",
              "      <td>230</td>\n",
              "      <td>8</td>\n",
              "      <td>20</td>\n",
              "      <td>3</td>\n",
              "      <td>3</td>\n",
              "      <td>4</td>\n",
              "    </tr>\n",
              "    <tr>\n",
              "      <th>4</th>\n",
              "      <td>188</td>\n",
              "      <td>8</td>\n",
              "      <td>20</td>\n",
              "      <td>1</td>\n",
              "      <td>1</td>\n",
              "      <td>2</td>\n",
              "    </tr>\n",
              "  </tbody>\n",
              "</table>\n",
              "</div>"
            ],
            "text/plain": [
              "   price  house-type  locations  bathroom  bedroom  toilet\n",
              "0    350           1         20         3        3       4\n",
              "1    133           3         20         0        0       1\n",
              "2    266           8         20         3        3       4\n",
              "3    230           8         20         3        3       4\n",
              "4    188           8         20         1        1       2"
            ]
          },
          "metadata": {
            "tags": []
          },
          "execution_count": 73
        }
      ]
    },
    {
      "cell_type": "code",
      "metadata": {
        "id": "3BGgYIfpjaUt",
        "colab": {
          "base_uri": "https://localhost:8080/"
        },
        "outputId": "1e4a07fe-80ce-41fc-94f2-1a4151c655f9"
      },
      "source": [
        "!pip install \"tensorflow>=1.7.0\"\r\n",
        "!pip install tensorflowjs"
      ],
      "execution_count": 74,
      "outputs": [
        {
          "output_type": "stream",
          "text": [
            "Requirement already satisfied: tensorflow>=1.7.0 in /usr/local/lib/python3.6/dist-packages (2.4.0)\n",
            "Requirement already satisfied: absl-py~=0.10 in /usr/local/lib/python3.6/dist-packages (from tensorflow>=1.7.0) (0.10.0)\n",
            "Requirement already satisfied: grpcio~=1.32.0 in /usr/local/lib/python3.6/dist-packages (from tensorflow>=1.7.0) (1.32.0)\n",
            "Requirement already satisfied: protobuf>=3.9.2 in /usr/local/lib/python3.6/dist-packages (from tensorflow>=1.7.0) (3.12.4)\n",
            "Requirement already satisfied: six~=1.15.0 in /usr/local/lib/python3.6/dist-packages (from tensorflow>=1.7.0) (1.15.0)\n",
            "Requirement already satisfied: termcolor~=1.1.0 in /usr/local/lib/python3.6/dist-packages (from tensorflow>=1.7.0) (1.1.0)\n",
            "Requirement already satisfied: typing-extensions~=3.7.4 in /usr/local/lib/python3.6/dist-packages (from tensorflow>=1.7.0) (3.7.4.3)\n",
            "Requirement already satisfied: h5py~=2.10.0 in /usr/local/lib/python3.6/dist-packages (from tensorflow>=1.7.0) (2.10.0)\n",
            "Requirement already satisfied: google-pasta~=0.2 in /usr/local/lib/python3.6/dist-packages (from tensorflow>=1.7.0) (0.2.0)\n",
            "Requirement already satisfied: wheel~=0.35 in /usr/local/lib/python3.6/dist-packages (from tensorflow>=1.7.0) (0.36.2)\n",
            "Requirement already satisfied: numpy~=1.19.2 in /usr/local/lib/python3.6/dist-packages (from tensorflow>=1.7.0) (1.19.4)\n",
            "Requirement already satisfied: tensorboard~=2.4 in /usr/local/lib/python3.6/dist-packages (from tensorflow>=1.7.0) (2.4.0)\n",
            "Requirement already satisfied: keras-preprocessing~=1.1.2 in /usr/local/lib/python3.6/dist-packages (from tensorflow>=1.7.0) (1.1.2)\n",
            "Requirement already satisfied: wrapt~=1.12.1 in /usr/local/lib/python3.6/dist-packages (from tensorflow>=1.7.0) (1.12.1)\n",
            "Requirement already satisfied: tensorflow-estimator<2.5.0,>=2.4.0rc0 in /usr/local/lib/python3.6/dist-packages (from tensorflow>=1.7.0) (2.4.0)\n",
            "Requirement already satisfied: astunparse~=1.6.3 in /usr/local/lib/python3.6/dist-packages (from tensorflow>=1.7.0) (1.6.3)\n",
            "Requirement already satisfied: flatbuffers~=1.12.0 in /usr/local/lib/python3.6/dist-packages (from tensorflow>=1.7.0) (1.12)\n",
            "Requirement already satisfied: opt-einsum~=3.3.0 in /usr/local/lib/python3.6/dist-packages (from tensorflow>=1.7.0) (3.3.0)\n",
            "Requirement already satisfied: gast==0.3.3 in /usr/local/lib/python3.6/dist-packages (from tensorflow>=1.7.0) (0.3.3)\n",
            "Requirement already satisfied: setuptools in /usr/local/lib/python3.6/dist-packages (from protobuf>=3.9.2->tensorflow>=1.7.0) (51.1.1)\n",
            "Requirement already satisfied: tensorboard-plugin-wit>=1.6.0 in /usr/local/lib/python3.6/dist-packages (from tensorboard~=2.4->tensorflow>=1.7.0) (1.7.0)\n",
            "Requirement already satisfied: werkzeug>=0.11.15 in /usr/local/lib/python3.6/dist-packages (from tensorboard~=2.4->tensorflow>=1.7.0) (1.0.1)\n",
            "Requirement already satisfied: google-auth<2,>=1.6.3 in /usr/local/lib/python3.6/dist-packages (from tensorboard~=2.4->tensorflow>=1.7.0) (1.17.2)\n",
            "Requirement already satisfied: markdown>=2.6.8 in /usr/local/lib/python3.6/dist-packages (from tensorboard~=2.4->tensorflow>=1.7.0) (3.3.3)\n",
            "Requirement already satisfied: google-auth-oauthlib<0.5,>=0.4.1 in /usr/local/lib/python3.6/dist-packages (from tensorboard~=2.4->tensorflow>=1.7.0) (0.4.2)\n",
            "Requirement already satisfied: requests<3,>=2.21.0 in /usr/local/lib/python3.6/dist-packages (from tensorboard~=2.4->tensorflow>=1.7.0) (2.23.0)\n",
            "Requirement already satisfied: cachetools<5.0,>=2.0.0 in /usr/local/lib/python3.6/dist-packages (from google-auth<2,>=1.6.3->tensorboard~=2.4->tensorflow>=1.7.0) (4.2.0)\n",
            "Requirement already satisfied: pyasn1-modules>=0.2.1 in /usr/local/lib/python3.6/dist-packages (from google-auth<2,>=1.6.3->tensorboard~=2.4->tensorflow>=1.7.0) (0.2.8)\n",
            "Requirement already satisfied: rsa<5,>=3.1.4; python_version >= \"3\" in /usr/local/lib/python3.6/dist-packages (from google-auth<2,>=1.6.3->tensorboard~=2.4->tensorflow>=1.7.0) (4.6)\n",
            "Requirement already satisfied: importlib-metadata; python_version < \"3.8\" in /usr/local/lib/python3.6/dist-packages (from markdown>=2.6.8->tensorboard~=2.4->tensorflow>=1.7.0) (3.3.0)\n",
            "Requirement already satisfied: requests-oauthlib>=0.7.0 in /usr/local/lib/python3.6/dist-packages (from google-auth-oauthlib<0.5,>=0.4.1->tensorboard~=2.4->tensorflow>=1.7.0) (1.3.0)\n",
            "Requirement already satisfied: certifi>=2017.4.17 in /usr/local/lib/python3.6/dist-packages (from requests<3,>=2.21.0->tensorboard~=2.4->tensorflow>=1.7.0) (2020.12.5)\n",
            "Requirement already satisfied: chardet<4,>=3.0.2 in /usr/local/lib/python3.6/dist-packages (from requests<3,>=2.21.0->tensorboard~=2.4->tensorflow>=1.7.0) (3.0.4)\n",
            "Requirement already satisfied: urllib3!=1.25.0,!=1.25.1,<1.26,>=1.21.1 in /usr/local/lib/python3.6/dist-packages (from requests<3,>=2.21.0->tensorboard~=2.4->tensorflow>=1.7.0) (1.24.3)\n",
            "Requirement already satisfied: idna<3,>=2.5 in /usr/local/lib/python3.6/dist-packages (from requests<3,>=2.21.0->tensorboard~=2.4->tensorflow>=1.7.0) (2.10)\n",
            "Requirement already satisfied: pyasn1<0.5.0,>=0.4.6 in /usr/local/lib/python3.6/dist-packages (from pyasn1-modules>=0.2.1->google-auth<2,>=1.6.3->tensorboard~=2.4->tensorflow>=1.7.0) (0.4.8)\n",
            "Requirement already satisfied: zipp>=0.5 in /usr/local/lib/python3.6/dist-packages (from importlib-metadata; python_version < \"3.8\"->markdown>=2.6.8->tensorboard~=2.4->tensorflow>=1.7.0) (3.4.0)\n",
            "Requirement already satisfied: oauthlib>=3.0.0 in /usr/local/lib/python3.6/dist-packages (from requests-oauthlib>=0.7.0->google-auth-oauthlib<0.5,>=0.4.1->tensorboard~=2.4->tensorflow>=1.7.0) (3.1.0)\n",
            "Requirement already satisfied: tensorflowjs in /usr/local/lib/python3.6/dist-packages (2.8.3)\n",
            "Requirement already satisfied: h5py<3,>=2.8.0 in /usr/local/lib/python3.6/dist-packages (from tensorflowjs) (2.10.0)\n",
            "Requirement already satisfied: six<2,>=1.12.0 in /usr/local/lib/python3.6/dist-packages (from tensorflowjs) (1.15.0)\n",
            "Requirement already satisfied: tensorflow<3,>=2.1.0 in /usr/local/lib/python3.6/dist-packages (from tensorflowjs) (2.4.0)\n",
            "Requirement already satisfied: tensorflow-hub<0.10,>=0.7.0 in /usr/local/lib/python3.6/dist-packages (from tensorflowjs) (0.9.0)\n",
            "Requirement already satisfied: numpy>=1.7 in /usr/local/lib/python3.6/dist-packages (from h5py<3,>=2.8.0->tensorflowjs) (1.19.4)\n",
            "Requirement already satisfied: google-pasta~=0.2 in /usr/local/lib/python3.6/dist-packages (from tensorflow<3,>=2.1.0->tensorflowjs) (0.2.0)\n",
            "Requirement already satisfied: tensorboard~=2.4 in /usr/local/lib/python3.6/dist-packages (from tensorflow<3,>=2.1.0->tensorflowjs) (2.4.0)\n",
            "Requirement already satisfied: tensorflow-estimator<2.5.0,>=2.4.0rc0 in /usr/local/lib/python3.6/dist-packages (from tensorflow<3,>=2.1.0->tensorflowjs) (2.4.0)\n",
            "Requirement already satisfied: protobuf>=3.9.2 in /usr/local/lib/python3.6/dist-packages (from tensorflow<3,>=2.1.0->tensorflowjs) (3.12.4)\n",
            "Requirement already satisfied: gast==0.3.3 in /usr/local/lib/python3.6/dist-packages (from tensorflow<3,>=2.1.0->tensorflowjs) (0.3.3)\n",
            "Requirement already satisfied: keras-preprocessing~=1.1.2 in /usr/local/lib/python3.6/dist-packages (from tensorflow<3,>=2.1.0->tensorflowjs) (1.1.2)\n",
            "Requirement already satisfied: flatbuffers~=1.12.0 in /usr/local/lib/python3.6/dist-packages (from tensorflow<3,>=2.1.0->tensorflowjs) (1.12)\n",
            "Requirement already satisfied: astunparse~=1.6.3 in /usr/local/lib/python3.6/dist-packages (from tensorflow<3,>=2.1.0->tensorflowjs) (1.6.3)\n",
            "Requirement already satisfied: grpcio~=1.32.0 in /usr/local/lib/python3.6/dist-packages (from tensorflow<3,>=2.1.0->tensorflowjs) (1.32.0)\n",
            "Requirement already satisfied: typing-extensions~=3.7.4 in /usr/local/lib/python3.6/dist-packages (from tensorflow<3,>=2.1.0->tensorflowjs) (3.7.4.3)\n",
            "Requirement already satisfied: termcolor~=1.1.0 in /usr/local/lib/python3.6/dist-packages (from tensorflow<3,>=2.1.0->tensorflowjs) (1.1.0)\n",
            "Requirement already satisfied: absl-py~=0.10 in /usr/local/lib/python3.6/dist-packages (from tensorflow<3,>=2.1.0->tensorflowjs) (0.10.0)\n",
            "Requirement already satisfied: wrapt~=1.12.1 in /usr/local/lib/python3.6/dist-packages (from tensorflow<3,>=2.1.0->tensorflowjs) (1.12.1)\n",
            "Requirement already satisfied: opt-einsum~=3.3.0 in /usr/local/lib/python3.6/dist-packages (from tensorflow<3,>=2.1.0->tensorflowjs) (3.3.0)\n",
            "Requirement already satisfied: wheel~=0.35 in /usr/local/lib/python3.6/dist-packages (from tensorflow<3,>=2.1.0->tensorflowjs) (0.36.2)\n",
            "Requirement already satisfied: markdown>=2.6.8 in /usr/local/lib/python3.6/dist-packages (from tensorboard~=2.4->tensorflow<3,>=2.1.0->tensorflowjs) (3.3.3)\n",
            "Requirement already satisfied: requests<3,>=2.21.0 in /usr/local/lib/python3.6/dist-packages (from tensorboard~=2.4->tensorflow<3,>=2.1.0->tensorflowjs) (2.23.0)\n",
            "Requirement already satisfied: tensorboard-plugin-wit>=1.6.0 in /usr/local/lib/python3.6/dist-packages (from tensorboard~=2.4->tensorflow<3,>=2.1.0->tensorflowjs) (1.7.0)\n",
            "Requirement already satisfied: werkzeug>=0.11.15 in /usr/local/lib/python3.6/dist-packages (from tensorboard~=2.4->tensorflow<3,>=2.1.0->tensorflowjs) (1.0.1)\n",
            "Requirement already satisfied: setuptools>=41.0.0 in /usr/local/lib/python3.6/dist-packages (from tensorboard~=2.4->tensorflow<3,>=2.1.0->tensorflowjs) (51.1.1)\n",
            "Requirement already satisfied: google-auth-oauthlib<0.5,>=0.4.1 in /usr/local/lib/python3.6/dist-packages (from tensorboard~=2.4->tensorflow<3,>=2.1.0->tensorflowjs) (0.4.2)\n",
            "Requirement already satisfied: google-auth<2,>=1.6.3 in /usr/local/lib/python3.6/dist-packages (from tensorboard~=2.4->tensorflow<3,>=2.1.0->tensorflowjs) (1.17.2)\n",
            "Requirement already satisfied: importlib-metadata; python_version < \"3.8\" in /usr/local/lib/python3.6/dist-packages (from markdown>=2.6.8->tensorboard~=2.4->tensorflow<3,>=2.1.0->tensorflowjs) (3.3.0)\n",
            "Requirement already satisfied: certifi>=2017.4.17 in /usr/local/lib/python3.6/dist-packages (from requests<3,>=2.21.0->tensorboard~=2.4->tensorflow<3,>=2.1.0->tensorflowjs) (2020.12.5)\n",
            "Requirement already satisfied: chardet<4,>=3.0.2 in /usr/local/lib/python3.6/dist-packages (from requests<3,>=2.21.0->tensorboard~=2.4->tensorflow<3,>=2.1.0->tensorflowjs) (3.0.4)\n",
            "Requirement already satisfied: urllib3!=1.25.0,!=1.25.1,<1.26,>=1.21.1 in /usr/local/lib/python3.6/dist-packages (from requests<3,>=2.21.0->tensorboard~=2.4->tensorflow<3,>=2.1.0->tensorflowjs) (1.24.3)\n",
            "Requirement already satisfied: idna<3,>=2.5 in /usr/local/lib/python3.6/dist-packages (from requests<3,>=2.21.0->tensorboard~=2.4->tensorflow<3,>=2.1.0->tensorflowjs) (2.10)\n",
            "Requirement already satisfied: requests-oauthlib>=0.7.0 in /usr/local/lib/python3.6/dist-packages (from google-auth-oauthlib<0.5,>=0.4.1->tensorboard~=2.4->tensorflow<3,>=2.1.0->tensorflowjs) (1.3.0)\n",
            "Requirement already satisfied: cachetools<5.0,>=2.0.0 in /usr/local/lib/python3.6/dist-packages (from google-auth<2,>=1.6.3->tensorboard~=2.4->tensorflow<3,>=2.1.0->tensorflowjs) (4.2.0)\n",
            "Requirement already satisfied: pyasn1-modules>=0.2.1 in /usr/local/lib/python3.6/dist-packages (from google-auth<2,>=1.6.3->tensorboard~=2.4->tensorflow<3,>=2.1.0->tensorflowjs) (0.2.8)\n",
            "Requirement already satisfied: rsa<5,>=3.1.4; python_version >= \"3\" in /usr/local/lib/python3.6/dist-packages (from google-auth<2,>=1.6.3->tensorboard~=2.4->tensorflow<3,>=2.1.0->tensorflowjs) (4.6)\n",
            "Requirement already satisfied: zipp>=0.5 in /usr/local/lib/python3.6/dist-packages (from importlib-metadata; python_version < \"3.8\"->markdown>=2.6.8->tensorboard~=2.4->tensorflow<3,>=2.1.0->tensorflowjs) (3.4.0)\n",
            "Requirement already satisfied: oauthlib>=3.0.0 in /usr/local/lib/python3.6/dist-packages (from requests-oauthlib>=0.7.0->google-auth-oauthlib<0.5,>=0.4.1->tensorboard~=2.4->tensorflow<3,>=2.1.0->tensorflowjs) (3.1.0)\n",
            "Requirement already satisfied: pyasn1<0.5.0,>=0.4.6 in /usr/local/lib/python3.6/dist-packages (from pyasn1-modules>=0.2.1->google-auth<2,>=1.6.3->tensorboard~=2.4->tensorflow<3,>=2.1.0->tensorflowjs) (0.4.8)\n"
          ],
          "name": "stdout"
        }
      ]
    },
    {
      "cell_type": "code",
      "metadata": {
        "id": "LQThJkA6jaXo"
      },
      "source": [
        "# MLP for House Forsale Price  Dataset Serialize to JSON and HDF5\r\n",
        "from keras.models import Sequential\r\n",
        "from keras.layers import Dense\r\n",
        "from keras.models import load_model\r\n",
        "from keras.models import model_from_json\r\n",
        "import numpy\r\n",
        "import os\r\n",
        "from __future__ import absolute_import\r\n",
        "from __future__ import division\r\n",
        "from __future__ import print_function\r\n",
        "import numpy as np\r\n",
        "import tensorflow as tf"
      ],
      "execution_count": 75,
      "outputs": []
    },
    {
      "cell_type": "code",
      "metadata": {
        "id": "L0Obrdxujaaw"
      },
      "source": [
        "cols = ['price','house-type', 'locations', 'bathroom', 'bedroom', 'toilet']\r\n",
        "df_train = df_train[cols]\r\n",
        "# Create dummy values\r\n",
        "df_train = pd.get_dummies(df_train)\r\n",
        "#filling NA's with the mean of the column:\r\n",
        "df_train = df_train.fillna(df_train.mean())\r\n",
        "# Always standard scale the data before using NN\r\n",
        "scale = StandardScaler()\r\n",
        "X_train = df_train[['house-type', 'locations', 'bathroom', 'bedroom', 'toilet']]\r\n",
        "X_train = scale.fit_transform(X_train)\r\n",
        "# Y is just the 'price' column\r\n",
        "y = df_train['price'].values\r\n",
        "seed = 7\r\n",
        "np.random.seed(seed)\r\n",
        "# split into 67% for train and 33% for test\r\n",
        "X_train, X_test, y_train, y_test = train_test_split(X_train, y, test_size=0.33, random_state=seed)"
      ],
      "execution_count": 76,
      "outputs": []
    },
    {
      "cell_type": "code",
      "metadata": {
        "id": "X96d1LxGjadU",
        "colab": {
          "base_uri": "https://localhost:8080/"
        },
        "outputId": "d9fb5f53-865f-4162-a8d3-e8513b3f3661"
      },
      "source": [
        "print(X_train.shape, X_test.shape, y_train.shape, y_test.shape)"
      ],
      "execution_count": 77,
      "outputs": [
        {
          "output_type": "stream",
          "text": [
            "(7370, 5) (3630, 5) (7370,) (3630,)\n"
          ],
          "name": "stdout"
        }
      ]
    },
    {
      "cell_type": "code",
      "metadata": {
        "id": "XWeCnq6Ujafx"
      },
      "source": [
        "# create model\r\n",
        "model = Sequential()\r\n",
        "model.add(Dense(12, input_dim=8, activation='relu'))\r\n",
        "model.add(Dense(8, activation='relu'))\r\n",
        "model.add(Dense(1, activation='sigmoid'))\r\n"
      ],
      "execution_count": 78,
      "outputs": []
    },
    {
      "cell_type": "code",
      "metadata": {
        "colab": {
          "base_uri": "https://localhost:8080/"
        },
        "id": "Hjr2lAvcjaiF",
        "outputId": "99d11746-1672-48de-f3e3-e6b3defcc148"
      },
      "source": [
        "input_size = 37\r\n",
        "output_size = 45\r\n",
        "hidden_layer_size = 3\r\n",
        "model = tf.keras.Sequential([\r\n",
        "    tf.keras.layers.Dense(hidden_layer_size, activation='relu'),\r\n",
        "    tf.keras.layers.Dense(hidden_layer_size, activation='relu'),\r\n",
        "    tf.keras.layers.Dense(output_size, activation='linear') \r\n",
        "])\r\n",
        "\r\n",
        "model.compile(optimizer='adam', loss='mean_absolute_error', metrics=['MeanAbsoluteError','mse'])\r\n",
        "\r\n",
        "batch_size = 10\r\n",
        "max_epochs = 20\r\n",
        "callback=tf.keras.callbacks.EarlyStopping(patience=2)\r\n",
        "model.fit(X_train, \r\n",
        "          y_train, \r\n",
        "          batch_size=10, \r\n",
        "          epochs=max_epochs, \r\n",
        "          verbose=0,\r\n",
        "          callbacks=[callback],\r\n",
        "          validation_data=(X_test, y_test)\r\n",
        "          )\r\n"
      ],
      "execution_count": 79,
      "outputs": [
        {
          "output_type": "execute_result",
          "data": {
            "text/plain": [
              "<tensorflow.python.keras.callbacks.History at 0x7fde03fd9da0>"
            ]
          },
          "metadata": {
            "tags": []
          },
          "execution_count": 79
        }
      ]
    },
    {
      "cell_type": "code",
      "metadata": {
        "colab": {
          "base_uri": "https://localhost:8080/"
        },
        "id": "roWr6xSExcHe",
        "outputId": "15dc6e10-0b0e-4ced-8abf-b7713fb3772e"
      },
      "source": [
        "model.summary()"
      ],
      "execution_count": 80,
      "outputs": [
        {
          "output_type": "stream",
          "text": [
            "Model: \"sequential_3\"\n",
            "_________________________________________________________________\n",
            "Layer (type)                 Output Shape              Param #   \n",
            "=================================================================\n",
            "dense_9 (Dense)              (10, 3)                   18        \n",
            "_________________________________________________________________\n",
            "dense_10 (Dense)             (10, 3)                   12        \n",
            "_________________________________________________________________\n",
            "dense_11 (Dense)             (10, 45)                  180       \n",
            "=================================================================\n",
            "Total params: 210\n",
            "Trainable params: 210\n",
            "Non-trainable params: 0\n",
            "_________________________________________________________________\n"
          ],
          "name": "stdout"
        }
      ]
    },
    {
      "cell_type": "code",
      "metadata": {
        "id": "Pils0eE7xcJh",
        "colab": {
          "base_uri": "https://localhost:8080/"
        },
        "outputId": "fd852bfe-edb0-4da8-d7b1-7848c2e76247"
      },
      "source": [
        "history = model.fit(X_train, y_train, validation_data=(X_test,y_test), epochs=150, batch_size=32)\r\n"
      ],
      "execution_count": 81,
      "outputs": [
        {
          "output_type": "stream",
          "text": [
            "Epoch 1/150\n",
            "231/231 [==============================] - 1s 3ms/step - loss: 87.8329 - mean_absolute_error: 87.8329 - mse: 11116.8506 - val_loss: 87.0563 - val_mean_absolute_error: 87.0563 - val_mse: 10819.3838\n",
            "Epoch 2/150\n",
            "231/231 [==============================] - 1s 2ms/step - loss: 87.8163 - mean_absolute_error: 87.8163 - mse: 11072.4336 - val_loss: 87.0161 - val_mean_absolute_error: 87.0161 - val_mse: 10836.7881\n",
            "Epoch 3/150\n",
            "231/231 [==============================] - 1s 2ms/step - loss: 87.8130 - mean_absolute_error: 87.8130 - mse: 11162.1123 - val_loss: 87.0251 - val_mean_absolute_error: 87.0251 - val_mse: 10829.3291\n",
            "Epoch 4/150\n",
            "231/231 [==============================] - 1s 2ms/step - loss: 87.8053 - mean_absolute_error: 87.8053 - mse: 11100.3232 - val_loss: 87.0075 - val_mean_absolute_error: 87.0075 - val_mse: 10823.7090\n",
            "Epoch 5/150\n",
            "231/231 [==============================] - 0s 2ms/step - loss: 87.7964 - mean_absolute_error: 87.7964 - mse: 11082.3691 - val_loss: 86.9707 - val_mean_absolute_error: 86.9707 - val_mse: 10851.9453\n",
            "Epoch 6/150\n",
            "231/231 [==============================] - 1s 2ms/step - loss: 87.7945 - mean_absolute_error: 87.7945 - mse: 11111.5693 - val_loss: 86.9517 - val_mean_absolute_error: 86.9517 - val_mse: 10851.7822\n",
            "Epoch 7/150\n",
            "231/231 [==============================] - 0s 2ms/step - loss: 87.8001 - mean_absolute_error: 87.8001 - mse: 11166.7871 - val_loss: 86.9529 - val_mean_absolute_error: 86.9529 - val_mse: 10837.0801\n",
            "Epoch 8/150\n",
            "231/231 [==============================] - 1s 2ms/step - loss: 87.7747 - mean_absolute_error: 87.7747 - mse: 11111.6406 - val_loss: 86.9430 - val_mean_absolute_error: 86.9430 - val_mse: 10826.6240\n",
            "Epoch 9/150\n",
            "231/231 [==============================] - 1s 2ms/step - loss: 87.7722 - mean_absolute_error: 87.7722 - mse: 11125.4463 - val_loss: 86.9340 - val_mean_absolute_error: 86.9340 - val_mse: 10819.1211\n",
            "Epoch 10/150\n",
            "231/231 [==============================] - 1s 2ms/step - loss: 87.7553 - mean_absolute_error: 87.7553 - mse: 11074.4912 - val_loss: 86.9390 - val_mean_absolute_error: 86.9390 - val_mse: 10807.8633\n",
            "Epoch 11/150\n",
            "231/231 [==============================] - 1s 2ms/step - loss: 87.7456 - mean_absolute_error: 87.7456 - mse: 11078.2402 - val_loss: 86.8931 - val_mean_absolute_error: 86.8931 - val_mse: 10841.7510\n",
            "Epoch 12/150\n",
            "231/231 [==============================] - 1s 2ms/step - loss: 87.7531 - mean_absolute_error: 87.7531 - mse: 11125.7207 - val_loss: 86.8919 - val_mean_absolute_error: 86.8919 - val_mse: 10815.8955\n",
            "Epoch 13/150\n",
            "231/231 [==============================] - 1s 2ms/step - loss: 87.7456 - mean_absolute_error: 87.7456 - mse: 11110.8281 - val_loss: 86.8921 - val_mean_absolute_error: 86.8921 - val_mse: 10832.1777\n",
            "Epoch 14/150\n",
            "231/231 [==============================] - 1s 2ms/step - loss: 87.7450 - mean_absolute_error: 87.7450 - mse: 11102.3389 - val_loss: 86.8836 - val_mean_absolute_error: 86.8836 - val_mse: 10812.0771\n",
            "Epoch 15/150\n",
            "231/231 [==============================] - 1s 2ms/step - loss: 87.7468 - mean_absolute_error: 87.7468 - mse: 11158.8818 - val_loss: 86.9062 - val_mean_absolute_error: 86.9062 - val_mse: 10774.9766\n",
            "Epoch 16/150\n",
            "231/231 [==============================] - 1s 2ms/step - loss: 87.7363 - mean_absolute_error: 87.7363 - mse: 11103.2910 - val_loss: 86.9078 - val_mean_absolute_error: 86.9078 - val_mse: 10790.8633\n",
            "Epoch 17/150\n",
            "231/231 [==============================] - 1s 2ms/step - loss: 87.7319 - mean_absolute_error: 87.7319 - mse: 11077.9268 - val_loss: 86.8770 - val_mean_absolute_error: 86.8770 - val_mse: 10834.0850\n",
            "Epoch 18/150\n",
            "231/231 [==============================] - 0s 2ms/step - loss: 87.7256 - mean_absolute_error: 87.7256 - mse: 11106.1465 - val_loss: 86.8962 - val_mean_absolute_error: 86.8962 - val_mse: 10785.7314\n",
            "Epoch 19/150\n",
            "231/231 [==============================] - 1s 2ms/step - loss: 87.7257 - mean_absolute_error: 87.7257 - mse: 11076.4639 - val_loss: 86.8582 - val_mean_absolute_error: 86.8582 - val_mse: 10867.1055\n",
            "Epoch 20/150\n",
            "231/231 [==============================] - 1s 3ms/step - loss: 87.7319 - mean_absolute_error: 87.7319 - mse: 11065.6953 - val_loss: 86.8650 - val_mean_absolute_error: 86.8650 - val_mse: 10830.2852\n",
            "Epoch 21/150\n",
            "231/231 [==============================] - 1s 2ms/step - loss: 87.7321 - mean_absolute_error: 87.7321 - mse: 11132.0391 - val_loss: 86.8834 - val_mean_absolute_error: 86.8834 - val_mse: 10832.9717\n",
            "Epoch 22/150\n",
            "231/231 [==============================] - 1s 2ms/step - loss: 87.7213 - mean_absolute_error: 87.7213 - mse: 11101.0771 - val_loss: 86.8809 - val_mean_absolute_error: 86.8809 - val_mse: 10801.3721\n",
            "Epoch 23/150\n",
            "231/231 [==============================] - 1s 2ms/step - loss: 87.7272 - mean_absolute_error: 87.7272 - mse: 11136.3018 - val_loss: 86.8732 - val_mean_absolute_error: 86.8732 - val_mse: 10805.4697\n",
            "Epoch 24/150\n",
            "231/231 [==============================] - 1s 2ms/step - loss: 87.7245 - mean_absolute_error: 87.7245 - mse: 11088.3623 - val_loss: 86.8801 - val_mean_absolute_error: 86.8801 - val_mse: 10826.1318\n",
            "Epoch 25/150\n",
            "231/231 [==============================] - 1s 2ms/step - loss: 87.7308 - mean_absolute_error: 87.7308 - mse: 11125.0449 - val_loss: 86.8843 - val_mean_absolute_error: 86.8843 - val_mse: 10814.3516\n",
            "Epoch 26/150\n",
            "231/231 [==============================] - 1s 2ms/step - loss: 87.7143 - mean_absolute_error: 87.7143 - mse: 11054.0938 - val_loss: 86.8924 - val_mean_absolute_error: 86.8924 - val_mse: 10804.0186\n",
            "Epoch 27/150\n",
            "231/231 [==============================] - 1s 2ms/step - loss: 87.7185 - mean_absolute_error: 87.7185 - mse: 11118.8232 - val_loss: 86.8708 - val_mean_absolute_error: 86.8708 - val_mse: 10829.6631\n",
            "Epoch 28/150\n",
            "231/231 [==============================] - 1s 2ms/step - loss: 87.7155 - mean_absolute_error: 87.7155 - mse: 11148.0293 - val_loss: 86.8779 - val_mean_absolute_error: 86.8779 - val_mse: 10802.5029\n",
            "Epoch 29/150\n",
            "231/231 [==============================] - 1s 2ms/step - loss: 87.7149 - mean_absolute_error: 87.7149 - mse: 11066.0439 - val_loss: 86.8640 - val_mean_absolute_error: 86.8640 - val_mse: 10814.3789\n",
            "Epoch 30/150\n",
            "231/231 [==============================] - 1s 2ms/step - loss: 87.7229 - mean_absolute_error: 87.7229 - mse: 11131.6016 - val_loss: 86.8839 - val_mean_absolute_error: 86.8839 - val_mse: 10802.7734\n",
            "Epoch 31/150\n",
            "231/231 [==============================] - 1s 2ms/step - loss: 87.7114 - mean_absolute_error: 87.7114 - mse: 11061.4102 - val_loss: 86.8780 - val_mean_absolute_error: 86.8780 - val_mse: 10806.7314\n",
            "Epoch 32/150\n",
            "231/231 [==============================] - 1s 2ms/step - loss: 87.7033 - mean_absolute_error: 87.7033 - mse: 11085.3721 - val_loss: 86.8462 - val_mean_absolute_error: 86.8462 - val_mse: 10843.2842\n",
            "Epoch 33/150\n",
            "231/231 [==============================] - 1s 2ms/step - loss: 87.7038 - mean_absolute_error: 87.7038 - mse: 11143.0576 - val_loss: 86.9056 - val_mean_absolute_error: 86.9056 - val_mse: 10775.2881\n",
            "Epoch 34/150\n",
            "231/231 [==============================] - 1s 2ms/step - loss: 87.7120 - mean_absolute_error: 87.7120 - mse: 11093.0137 - val_loss: 86.8860 - val_mean_absolute_error: 86.8860 - val_mse: 10792.0869\n",
            "Epoch 35/150\n",
            "231/231 [==============================] - 1s 2ms/step - loss: 87.7061 - mean_absolute_error: 87.7061 - mse: 11079.5430 - val_loss: 86.8775 - val_mean_absolute_error: 86.8775 - val_mse: 10823.4268\n",
            "Epoch 36/150\n",
            "231/231 [==============================] - 1s 2ms/step - loss: 87.7011 - mean_absolute_error: 87.7011 - mse: 11121.0771 - val_loss: 86.8745 - val_mean_absolute_error: 86.8745 - val_mse: 10809.0566\n",
            "Epoch 37/150\n",
            "231/231 [==============================] - 1s 2ms/step - loss: 87.7040 - mean_absolute_error: 87.7040 - mse: 11097.2578 - val_loss: 86.8736 - val_mean_absolute_error: 86.8736 - val_mse: 10807.8633\n",
            "Epoch 38/150\n",
            "231/231 [==============================] - 1s 2ms/step - loss: 87.7060 - mean_absolute_error: 87.7060 - mse: 11178.6582 - val_loss: 86.8945 - val_mean_absolute_error: 86.8945 - val_mse: 10778.1104\n",
            "Epoch 39/150\n",
            "231/231 [==============================] - 1s 2ms/step - loss: 87.7099 - mean_absolute_error: 87.7099 - mse: 11057.9160 - val_loss: 86.9027 - val_mean_absolute_error: 86.9027 - val_mse: 10781.8857\n",
            "Epoch 40/150\n",
            "231/231 [==============================] - 1s 2ms/step - loss: 87.7078 - mean_absolute_error: 87.7078 - mse: 11064.6104 - val_loss: 86.8829 - val_mean_absolute_error: 86.8829 - val_mse: 10808.7861\n",
            "Epoch 41/150\n",
            "231/231 [==============================] - 1s 2ms/step - loss: 87.7124 - mean_absolute_error: 87.7124 - mse: 11128.9502 - val_loss: 86.9248 - val_mean_absolute_error: 86.9248 - val_mse: 10796.5156\n",
            "Epoch 42/150\n",
            "231/231 [==============================] - 1s 2ms/step - loss: 87.7101 - mean_absolute_error: 87.7101 - mse: 11128.4902 - val_loss: 86.8962 - val_mean_absolute_error: 86.8962 - val_mse: 10826.8506\n",
            "Epoch 43/150\n",
            "231/231 [==============================] - 1s 2ms/step - loss: 87.7044 - mean_absolute_error: 87.7044 - mse: 11082.3809 - val_loss: 86.8539 - val_mean_absolute_error: 86.8539 - val_mse: 10845.6309\n",
            "Epoch 44/150\n",
            "231/231 [==============================] - 1s 2ms/step - loss: 87.7097 - mean_absolute_error: 87.7097 - mse: 11137.0488 - val_loss: 86.8752 - val_mean_absolute_error: 86.8752 - val_mse: 10828.0693\n",
            "Epoch 45/150\n",
            "231/231 [==============================] - 1s 2ms/step - loss: 87.7264 - mean_absolute_error: 87.7264 - mse: 11097.7305 - val_loss: 86.8930 - val_mean_absolute_error: 86.8930 - val_mse: 10794.7549\n",
            "Epoch 46/150\n",
            "231/231 [==============================] - 1s 2ms/step - loss: 87.7025 - mean_absolute_error: 87.7025 - mse: 11153.7451 - val_loss: 86.9044 - val_mean_absolute_error: 86.9044 - val_mse: 10796.6523\n",
            "Epoch 47/150\n",
            "231/231 [==============================] - 1s 2ms/step - loss: 87.7042 - mean_absolute_error: 87.7042 - mse: 11089.1934 - val_loss: 86.8880 - val_mean_absolute_error: 86.8880 - val_mse: 10793.1484\n",
            "Epoch 48/150\n",
            "231/231 [==============================] - 1s 2ms/step - loss: 87.7281 - mean_absolute_error: 87.7281 - mse: 11111.3438 - val_loss: 86.8782 - val_mean_absolute_error: 86.8782 - val_mse: 10817.3740\n",
            "Epoch 49/150\n",
            "231/231 [==============================] - 1s 2ms/step - loss: 87.7010 - mean_absolute_error: 87.7010 - mse: 11181.6113 - val_loss: 86.9458 - val_mean_absolute_error: 86.9458 - val_mse: 10754.4062\n",
            "Epoch 50/150\n",
            "231/231 [==============================] - 1s 2ms/step - loss: 87.6949 - mean_absolute_error: 87.6949 - mse: 11024.8662 - val_loss: 86.8393 - val_mean_absolute_error: 86.8393 - val_mse: 10876.4980\n",
            "Epoch 51/150\n",
            "231/231 [==============================] - 1s 2ms/step - loss: 87.7135 - mean_absolute_error: 87.7135 - mse: 11176.4219 - val_loss: 86.8805 - val_mean_absolute_error: 86.8805 - val_mse: 10828.1953\n",
            "Epoch 52/150\n",
            "231/231 [==============================] - 1s 2ms/step - loss: 87.7033 - mean_absolute_error: 87.7033 - mse: 11120.2842 - val_loss: 86.8493 - val_mean_absolute_error: 86.8493 - val_mse: 10835.7754\n",
            "Epoch 53/150\n",
            "231/231 [==============================] - 1s 2ms/step - loss: 87.7071 - mean_absolute_error: 87.7071 - mse: 11122.6250 - val_loss: 86.8792 - val_mean_absolute_error: 86.8792 - val_mse: 10816.5811\n",
            "Epoch 54/150\n",
            "231/231 [==============================] - 1s 2ms/step - loss: 87.7171 - mean_absolute_error: 87.7171 - mse: 11112.6367 - val_loss: 86.8933 - val_mean_absolute_error: 86.8933 - val_mse: 10795.3418\n",
            "Epoch 55/150\n",
            "231/231 [==============================] - 1s 2ms/step - loss: 87.7137 - mean_absolute_error: 87.7137 - mse: 11112.6885 - val_loss: 86.8929 - val_mean_absolute_error: 86.8929 - val_mse: 10798.7139\n",
            "Epoch 56/150\n",
            "231/231 [==============================] - 1s 3ms/step - loss: 87.7002 - mean_absolute_error: 87.7002 - mse: 11186.7412 - val_loss: 86.9105 - val_mean_absolute_error: 86.9105 - val_mse: 10784.6729\n",
            "Epoch 57/150\n",
            "231/231 [==============================] - 1s 2ms/step - loss: 87.7089 - mean_absolute_error: 87.7089 - mse: 11075.0264 - val_loss: 86.8765 - val_mean_absolute_error: 86.8765 - val_mse: 10805.6406\n",
            "Epoch 58/150\n",
            "231/231 [==============================] - 1s 2ms/step - loss: 87.7053 - mean_absolute_error: 87.7053 - mse: 11090.8418 - val_loss: 86.8752 - val_mean_absolute_error: 86.8752 - val_mse: 10812.6230\n",
            "Epoch 59/150\n",
            "231/231 [==============================] - 1s 2ms/step - loss: 87.7084 - mean_absolute_error: 87.7084 - mse: 11141.9062 - val_loss: 86.8725 - val_mean_absolute_error: 86.8725 - val_mse: 10823.5518\n",
            "Epoch 60/150\n",
            "231/231 [==============================] - 1s 2ms/step - loss: 87.7119 - mean_absolute_error: 87.7119 - mse: 11099.5254 - val_loss: 86.8837 - val_mean_absolute_error: 86.8837 - val_mse: 10809.1582\n",
            "Epoch 61/150\n",
            "231/231 [==============================] - 1s 2ms/step - loss: 87.6968 - mean_absolute_error: 87.6968 - mse: 11125.4971 - val_loss: 86.8820 - val_mean_absolute_error: 86.8820 - val_mse: 10807.0420\n",
            "Epoch 62/150\n",
            "231/231 [==============================] - 1s 2ms/step - loss: 87.7074 - mean_absolute_error: 87.7074 - mse: 11107.6240 - val_loss: 86.8744 - val_mean_absolute_error: 86.8744 - val_mse: 10812.0098\n",
            "Epoch 63/150\n",
            "231/231 [==============================] - 1s 2ms/step - loss: 87.7018 - mean_absolute_error: 87.7018 - mse: 11084.3535 - val_loss: 86.8765 - val_mean_absolute_error: 86.8765 - val_mse: 10814.5010\n",
            "Epoch 64/150\n",
            "231/231 [==============================] - 1s 2ms/step - loss: 87.7136 - mean_absolute_error: 87.7136 - mse: 11109.0566 - val_loss: 86.8738 - val_mean_absolute_error: 86.8738 - val_mse: 10816.8135\n",
            "Epoch 65/150\n",
            "231/231 [==============================] - 1s 2ms/step - loss: 87.7029 - mean_absolute_error: 87.7029 - mse: 11069.3975 - val_loss: 86.8416 - val_mean_absolute_error: 86.8416 - val_mse: 10868.7090\n",
            "Epoch 66/150\n",
            "231/231 [==============================] - 1s 2ms/step - loss: 87.7089 - mean_absolute_error: 87.7089 - mse: 11115.6094 - val_loss: 86.8402 - val_mean_absolute_error: 86.8402 - val_mse: 10881.6201\n",
            "Epoch 67/150\n",
            "231/231 [==============================] - 1s 2ms/step - loss: 87.7065 - mean_absolute_error: 87.7065 - mse: 11216.8193 - val_loss: 86.8960 - val_mean_absolute_error: 86.8960 - val_mse: 10805.1191\n",
            "Epoch 68/150\n",
            "231/231 [==============================] - 1s 2ms/step - loss: 87.7206 - mean_absolute_error: 87.7206 - mse: 11101.2764 - val_loss: 86.9486 - val_mean_absolute_error: 86.9486 - val_mse: 10751.6494\n",
            "Epoch 69/150\n",
            "231/231 [==============================] - 1s 2ms/step - loss: 87.7086 - mean_absolute_error: 87.7086 - mse: 11081.8418 - val_loss: 86.9092 - val_mean_absolute_error: 86.9092 - val_mse: 10783.9824\n",
            "Epoch 70/150\n",
            "231/231 [==============================] - 1s 2ms/step - loss: 87.7075 - mean_absolute_error: 87.7075 - mse: 11132.0479 - val_loss: 86.8821 - val_mean_absolute_error: 86.8821 - val_mse: 10795.8223\n",
            "Epoch 71/150\n",
            "231/231 [==============================] - 1s 2ms/step - loss: 87.7049 - mean_absolute_error: 87.7049 - mse: 11108.5996 - val_loss: 86.8683 - val_mean_absolute_error: 86.8683 - val_mse: 10806.6582\n",
            "Epoch 72/150\n",
            "231/231 [==============================] - 1s 2ms/step - loss: 87.7102 - mean_absolute_error: 87.7102 - mse: 11082.6875 - val_loss: 86.8758 - val_mean_absolute_error: 86.8758 - val_mse: 10814.5840\n",
            "Epoch 73/150\n",
            "231/231 [==============================] - 1s 2ms/step - loss: 87.7039 - mean_absolute_error: 87.7039 - mse: 11083.9639 - val_loss: 86.8611 - val_mean_absolute_error: 86.8611 - val_mse: 10826.8574\n",
            "Epoch 74/150\n",
            "231/231 [==============================] - 1s 2ms/step - loss: 87.7129 - mean_absolute_error: 87.7129 - mse: 11092.5566 - val_loss: 86.8706 - val_mean_absolute_error: 86.8706 - val_mse: 10825.9951\n",
            "Epoch 75/150\n",
            "231/231 [==============================] - 1s 2ms/step - loss: 87.7017 - mean_absolute_error: 87.7017 - mse: 11113.2129 - val_loss: 86.9080 - val_mean_absolute_error: 86.9080 - val_mse: 10810.7061\n",
            "Epoch 76/150\n",
            "231/231 [==============================] - 1s 2ms/step - loss: 87.7053 - mean_absolute_error: 87.7053 - mse: 11086.4502 - val_loss: 86.8942 - val_mean_absolute_error: 86.8942 - val_mse: 10827.7949\n",
            "Epoch 77/150\n",
            "231/231 [==============================] - 1s 2ms/step - loss: 87.7119 - mean_absolute_error: 87.7119 - mse: 11146.3252 - val_loss: 86.8998 - val_mean_absolute_error: 86.8998 - val_mse: 10799.2363\n",
            "Epoch 78/150\n",
            "231/231 [==============================] - 1s 2ms/step - loss: 87.7035 - mean_absolute_error: 87.7035 - mse: 11100.0410 - val_loss: 86.9084 - val_mean_absolute_error: 86.9084 - val_mse: 10804.8555\n",
            "Epoch 79/150\n",
            "231/231 [==============================] - 1s 2ms/step - loss: 87.7078 - mean_absolute_error: 87.7078 - mse: 11072.5059 - val_loss: 86.8837 - val_mean_absolute_error: 86.8837 - val_mse: 10836.8252\n",
            "Epoch 80/150\n",
            "231/231 [==============================] - 1s 2ms/step - loss: 87.7079 - mean_absolute_error: 87.7079 - mse: 11116.6494 - val_loss: 86.8827 - val_mean_absolute_error: 86.8827 - val_mse: 10840.2012\n",
            "Epoch 81/150\n",
            "231/231 [==============================] - 1s 2ms/step - loss: 87.7031 - mean_absolute_error: 87.7031 - mse: 11113.6846 - val_loss: 86.8635 - val_mean_absolute_error: 86.8635 - val_mse: 10855.9385\n",
            "Epoch 82/150\n",
            "231/231 [==============================] - 1s 2ms/step - loss: 87.7078 - mean_absolute_error: 87.7078 - mse: 11121.7432 - val_loss: 86.8746 - val_mean_absolute_error: 86.8746 - val_mse: 10842.3379\n",
            "Epoch 83/150\n",
            "231/231 [==============================] - 1s 2ms/step - loss: 87.7027 - mean_absolute_error: 87.7027 - mse: 11107.6699 - val_loss: 86.8929 - val_mean_absolute_error: 86.8929 - val_mse: 10805.0557\n",
            "Epoch 84/150\n",
            "231/231 [==============================] - 1s 2ms/step - loss: 87.7144 - mean_absolute_error: 87.7144 - mse: 11106.2793 - val_loss: 86.8506 - val_mean_absolute_error: 86.8506 - val_mse: 10845.8682\n",
            "Epoch 85/150\n",
            "231/231 [==============================] - 1s 2ms/step - loss: 87.7074 - mean_absolute_error: 87.7074 - mse: 11130.5215 - val_loss: 86.8722 - val_mean_absolute_error: 86.8722 - val_mse: 10803.0449\n",
            "Epoch 86/150\n",
            "231/231 [==============================] - 1s 2ms/step - loss: 87.6992 - mean_absolute_error: 87.6992 - mse: 11077.1230 - val_loss: 86.8617 - val_mean_absolute_error: 86.8617 - val_mse: 10837.7939\n",
            "Epoch 87/150\n",
            "231/231 [==============================] - 1s 2ms/step - loss: 87.7183 - mean_absolute_error: 87.7183 - mse: 11103.0850 - val_loss: 86.8793 - val_mean_absolute_error: 86.8793 - val_mse: 10829.4053\n",
            "Epoch 88/150\n",
            "231/231 [==============================] - 1s 2ms/step - loss: 87.6987 - mean_absolute_error: 87.6987 - mse: 11147.4434 - val_loss: 86.8741 - val_mean_absolute_error: 86.8741 - val_mse: 10836.5400\n",
            "Epoch 89/150\n",
            "231/231 [==============================] - 1s 2ms/step - loss: 87.7047 - mean_absolute_error: 87.7047 - mse: 11105.4629 - val_loss: 86.8524 - val_mean_absolute_error: 86.8524 - val_mse: 10847.8486\n",
            "Epoch 90/150\n",
            "231/231 [==============================] - 1s 2ms/step - loss: 87.7141 - mean_absolute_error: 87.7141 - mse: 11153.3857 - val_loss: 86.8688 - val_mean_absolute_error: 86.8688 - val_mse: 10824.1191\n",
            "Epoch 91/150\n",
            "231/231 [==============================] - 1s 3ms/step - loss: 87.7019 - mean_absolute_error: 87.7019 - mse: 11077.5645 - val_loss: 86.8699 - val_mean_absolute_error: 86.8699 - val_mse: 10825.9990\n",
            "Epoch 92/150\n",
            "231/231 [==============================] - 1s 2ms/step - loss: 87.7076 - mean_absolute_error: 87.7076 - mse: 11173.1309 - val_loss: 86.9114 - val_mean_absolute_error: 86.9114 - val_mse: 10779.3975\n",
            "Epoch 93/150\n",
            "231/231 [==============================] - 1s 2ms/step - loss: 87.7093 - mean_absolute_error: 87.7093 - mse: 11051.6299 - val_loss: 86.8521 - val_mean_absolute_error: 86.8521 - val_mse: 10827.0303\n",
            "Epoch 94/150\n",
            "231/231 [==============================] - 1s 2ms/step - loss: 87.7095 - mean_absolute_error: 87.7095 - mse: 11098.4971 - val_loss: 86.8717 - val_mean_absolute_error: 86.8717 - val_mse: 10827.5332\n",
            "Epoch 95/150\n",
            "231/231 [==============================] - 1s 2ms/step - loss: 87.7104 - mean_absolute_error: 87.7104 - mse: 11110.0908 - val_loss: 86.8621 - val_mean_absolute_error: 86.8621 - val_mse: 10837.8789\n",
            "Epoch 96/150\n",
            "231/231 [==============================] - 1s 2ms/step - loss: 87.7132 - mean_absolute_error: 87.7132 - mse: 11149.0635 - val_loss: 86.8685 - val_mean_absolute_error: 86.8685 - val_mse: 10819.7441\n",
            "Epoch 97/150\n",
            "231/231 [==============================] - 1s 2ms/step - loss: 87.7063 - mean_absolute_error: 87.7063 - mse: 11082.4590 - val_loss: 86.8697 - val_mean_absolute_error: 86.8697 - val_mse: 10839.9902\n",
            "Epoch 98/150\n",
            "231/231 [==============================] - 1s 2ms/step - loss: 87.7141 - mean_absolute_error: 87.7141 - mse: 11132.7119 - val_loss: 86.8804 - val_mean_absolute_error: 86.8804 - val_mse: 10823.0469\n",
            "Epoch 99/150\n",
            "231/231 [==============================] - 1s 2ms/step - loss: 87.6983 - mean_absolute_error: 87.6983 - mse: 11172.8691 - val_loss: 86.9183 - val_mean_absolute_error: 86.9183 - val_mse: 10778.9844\n",
            "Epoch 100/150\n",
            "231/231 [==============================] - 1s 2ms/step - loss: 87.7163 - mean_absolute_error: 87.7163 - mse: 11050.0996 - val_loss: 86.8591 - val_mean_absolute_error: 86.8591 - val_mse: 10835.7607\n",
            "Epoch 101/150\n",
            "231/231 [==============================] - 1s 2ms/step - loss: 87.7179 - mean_absolute_error: 87.7179 - mse: 11099.9697 - val_loss: 86.8629 - val_mean_absolute_error: 86.8629 - val_mse: 10842.2412\n",
            "Epoch 102/150\n",
            "231/231 [==============================] - 1s 2ms/step - loss: 87.7116 - mean_absolute_error: 87.7116 - mse: 11189.6855 - val_loss: 86.9016 - val_mean_absolute_error: 86.9016 - val_mse: 10810.8232\n",
            "Epoch 103/150\n",
            "231/231 [==============================] - 1s 2ms/step - loss: 87.6992 - mean_absolute_error: 87.6992 - mse: 11056.2402 - val_loss: 86.8495 - val_mean_absolute_error: 86.8495 - val_mse: 10864.6025\n",
            "Epoch 104/150\n",
            "231/231 [==============================] - 1s 2ms/step - loss: 87.7201 - mean_absolute_error: 87.7201 - mse: 11137.0020 - val_loss: 86.8806 - val_mean_absolute_error: 86.8806 - val_mse: 10842.5479\n",
            "Epoch 105/150\n",
            "231/231 [==============================] - 1s 2ms/step - loss: 87.7019 - mean_absolute_error: 87.7019 - mse: 11150.3369 - val_loss: 86.8971 - val_mean_absolute_error: 86.8971 - val_mse: 10803.7061\n",
            "Epoch 106/150\n",
            "231/231 [==============================] - 1s 2ms/step - loss: 87.7186 - mean_absolute_error: 87.7186 - mse: 11120.4092 - val_loss: 86.8564 - val_mean_absolute_error: 86.8564 - val_mse: 10825.4482\n",
            "Epoch 107/150\n",
            "231/231 [==============================] - 1s 2ms/step - loss: 87.7150 - mean_absolute_error: 87.7150 - mse: 11098.8359 - val_loss: 86.8501 - val_mean_absolute_error: 86.8501 - val_mse: 10836.8994\n",
            "Epoch 108/150\n",
            "231/231 [==============================] - 1s 2ms/step - loss: 87.7179 - mean_absolute_error: 87.7179 - mse: 11084.8350 - val_loss: 86.8597 - val_mean_absolute_error: 86.8597 - val_mse: 10840.5850\n",
            "Epoch 109/150\n",
            "231/231 [==============================] - 1s 2ms/step - loss: 87.7034 - mean_absolute_error: 87.7034 - mse: 11170.4922 - val_loss: 86.8698 - val_mean_absolute_error: 86.8698 - val_mse: 10806.3213\n",
            "Epoch 110/150\n",
            "231/231 [==============================] - 1s 2ms/step - loss: 87.7052 - mean_absolute_error: 87.7052 - mse: 11058.4482 - val_loss: 86.8689 - val_mean_absolute_error: 86.8689 - val_mse: 10831.7432\n",
            "Epoch 111/150\n",
            "231/231 [==============================] - 1s 2ms/step - loss: 87.7131 - mean_absolute_error: 87.7131 - mse: 11110.7842 - val_loss: 86.8672 - val_mean_absolute_error: 86.8672 - val_mse: 10823.7363\n",
            "Epoch 112/150\n",
            "231/231 [==============================] - 1s 2ms/step - loss: 87.7084 - mean_absolute_error: 87.7084 - mse: 11119.8623 - val_loss: 86.8823 - val_mean_absolute_error: 86.8823 - val_mse: 10815.9629\n",
            "Epoch 113/150\n",
            "231/231 [==============================] - 1s 2ms/step - loss: 87.7134 - mean_absolute_error: 87.7134 - mse: 11105.9668 - val_loss: 86.8870 - val_mean_absolute_error: 86.8870 - val_mse: 10808.4688\n",
            "Epoch 114/150\n",
            "231/231 [==============================] - 1s 2ms/step - loss: 87.7008 - mean_absolute_error: 87.7008 - mse: 11145.6562 - val_loss: 86.9014 - val_mean_absolute_error: 86.9014 - val_mse: 10793.3613\n",
            "Epoch 115/150\n",
            "231/231 [==============================] - 1s 2ms/step - loss: 87.7087 - mean_absolute_error: 87.7087 - mse: 11083.1396 - val_loss: 86.8737 - val_mean_absolute_error: 86.8737 - val_mse: 10801.1064\n",
            "Epoch 116/150\n",
            "231/231 [==============================] - 1s 2ms/step - loss: 87.7065 - mean_absolute_error: 87.7065 - mse: 11080.7666 - val_loss: 86.8590 - val_mean_absolute_error: 86.8590 - val_mse: 10832.2197\n",
            "Epoch 117/150\n",
            "231/231 [==============================] - 1s 2ms/step - loss: 87.7157 - mean_absolute_error: 87.7157 - mse: 11106.7129 - val_loss: 86.8709 - val_mean_absolute_error: 86.8709 - val_mse: 10820.2686\n",
            "Epoch 118/150\n",
            "231/231 [==============================] - 1s 2ms/step - loss: 87.7125 - mean_absolute_error: 87.7125 - mse: 11111.7686 - val_loss: 86.8710 - val_mean_absolute_error: 86.8710 - val_mse: 10831.5947\n",
            "Epoch 119/150\n",
            "231/231 [==============================] - 1s 2ms/step - loss: 87.7012 - mean_absolute_error: 87.7012 - mse: 11140.8848 - val_loss: 86.9160 - val_mean_absolute_error: 86.9160 - val_mse: 10787.3623\n",
            "Epoch 120/150\n",
            "231/231 [==============================] - 1s 2ms/step - loss: 87.7094 - mean_absolute_error: 87.7094 - mse: 11074.9951 - val_loss: 86.8680 - val_mean_absolute_error: 86.8680 - val_mse: 10817.8711\n",
            "Epoch 121/150\n",
            "231/231 [==============================] - 1s 2ms/step - loss: 87.7117 - mean_absolute_error: 87.7117 - mse: 11107.6650 - val_loss: 86.8762 - val_mean_absolute_error: 86.8762 - val_mse: 10812.7871\n",
            "Epoch 122/150\n",
            "231/231 [==============================] - 1s 2ms/step - loss: 87.7033 - mean_absolute_error: 87.7033 - mse: 11066.0693 - val_loss: 86.8703 - val_mean_absolute_error: 86.8703 - val_mse: 10828.7969\n",
            "Epoch 123/150\n",
            "231/231 [==============================] - 1s 2ms/step - loss: 87.6999 - mean_absolute_error: 87.6999 - mse: 11075.0010 - val_loss: 86.8464 - val_mean_absolute_error: 86.8464 - val_mse: 10867.6855\n",
            "Epoch 124/150\n",
            "231/231 [==============================] - 1s 2ms/step - loss: 87.7107 - mean_absolute_error: 87.7107 - mse: 11161.9395 - val_loss: 86.8746 - val_mean_absolute_error: 86.8746 - val_mse: 10859.2559\n",
            "Epoch 125/150\n",
            "231/231 [==============================] - 1s 2ms/step - loss: 87.7074 - mean_absolute_error: 87.7074 - mse: 11139.1621 - val_loss: 86.9019 - val_mean_absolute_error: 86.9019 - val_mse: 10800.5557\n",
            "Epoch 126/150\n",
            "231/231 [==============================] - 1s 2ms/step - loss: 87.7047 - mean_absolute_error: 87.7047 - mse: 11093.2979 - val_loss: 86.8723 - val_mean_absolute_error: 86.8723 - val_mse: 10834.8779\n",
            "Epoch 127/150\n",
            "231/231 [==============================] - 1s 3ms/step - loss: 87.7040 - mean_absolute_error: 87.7040 - mse: 11128.0449 - val_loss: 86.8810 - val_mean_absolute_error: 86.8810 - val_mse: 10814.5518\n",
            "Epoch 128/150\n",
            "231/231 [==============================] - 1s 2ms/step - loss: 87.7061 - mean_absolute_error: 87.7061 - mse: 11077.7910 - val_loss: 86.8907 - val_mean_absolute_error: 86.8907 - val_mse: 10818.6211\n",
            "Epoch 129/150\n",
            "231/231 [==============================] - 1s 2ms/step - loss: 87.7075 - mean_absolute_error: 87.7075 - mse: 11120.2070 - val_loss: 86.8777 - val_mean_absolute_error: 86.8777 - val_mse: 10810.4238\n",
            "Epoch 130/150\n",
            "231/231 [==============================] - 1s 2ms/step - loss: 87.7087 - mean_absolute_error: 87.7087 - mse: 11097.9619 - val_loss: 86.8817 - val_mean_absolute_error: 86.8817 - val_mse: 10820.2969\n",
            "Epoch 131/150\n",
            "231/231 [==============================] - 1s 2ms/step - loss: 87.7098 - mean_absolute_error: 87.7098 - mse: 11136.4863 - val_loss: 86.8763 - val_mean_absolute_error: 86.8763 - val_mse: 10826.0830\n",
            "Epoch 132/150\n",
            "231/231 [==============================] - 1s 2ms/step - loss: 87.7191 - mean_absolute_error: 87.7191 - mse: 11111.0713 - val_loss: 86.8746 - val_mean_absolute_error: 86.8746 - val_mse: 10825.4414\n",
            "Epoch 133/150\n",
            "231/231 [==============================] - 1s 2ms/step - loss: 87.7063 - mean_absolute_error: 87.7063 - mse: 11137.3809 - val_loss: 86.8736 - val_mean_absolute_error: 86.8736 - val_mse: 10807.0977\n",
            "Epoch 134/150\n",
            "231/231 [==============================] - 1s 2ms/step - loss: 87.7054 - mean_absolute_error: 87.7054 - mse: 11093.8760 - val_loss: 86.8691 - val_mean_absolute_error: 86.8691 - val_mse: 10817.3164\n",
            "Epoch 135/150\n",
            "231/231 [==============================] - 1s 2ms/step - loss: 87.7132 - mean_absolute_error: 87.7132 - mse: 11116.8574 - val_loss: 86.8863 - val_mean_absolute_error: 86.8863 - val_mse: 10798.4004\n",
            "Epoch 136/150\n",
            "231/231 [==============================] - 1s 2ms/step - loss: 87.7216 - mean_absolute_error: 87.7216 - mse: 11078.6152 - val_loss: 86.8773 - val_mean_absolute_error: 86.8773 - val_mse: 10825.3057\n",
            "Epoch 137/150\n",
            "231/231 [==============================] - 1s 2ms/step - loss: 87.7082 - mean_absolute_error: 87.7082 - mse: 11074.5518 - val_loss: 86.8654 - val_mean_absolute_error: 86.8654 - val_mse: 10851.2041\n",
            "Epoch 138/150\n",
            "231/231 [==============================] - 1s 2ms/step - loss: 87.6976 - mean_absolute_error: 87.6976 - mse: 11105.9043 - val_loss: 86.8450 - val_mean_absolute_error: 86.8450 - val_mse: 10888.5889\n",
            "Epoch 139/150\n",
            "231/231 [==============================] - 1s 2ms/step - loss: 87.7088 - mean_absolute_error: 87.7088 - mse: 11150.8320 - val_loss: 86.8805 - val_mean_absolute_error: 86.8805 - val_mse: 10847.9727\n",
            "Epoch 140/150\n",
            "231/231 [==============================] - 1s 2ms/step - loss: 87.6989 - mean_absolute_error: 87.6989 - mse: 11138.0342 - val_loss: 86.8552 - val_mean_absolute_error: 86.8552 - val_mse: 10854.0283\n",
            "Epoch 141/150\n",
            "231/231 [==============================] - 1s 2ms/step - loss: 87.7216 - mean_absolute_error: 87.7216 - mse: 11092.0176 - val_loss: 86.8651 - val_mean_absolute_error: 86.8651 - val_mse: 10829.6230\n",
            "Epoch 142/150\n",
            "231/231 [==============================] - 1s 2ms/step - loss: 87.7068 - mean_absolute_error: 87.7068 - mse: 11110.9316 - val_loss: 86.8488 - val_mean_absolute_error: 86.8488 - val_mse: 10880.8682\n",
            "Epoch 143/150\n",
            "231/231 [==============================] - 1s 2ms/step - loss: 87.7084 - mean_absolute_error: 87.7084 - mse: 11126.5762 - val_loss: 86.8760 - val_mean_absolute_error: 86.8760 - val_mse: 10821.1270\n",
            "Epoch 144/150\n",
            "231/231 [==============================] - 1s 2ms/step - loss: 87.6965 - mean_absolute_error: 87.6965 - mse: 11076.8984 - val_loss: 86.8533 - val_mean_absolute_error: 86.8533 - val_mse: 10860.7334\n",
            "Epoch 145/150\n",
            "231/231 [==============================] - 1s 2ms/step - loss: 87.7084 - mean_absolute_error: 87.7084 - mse: 11144.6934 - val_loss: 86.8713 - val_mean_absolute_error: 86.8713 - val_mse: 10824.9834\n",
            "Epoch 146/150\n",
            "231/231 [==============================] - 1s 2ms/step - loss: 87.7046 - mean_absolute_error: 87.7046 - mse: 11117.3643 - val_loss: 86.8851 - val_mean_absolute_error: 86.8851 - val_mse: 10816.8730\n",
            "Epoch 147/150\n",
            "231/231 [==============================] - 1s 2ms/step - loss: 87.7006 - mean_absolute_error: 87.7006 - mse: 11078.3750 - val_loss: 86.8723 - val_mean_absolute_error: 86.8723 - val_mse: 10820.1172\n",
            "Epoch 148/150\n",
            "231/231 [==============================] - 1s 2ms/step - loss: 87.7058 - mean_absolute_error: 87.7058 - mse: 11106.4775 - val_loss: 86.8551 - val_mean_absolute_error: 86.8551 - val_mse: 10844.1133\n",
            "Epoch 149/150\n",
            "231/231 [==============================] - 1s 2ms/step - loss: 87.6993 - mean_absolute_error: 87.6993 - mse: 11075.7646 - val_loss: 86.8505 - val_mean_absolute_error: 86.8505 - val_mse: 10857.4131\n",
            "Epoch 150/150\n",
            "231/231 [==============================] - 1s 2ms/step - loss: 87.7086 - mean_absolute_error: 87.7086 - mse: 11159.7373 - val_loss: 86.8718 - val_mean_absolute_error: 86.8718 - val_mse: 10823.2051\n"
          ],
          "name": "stdout"
        }
      ]
    },
    {
      "cell_type": "code",
      "metadata": {
        "id": "hz7JAfs3xcOg",
        "colab": {
          "base_uri": "https://localhost:8080/",
          "height": 573
        },
        "outputId": "cf8c0e62-2d4c-4455-fbd7-9bd819eb7e91"
      },
      "source": [
        "# summarize history for accuracy\r\n",
        "plt.plot(history.history['mean_absolute_error'])\r\n",
        "plt.plot(history.history['val_mean_absolute_error'])\r\n",
        "plt.title('model accuracy')\r\n",
        "plt.ylabel('accuracy')\r\n",
        "plt.xlabel('epoch')\r\n",
        "plt.legend(['train', 'test'], loc='upper left')\r\n",
        "plt.show()\r\n",
        "# summarize history for loss\r\n",
        "plt.plot(history.history['loss'])\r\n",
        "plt.plot(history.history['val_loss'])\r\n",
        "plt.title('model loss')\r\n",
        "plt.ylabel('loss')\r\n",
        "plt.xlabel('epoch')\r\n",
        "plt.legend(['train', 'test'], loc='upper left')\r\n",
        "plt.show()\r\n"
      ],
      "execution_count": 82,
      "outputs": [
        {
          "output_type": "display_data",
          "data": {
            "image/png": "[encoded data removed]",
            "text/plain": [
              "<Figure size 432x288 with 1 Axes>"
            ]
          },
          "metadata": {
            "tags": [],
            "needs_background": "light"
          }
        },
        {
          "output_type": "display_data",
          "data": {
            "image/png": "[encoded data removed]",
            "text/plain": [
              "<Figure size 432x288 with 1 Axes>"
            ]
          },
          "metadata": {
            "tags": [],
            "needs_background": "light"
          }
        }
      ]
    },
    {
      "cell_type": "code",
      "metadata": {
        "id": "fwzumtXd8el-",
        "colab": {
          "base_uri": "https://localhost:8080/"
        },
        "outputId": "b4028afc-a95e-4561-84fc-7f60ee80f594"
      },
      "source": [
        "model.evaluate(X_train, y_train)[1]"
      ],
      "execution_count": 83,
      "outputs": [
        {
          "output_type": "stream",
          "text": [
            "231/231 [==============================] - 0s 1ms/step - loss: 87.6730 - mean_absolute_error: 87.6730 - mse: 11105.8623\n"
          ],
          "name": "stdout"
        },
        {
          "output_type": "execute_result",
          "data": {
            "text/plain": [
              "87.67298126220703"
            ]
          },
          "metadata": {
            "tags": []
          },
          "execution_count": 83
        }
      ]
    },
    {
      "cell_type": "code",
      "metadata": {
        "id": "HYQbRwZAxcZx"
      },
      "source": [
        "prediction = model.predict(X_test)\r\n"
      ],
      "execution_count": 84,
      "outputs": []
    },
    {
      "cell_type": "code",
      "metadata": {
        "id": "pw_8qq05PcPB"
      },
      "source": [
        "from keras.models import load_model\r\n",
        "\r\n",
        "model.save('my_model.h5')  # creates a HDF5 file 'my_model.h5'\r\n",
        "del model  # deletes the existing model\r\n",
        "\r\n",
        "# returns a compiled model\r\n",
        "# identical to the previous one\r\n",
        "model = load_model('my_model.h5')\r\n"
      ],
      "execution_count": 85,
      "outputs": []
    },
    {
      "cell_type": "code",
      "metadata": {
        "id": "QgtBkP1WD1tY",
        "colab": {
          "base_uri": "https://localhost:8080/"
        },
        "outputId": "b22dfd14-3226-446a-cfaf-497a8dd8c23d"
      },
      "source": [
        "model.to_json"
      ],
      "execution_count": 86,
      "outputs": [
        {
          "output_type": "execute_result",
          "data": {
            "text/plain": [
              "<bound method Model.to_json of <tensorflow.python.keras.engine.sequential.Sequential object at 0x7fde03db3e48>>"
            ]
          },
          "metadata": {
            "tags": []
          },
          "execution_count": 86
        }
      ]
    },
    {
      "cell_type": "code",
      "metadata": {
        "id": "zP_42NT2Zx_B"
      },
      "source": [
        "import tensorflowjs as tfjs"
      ],
      "execution_count": 87,
      "outputs": []
    },
    {
      "cell_type": "code",
      "metadata": {
        "id": "LgmDxYeXXRa0",
        "colab": {
          "base_uri": "https://localhost:8080/"
        },
        "outputId": "b62a1178-5b53-41d9-c7a2-2671fc237622"
      },
      "source": [
        "    # Modify as needed.\r\n",
        "tfjs_target_dir = \"/tmp/my_model.h5-tfjs\"\r\n",
        "\r\n",
        "tfjs.converters.save_keras_model(model, tfjs_target_dir)"
      ],
      "execution_count": 88,
      "outputs": [
        {
          "output_type": "stream",
          "text": [
            "/usr/local/lib/python3.6/dist-packages/tensorflowjs/converters/keras_h5_conversion.py:123: H5pyDeprecationWarning: The default file mode will change to 'r' (read-only) in h5py 3.0. To suppress this warning, pass the mode you need to h5py.File(), or set the global default h5.get_config().default_file_mode, or set the environment variable H5PY_DEFAULT_READONLY=1. Available modes are: 'r', 'r+', 'w', 'w-'/'x', 'a'. See the docs for details.\n",
            "  return h5py.File(h5file)\n"
          ],
          "name": "stderr"
        }
      ]
    },
    {
      "cell_type": "code",
      "metadata": {
        "id": "xKH4_26MXRdP",
        "colab": {
          "base_uri": "https://localhost:8080/"
        },
        "outputId": "a8507e3b-4fbe-43d0-a2bf-180264f6fd6b"
      },
      "source": [
        "!ls -la /tmp/my_model.h5-tfjs\r\n"
      ],
      "execution_count": 89,
      "outputs": [
        {
          "output_type": "stream",
          "text": [
            "total 16\n",
            "drwxr-xr-x 2 root root 4096 Jan  9 07:40 .\n",
            "drwxrwxrwt 1 root root 4096 Jan  9 07:44 ..\n",
            "-rw-r--r-- 1 root root  840 Jan  9 07:44 group1-shard1of1.bin\n",
            "-rw-r--r-- 1 root root 2698 Jan  9 07:44 model.json\n"
          ],
          "name": "stdout"
        }
      ]
    },
    {
      "cell_type": "code",
      "metadata": {
        "id": "RY0snaNX-s49",
        "colab": {
          "base_uri": "https://localhost:8080/"
        },
        "outputId": "e6de7e66-2b96-42c9-8b9d-2fa86cbd0f0d"
      },
      "source": [
        "# serialize model to JSON\r\n",
        "model_json = model.to_json()\r\n",
        "with open(\"model.json\", \"w\") as json_file:\r\n",
        "    json_file.write(model_json)\r\n",
        "# serialize weights to HDF5\r\n",
        "model.save_weights(\"model.h5\")\r\n",
        "print(\"Saved model to disk\")\r\n"
      ],
      "execution_count": 90,
      "outputs": [
        {
          "output_type": "stream",
          "text": [
            "Saved model to disk\n"
          ],
          "name": "stdout"
        }
      ]
    },
    {
      "cell_type": "code",
      "metadata": {
        "id": "BzydbGiV-s8F",
        "colab": {
          "base_uri": "https://localhost:8080/"
        },
        "outputId": "a635dec9-b61a-43a5-9b2b-636c5b4f7a73"
      },
      "source": [
        "# load json and create model\r\n",
        "json_file = open('model.json', 'r')\r\n",
        "loaded_model_json = json_file.read()\r\n",
        "json_file.close()\r\n",
        "loaded_model = model_from_json(loaded_model_json)\r\n",
        "# load weights into new model\r\n",
        "loaded_model.load_weights(\"model.h5\")\r\n",
        "print(\"Loaded model from disk\")\r\n"
      ],
      "execution_count": 91,
      "outputs": [
        {
          "output_type": "stream",
          "text": [
            "Loaded model from disk\n"
          ],
          "name": "stdout"
        }
      ]
    },
    {
      "cell_type": "code",
      "metadata": {
        "id": "I2CMMJJ_-s-y",
        "colab": {
          "base_uri": "https://localhost:8080/"
        },
        "outputId": "26d1d4f8-078d-41fb-87b7-0bdf865f9586"
      },
      "source": [
        "# evaluate loaded model on test data\r\n",
        "loaded_model.compile(loss='binary_crossentropy', optimizer='rmsprop', metrics=['accuracy'])\r\n",
        "score = loaded_model.evaluate(X_test, y_test, verbose=0)\r\n",
        "print(\"%s: %.2f%%\" % (loaded_model.metrics_names[1], score[1]*100))"
      ],
      "execution_count": 92,
      "outputs": [
        {
          "output_type": "stream",
          "text": [
            "accuracy: 0.19%\n"
          ],
          "name": "stdout"
        }
      ]
    },
    {
      "cell_type": "code",
      "metadata": {
        "id": "tiTKlB4s-tCT"
      },
      "source": [
        "import json"
      ],
      "execution_count": 93,
      "outputs": []
    },
    {
      "cell_type": "code",
      "metadata": {
        "id": "ASqQAnIKsFbH"
      },
      "source": [
        "# read file\r\n",
        "with open('model.json', 'r') as myfile:\r\n",
        "    data=myfile.read()\r\n"
      ],
      "execution_count": 94,
      "outputs": []
    },
    {
      "cell_type": "code",
      "metadata": {
        "id": "dKarvHDyxhxE"
      },
      "source": [
        "# parse file\r\n",
        "obj = json.loads(data)\r\n"
      ],
      "execution_count": 95,
      "outputs": []
    },
    {
      "cell_type": "code",
      "metadata": {
        "id": "RracduOkyDMr",
        "colab": {
          "base_uri": "https://localhost:8080/"
        },
        "outputId": "587a1524-da28-4b51-b4d8-d8c2d831c572"
      },
      "source": [
        "print(obj)"
      ],
      "execution_count": 96,
      "outputs": [
        {
          "output_type": "stream",
          "text": [
            "{'class_name': 'Sequential', 'config': {'name': 'sequential_3', 'layers': [{'class_name': 'InputLayer', 'config': {'batch_input_shape': [None, 5], 'dtype': 'float32', 'sparse': False, 'ragged': False, 'name': 'dense_9_input'}}, {'class_name': 'Dense', 'config': {'name': 'dense_9', 'trainable': True, 'dtype': 'float32', 'units': 3, 'activation': 'relu', 'use_bias': True, 'kernel_initializer': {'class_name': 'GlorotUniform', 'config': {'seed': None}}, 'bias_initializer': {'class_name': 'Zeros', 'config': {}}, 'kernel_regularizer': None, 'bias_regularizer': None, 'activity_regularizer': None, 'kernel_constraint': None, 'bias_constraint': None}}, {'class_name': 'Dense', 'config': {'name': 'dense_10', 'trainable': True, 'dtype': 'float32', 'units': 3, 'activation': 'relu', 'use_bias': True, 'kernel_initializer': {'class_name': 'GlorotUniform', 'config': {'seed': None}}, 'bias_initializer': {'class_name': 'Zeros', 'config': {}}, 'kernel_regularizer': None, 'bias_regularizer': None, 'activity_regularizer': None, 'kernel_constraint': None, 'bias_constraint': None}}, {'class_name': 'Dense', 'config': {'name': 'dense_11', 'trainable': True, 'dtype': 'float32', 'units': 45, 'activation': 'linear', 'use_bias': True, 'kernel_initializer': {'class_name': 'GlorotUniform', 'config': {'seed': None}}, 'bias_initializer': {'class_name': 'Zeros', 'config': {}}, 'kernel_regularizer': None, 'bias_regularizer': None, 'activity_regularizer': None, 'kernel_constraint': None, 'bias_constraint': None}}]}, 'keras_version': '2.4.0', 'backend': 'tensorflow'}\n"
          ],
          "name": "stdout"
        }
      ]
    },
    {
      "cell_type": "code",
      "metadata": {
        "id": "4CQZGotZyNwY"
      },
      "source": [
        ""
      ],
      "execution_count": 72,
      "outputs": []
    }
  ]
}